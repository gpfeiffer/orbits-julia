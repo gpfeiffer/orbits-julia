{
 "cells": [
  {
   "cell_type": "markdown",
   "id": "90599f92",
   "metadata": {},
   "source": [
    "## Computational Aspects of Complex Reflection Groups\n",
    "\n",
    "Götz Pfeiffer - University of Galway\n",
    "\n",
    "# 4. Vectors: Enumerating Modules and Hecke Algebras"
   ]
  },
  {
   "cell_type": "markdown",
   "id": "7b96c041",
   "metadata": {},
   "source": [
    "![Benches](images/benches.jpg)"
   ]
  },
  {
   "cell_type": "markdown",
   "id": "16e7de83",
   "metadata": {},
   "source": [
    "## Setup"
   ]
  },
  {
   "cell_type": "markdown",
   "id": "bb2af4b0",
   "metadata": {},
   "source": [
    "First, reload the algorithms from the last day ..."
   ]
  },
  {
   "cell_type": "code",
   "execution_count": null,
   "id": "b274640f",
   "metadata": {},
   "outputs": [],
   "source": [
    "#LoadPackage(\"jupyterviz\");\n",
    "#opts := rec(vertexwidth := 12, vertexheight := 12, edgecolor := \"#def\");;\n",
    "#Read(\"orbits.g\");\n",
    "#Read(\"coxeter.g\");\n",
    "#Read(\"variants.g\");\n",
    "#Read(\"enumerate.g\");\n",
    "#Read(\"examples.g\");"
   ]
  },
  {
   "cell_type": "markdown",
   "id": "07a2bc9e",
   "metadata": {},
   "source": [
    "##  Spinning: $K$-Linear Orbit Algorithm"
   ]
  },
  {
   "cell_type": "markdown",
   "id": "f8618cbd",
   "metadata": {},
   "source": [
    "* In the **linear** version, the points of an orbit are linearly independent vectors in $K^n$.\n",
    "* And the acting operators are like matrices in $K^{n\\times n}$."
   ]
  },
  {
   "cell_type": "code",
   "execution_count": null,
   "id": "3a92f7f4",
   "metadata": {},
   "outputs": [],
   "source": [
    "function spinning(aaa, x, under)\n",
    "    list = [x]\n",
    "    for y in list\n",
    "        for a in aaa\n",
    "            z = under(y, a)\n",
    "            z in VectorSpace(Rationals, list) || push!(list, z)\n",
    "        end\n",
    "    end\n",
    "    return list\n",
    "end"
   ]
  },
  {
   "cell_type": "markdown",
   "id": "e4c56ab6",
   "metadata": {},
   "source": [
    "### Example"
   ]
  },
  {
   "cell_type": "code",
   "execution_count": null,
   "id": "9379984e",
   "metadata": {},
   "outputs": [],
   "source": [
    "A := [\n",
    "[0,1,0,0,0],\n",
    "[0,0,1,0,0],\n",
    "[0,0,0,1,0],\n",
    "[0,0,0,0,1],\n",
    "-[1,1,1,1,1],\n",
    "];"
   ]
  },
  {
   "cell_type": "code",
   "execution_count": null,
   "id": "61ee2523",
   "metadata": {},
   "outputs": [],
   "source": [
    "spinning([A], [0,0,1,0,0], OnRight);"
   ]
  },
  {
   "cell_type": "code",
   "execution_count": null,
   "id": "5b46c038",
   "metadata": {},
   "outputs": [],
   "source": [
    "spinning([A], [1,1,0,1,1], OnRight);"
   ]
  },
  {
   "cell_type": "code",
   "execution_count": null,
   "id": "2314e4b1",
   "metadata": {},
   "outputs": [],
   "source": [
    "spinning([A], [1,0,1,0,1], OnRight);"
   ]
  },
  {
   "cell_type": "markdown",
   "id": "ab28ef0c",
   "metadata": {},
   "source": [
    "##  Spinning with Images"
   ]
  },
  {
   "cell_type": "markdown",
   "id": "851f6c00",
   "metadata": {},
   "source": [
    "* We will need to be able to convert between sparse and dense representations of vectors."
   ]
  },
  {
   "cell_type": "code",
   "execution_count": null,
   "id": "af114fb4",
   "metadata": {},
   "outputs": [],
   "source": [
    "sparseVec:= function(vec)\n",
    "    local   poss;\n",
    "    poss:= PositionsProperty(vec, v -> v <> Zero(v));\n",
    "    return rec(pos := poss,  val:= vec{poss});\n",
    "end;\n",
    "\n",
    "denseVec:= function(l, v)\n",
    "    local   vec;\n",
    "    vec := 0*[1..l];  vec{v.pos} := v.val;\n",
    "    return vec;\n",
    "end;"
   ]
  },
  {
   "cell_type": "code",
   "execution_count": null,
   "id": "ed2b75d5",
   "metadata": {},
   "outputs": [],
   "source": [
    "vec := [0,0,1,1,0];\n",
    "v := sparseVec(vec);"
   ]
  },
  {
   "cell_type": "code",
   "execution_count": null,
   "id": "b1e6a66d",
   "metadata": {},
   "outputs": [],
   "source": [
    "denseVec(Length(vec), v) = vec;"
   ]
  },
  {
   "cell_type": "markdown",
   "id": "64f55f42",
   "metadata": {},
   "source": [
    "* spinning with images (cf. orbit with images)\n",
    "\n",
    "* In the linear version the images are vectors: linear combination of the base points."
   ]
  },
  {
   "cell_type": "code",
   "execution_count": null,
   "id": "8d87b8a5",
   "metadata": {},
   "outputs": [],
   "source": [
    "spinning_with_images :=  function(aaa, x, under)\n",
    "    local   list,  images,  i,  y,  k,  a,  z,  v;\n",
    "    list := [x];  images := List(aaa, x-> []);  i := 0;\n",
    "    while i < Length(list) do\n",
    "        i := i+1;  y := list[i];\n",
    "        for k in [1..Length(aaa)] do\n",
    "            a := aaa[k];  z := under(y, a);\n",
    "            v := SolutionMat(list, z);\n",
    "            if v = fail then\n",
    "                Add(list, z);\n",
    "                v := rec(pos := [Length(list)], val := [1]);\n",
    "            else\n",
    "                v := sparseVec(v);\n",
    "            fi;\n",
    "            images[k][i]:= v;\n",
    "        od;\n",
    "    od;\n",
    "    return rec(list := list, images := images);\n",
    "end;"
   ]
  },
  {
   "cell_type": "markdown",
   "id": "239f1308",
   "metadata": {},
   "source": [
    "### Example: Specht-Module"
   ]
  },
  {
   "cell_type": "markdown",
   "id": "b6feb437",
   "metadata": {},
   "source": [
    "* Everybody knows that Specht modules are made of Standard Young Tableaus ...\n",
    "* Here is a random one, of shape $\\lambda = (2,2,1)$ (for the rest see the exercise on SYTs in part 1)."
   ]
  },
  {
   "cell_type": "code",
   "execution_count": null,
   "id": "2a768949",
   "metadata": {},
   "outputs": [],
   "source": [
    "tab := [\n",
    "  [1,4],\n",
    "  [2,5],\n",
    "  [3],\n",
    "];"
   ]
  },
  {
   "cell_type": "markdown",
   "id": "05d72aa0",
   "metadata": {},
   "source": [
    "* and the corresponding symmetric group"
   ]
  },
  {
   "cell_type": "code",
   "execution_count": null,
   "id": "830d91e9",
   "metadata": {},
   "outputs": [],
   "source": [
    "N := Sum(tab, Length);;  gens := transpositions(N);"
   ]
  },
  {
   "cell_type": "markdown",
   "id": "be1a7db1",
   "metadata": {},
   "source": [
    "* each tableau (standard or not) yields a (row) word, recording for each number the row it is in."
   ]
  },
  {
   "cell_type": "code",
   "execution_count": null,
   "id": "4c0f8f3c",
   "metadata": {},
   "outputs": [],
   "source": [
    "wordTab := function(tab)\n",
    "    local   word,  i;\n",
    "    word := [];\n",
    "    for i in [1..Length(tab)] do\n",
    "        word{tab[i]} := 0*tab[i] + i;\n",
    "    od;\n",
    "    return word;\n",
    "end;"
   ]
  },
  {
   "cell_type": "code",
   "execution_count": null,
   "id": "9b41c019",
   "metadata": {},
   "outputs": [],
   "source": [
    "wordTab(tab);"
   ]
  },
  {
   "cell_type": "markdown",
   "id": "15058a87",
   "metadata": {},
   "source": [
    "* the column stabilizer is the stabilizer of the column word.\n",
    "* the orbit of a tableau under the column stabilizer is a (column) tabloid."
   ]
  },
  {
   "cell_type": "code",
   "execution_count": null,
   "id": "2e6562cb",
   "metadata": {},
   "outputs": [],
   "source": [
    "colWord := wordTab(TransposedMat(tab));\n",
    "stab := takeAway(orbit_with_stabilizer(gens, colWord, Permuted).stab, ());\n",
    "tabs := orbit_with_transversal(stab, tab, OnTuplesTuples);"
   ]
  },
  {
   "cell_type": "markdown",
   "id": "21123c2d",
   "metadata": {},
   "source": [
    "* the symmetric group acts on the row words"
   ]
  },
  {
   "cell_type": "code",
   "execution_count": null,
   "id": "426d750f",
   "metadata": {},
   "outputs": [],
   "source": [
    "orb := orbit_with_images(gens, wordTab(tab), Permuted);\n",
    "words := orb.list;;\n",
    "perms := List(orb.images, PermList);"
   ]
  },
  {
   "cell_type": "markdown",
   "id": "9b738977",
   "metadata": {},
   "source": [
    "* the polytabloid is a signed combination of tabloids, written as a vector in the permutation module."
   ]
  },
  {
   "cell_type": "code",
   "execution_count": null,
   "id": "fa0f2c80",
   "metadata": {},
   "outputs": [],
   "source": [
    "vec := List(words, x-> 0);\n",
    "for i in [1..Length(tabs.list)] do\n",
    "    vec[Position(words, wordTab(tabs.list[i]))] := SignPerm(tabs.reps[i]);\n",
    "od;"
   ]
  },
  {
   "cell_type": "markdown",
   "id": "42d8b12e",
   "metadata": {},
   "source": [
    "* apply spinning to our polytabloid"
   ]
  },
  {
   "cell_type": "code",
   "execution_count": null,
   "id": "6b7e4e0b",
   "metadata": {},
   "outputs": [],
   "source": [
    "vvv:= spinning_with_images(perms, vec, Permuted);"
   ]
  },
  {
   "cell_type": "markdown",
   "id": "a47bebe6",
   "metadata": {},
   "source": [
    "* How to convert a list of sparse vectors into a matrix (cf. `PermList`)"
   ]
  },
  {
   "cell_type": "code",
   "execution_count": null,
   "id": "714c935c",
   "metadata": {},
   "outputs": [],
   "source": [
    "mat_list:= list -> List(list, v -> denseVec(Length(list), v));"
   ]
  },
  {
   "cell_type": "code",
   "execution_count": null,
   "id": "c5cd4b3f",
   "metadata": {},
   "outputs": [],
   "source": [
    "mats := List(vvv.images, mat_list);"
   ]
  },
  {
   "cell_type": "code",
   "execution_count": null,
   "id": "42bc70f2",
   "metadata": {},
   "outputs": [],
   "source": [
    "for m in mats do PrintArray(m);  Print(\"\\n\"); od;"
   ]
  },
  {
   "cell_type": "markdown",
   "id": "912cf413",
   "metadata": {},
   "source": [
    "## Schreier Matrices and the Group Algebra"
   ]
  },
  {
   "cell_type": "markdown",
   "id": "a735c181",
   "metadata": {},
   "source": [
    "* Another way to produce matrices from an orbit is to read the resulting permutations as **permutation matrices**."
   ]
  },
  {
   "cell_type": "code",
   "execution_count": null,
   "id": "a687ce59",
   "metadata": {},
   "outputs": [],
   "source": [
    "gens := transpositions(4);;\n",
    "orb := orbit_with_images(gens, 4, OnPoints);;\n",
    "mats := List(orb.images, x -> PermutationMat(PermList(x), Length(x)));"
   ]
  },
  {
   "cell_type": "code",
   "execution_count": null,
   "id": "7211ac2a",
   "metadata": {},
   "outputs": [],
   "source": [
    "for m in mats do PrintArray(m);  Print(\"\\n\"); od;"
   ]
  },
  {
   "cell_type": "markdown",
   "id": "17f37ef3",
   "metadata": {},
   "source": [
    "* Next, we use the Schreier generators as entries in those matrices, rather than just $1$.\n",
    "* Once again, only a small modification of an earlier version of the orbit algorithm, `orbit_with_images`, is needed.\n",
    "* Storing these images as **sparse vectors** will allow to use `mat_list` to recover the matrices."
   ]
  },
  {
   "cell_type": "code",
   "execution_count": null,
   "id": "9cf01fe9",
   "metadata": {},
   "outputs": [],
   "source": [
    "orbit_with_schreier:= function(aaa, x, under)\n",
    "    local   list,  reps,  i,  images,  y,  k,  a,  z,  l;\n",
    "    list := [x];  reps := [()];  i := 0;\n",
    "    images := List(aaa, x -> []);\n",
    "    while i < Length(list) do\n",
    "        i := i+1;  y := list[i];\n",
    "        for k in [1..Length(aaa)] do\n",
    "            a := aaa[k];  z := under(y, a);\n",
    "            l := Position(list, z);\n",
    "            if l = fail then\n",
    "                Add(list, z);\n",
    "                Add(reps, reps[i] * a);\n",
    "                l := Length(list);\n",
    "            fi;\n",
    "            images[k][i] := rec(pos := [l], val := [reps[i] * a / reps[l]]);\n",
    "        od;\n",
    "    od;\n",
    "    return rec(list := list, images := images);\n",
    "end;"
   ]
  },
  {
   "cell_type": "code",
   "execution_count": null,
   "id": "13f61bc6",
   "metadata": {},
   "outputs": [],
   "source": [
    "gens := transpositions(4);;\n",
    "orb := orbit_with_schreier(gens, 4, OnPoints);\n",
    "mats := List(orb.images, mat_list);"
   ]
  },
  {
   "cell_type": "code",
   "execution_count": null,
   "id": "57004618",
   "metadata": {},
   "outputs": [],
   "source": [
    "for m in mats do PrintArray(m);  Print(\"\\n\"); od;"
   ]
  },
  {
   "cell_type": "markdown",
   "id": "514ccbb4",
   "metadata": {},
   "source": [
    "* These matrices form a representation of the group algebra $\\mathbb{C}G$, acting regularly on $\\mathbb{C}G$ regarded as a right $\\mathbb{C}G$-module over the group algebra $\\mathbb{C}H$ of the stabilizer $H$:\n",
    "$$\n",
    "  \\mathbb{C}G = \\bigoplus_{t \\in T} \\mathbb{C}H t,\n",
    "$$\n",
    "where $T$ is the transversal."
   ]
  },
  {
   "cell_type": "markdown",
   "id": "d56ae304",
   "metadata": {},
   "source": [
    "* Let's call the resulting matrices the **Schreier matrices** of the action.\n",
    "* If we tell GAP what this means for sums and products of permutations and zero, the Schreier matrices can even be multiplied."
   ]
  },
  {
   "cell_type": "code",
   "execution_count": null,
   "id": "7762f9da",
   "metadata": {},
   "outputs": [],
   "source": [
    "InstallMethod(\\*, \"for 0 and perm\", true, [IsInt, IsPerm], 0, function(zero, perm)\n",
    "    return zero;\n",
    "end);\n",
    "InstallMethod(\\*, \"for perm and 0\", true, [IsPerm, IsInt], 0, function(perm, zero)\n",
    "    return zero;\n",
    "end);\n",
    "InstallTrueMethod( IsAdditiveElementWithInverse, IsPerm );\n",
    "InstallMethod(\\+, \"for 0 and perm\", true, [IsInt, IsPerm], 0, function(zero, perm)\n",
    "    return perm;\n",
    "end);\n",
    "InstallMethod(\\+, \"for perm and 0\", true, [IsPerm, IsInt], 0, function(perm, zero)\n",
    "    return perm;\n",
    "end);"
   ]
  },
  {
   "cell_type": "code",
   "execution_count": null,
   "id": "b0b9d49e",
   "metadata": {},
   "outputs": [],
   "source": [
    "mats[1] * mats[1];\n",
    "mats[1] * mats[2];\n",
    "mats[1] * mats[2] * mats[1] = mats[2] * mats[1] * mats[2];"
   ]
  },
  {
   "cell_type": "markdown",
   "id": "42b722b2",
   "metadata": {},
   "source": [
    "* The Schreier matrices can serve as a blueprint for induced representations: Take any matrix representation of $H$ and replace the Schreier generators $h \\in H$ in the Schreier matrix of $g \\in G$ by the matrices representing $h$:  the result (with a suitable interpretation of $0$) will be a matrix representing $g$. Replacing all Schreier generators by the trivial representation $1$ yields the above  permutation representation of $G$ on the cosets of $H$."
   ]
  },
  {
   "cell_type": "markdown",
   "id": "e073cf53",
   "metadata": {},
   "source": [
    "* In the case of a Coxeter group acting on the cosets of a parabolic subgroup, the Schreier generators are either trivial, or simple reflections, thanks to the following result."
   ]
  },
  {
   "cell_type": "markdown",
   "id": "a5c62d44",
   "metadata": {},
   "source": [
    "<div class=\"alert alert-danger\">\n",
    "\n",
    "**Theorem** (Deodhar's Lemma) **.**  Let $(W, S)$ be a finite Coxeter group, and let $J \\subseteq S$.\n",
    "    \n",
    "* Let $x \\in X_J$ and $s \\in S$.  Then either $xs \\in X_J$ or $xs = ux$ for some $u \\in J$.\n",
    "    \n",
    "</div>"
   ]
  },
  {
   "cell_type": "markdown",
   "id": "492f3aa1",
   "metadata": {},
   "source": [
    "* Note how $u = xsx^{-1}$ is a Schreier generator if $xs \\notin X_J$."
   ]
  },
  {
   "cell_type": "markdown",
   "id": "713cd235",
   "metadata": {},
   "source": [
    "##  Iwahori-Hecke Algebra"
   ]
  },
  {
   "cell_type": "markdown",
   "id": "2a0ca659",
   "metadata": {},
   "source": [
    "* The Iwahori-Hecke algebra $H$ of $(W, S)$ is ..."
   ]
  },
  {
   "cell_type": "markdown",
   "id": "ea58c004",
   "metadata": {},
   "source": [
    "<div class=\"alert alert-danger\">\n",
    "\n",
    "**Theorem** (Deodhar's Lemma for Iwahori-Hecke algebras) **.**  Let $(W, S)$ be a finite Coxeter group, and the $J \\subseteq S$.\n",
    "    \n",
    "* Let $x \\in X_J$ and $s \\in S$.  Then either \n",
    "$$\n",
    "T_x T_s = \\begin{cases}\n",
    "(q-1)T_x + qT_{xs}, & \\text{if } \\ell(xs) < \\ell(x),\\\\\n",
    "T_{xs}, & \\text{if } \\ell(xs) > \\ell(x) \\text { and } xs \\in X_J,\\\\\n",
    "T_u T_x, & \\text{if } \\ell(xs) > \\ell(x) \\text { and } xs \\notin X_J,\n",
    "\\end{cases}\n",
    "$$\n",
    "for some $u \\in J$. \n",
    "</div>"
   ]
  },
  {
   "cell_type": "markdown",
   "id": "9a182598",
   "metadata": {},
   "source": [
    "* We thus get Schreier matrices for the generators $T_s$ of $H$.  For example: ...\n",
    "$$\n",
    "T_1 \\mapsto  \\left[ \\begin{array}{cccc}\n",
    "      T_{1}&.&.&.\\\\ .&T_{1}&.&.\\\\ .&.&.&1\\\\ .&.&q&q{-}1\n",
    "    \\end{array} \\right],\n",
    "    \\quad\n",
    "T_2 \\mapsto  \\left[ \\begin{array}{cccc}\n",
    "      T_{2}&.&.&.\\\\ .&.&1&.\\\\ .&q&q{-}1&\\\\ .&.&.&T_{1}\n",
    "    \\end{array} \\right],\n",
    "    \\quad\n",
    "T_3 \\mapsto  \\left[ \\begin{array}{cccc}\n",
    "      .&1&.&.\\\\ q&q{-}1&.&.\\\\ .&.&T_{2}&.\\\\ .&.&.&T_{2}\n",
    "    \\end{array} \\right]\n",
    "$$"
   ]
  },
  {
   "cell_type": "markdown",
   "id": "444a2d76",
   "metadata": {},
   "source": [
    "* As coset table, aka image list of sparse vectors.\n",
    "$$\n",
    "  \\begin{array}{l|ccc}\n",
    "    x &x.1&x.2&x.3\\\\\\hline\n",
    "    x_1 = \\emptyset & 1 \\cdot x & 2 \\cdot x & \\underline{x_2}\\\\\n",
    "    x_2 = 3 & 1 \\cdot x & \\underline{x_3} & (q{-}1)x + qx_1 \\\\\n",
    "    x_3 = 32 & \\underline{x_4} & (q{-}1) x + qx_2 & 2 \\cdot x \\\\\n",
    "    x_4 = 321 & (q{-}1)x + q x_3 & 1 \\cdot x & 2 \\cdot x\n",
    "  \\end{array}\n",
    "$$"
   ]
  },
  {
   "cell_type": "markdown",
   "id": "00888d53",
   "metadata": {},
   "source": [
    "* Can we find such a coset table for the Hecke algebra of a complex reflection group? Yes ..."
   ]
  },
  {
   "cell_type": "markdown",
   "id": "f510118c",
   "metadata": {},
   "source": [
    "##  Linear Coset Enumeration"
   ]
  },
  {
   "cell_type": "markdown",
   "id": "9af3c127",
   "metadata": {},
   "source": [
    "* Like the spinning algorithm is a linear version of the orbit algorithm, there is a lineasr version of the coset enumeration procedure.  Naturally, at certain stages of the procedure, a linear result has to be expected, and handled."
   ]
  },
  {
   "cell_type": "markdown",
   "id": "6c8bd468",
   "metadata": {},
   "source": [
    "* ... details omitted ..."
   ]
  },
  {
   "cell_type": "markdown",
   "id": "8bb6c03a",
   "metadata": {},
   "source": [
    "* Example $G(3,3,3)$."
   ]
  },
  {
   "cell_type": "code",
   "execution_count": null,
   "id": "2e5ad771",
   "metadata": {},
   "outputs": [],
   "source": [
    "G:= G333;"
   ]
  },
  {
   "cell_type": "code",
   "execution_count": null,
   "id": "3f028574",
   "metadata": {},
   "outputs": [],
   "source": [
    "data := enumerate(G);"
   ]
  },
  {
   "cell_type": "code",
   "execution_count": null,
   "id": "e11e5de8",
   "metadata": {},
   "outputs": [],
   "source": [
    "nodes := Filtered(data.list, isActive);"
   ]
  },
  {
   "cell_type": "code",
   "execution_count": null,
   "id": "9f682da8",
   "metadata": {},
   "outputs": [],
   "source": [
    "gens := List(G.gens, i -> Sortex(List(nodes, x -> flat(x!.next[i])!.idx)));"
   ]
  },
  {
   "cell_type": "code",
   "execution_count": null,
   "id": "8232565b",
   "metadata": {},
   "outputs": [],
   "source": [
    "sizeOfGroup(GroupWithGenerators(gens));"
   ]
  },
  {
   "cell_type": "code",
   "execution_count": null,
   "id": "a8a266e8",
   "metadata": {},
   "outputs": [],
   "source": [
    "edges := Union(List(nodes, node -> List(node!.next, x -> [node!.idx, flat(x)!.idx])));;\n",
    "PlotGraph(Filtered(edges, x -> x[1] <> x[2]), opts);"
   ]
  },
  {
   "cell_type": "markdown",
   "id": "998d241d",
   "metadata": {},
   "source": [
    "$$\n",
    "  \\begin{array}{l|cccc}\n",
    "    x &x.t_0&x.t_1&x.t_2&x.s_3\\\\\\hline\n",
    "    x_0 =  & t_0 \\cdot x & t_1 \\cdot x & t_2 \\cdot x & \\underline{x_1} \\\\\n",
    "    x_1 = s_3 & \\underline{x_2} & \\underline{x_3} & \\underline{x_4} & (q{-}1) x + q x_0\\\\\n",
    "    x_2 = s_3 t_0 & (q{-}1) x + q x_1 & \\eqref{2.1} & x_5 & t_0 \\cdot x_2 \\\\\n",
    "    x_3 = s_3 t_1 & \\underline{x_5} & (q{-}1) x + q x_1 & \\eqref{3.2} & t_1 \\cdot x_3 \\\\\n",
    "    x_4 = s_3 t_2 & \\underline{x_6} & x_5 & (q{-}1) x + q x_1 & t_2 \\cdot x_4 \\\\\n",
    "    x_5 = s_3 t_1 t_0 & (q{-}1) x + q x_3 & (q{-}1) x + q x_4 & (q{-}1) x + q x_2 & \\underline{x_7} \\\\\n",
    "    x_6 = s_3 t_2 t_0 & (q{-}1) x + q x_4 & \\eqref{6.1} & (q{-}1) x_5 + q x_3 & \\underline{x_8} \\\\\n",
    "    x_7 = s_3 t_1 t_0 s_3 & t_1 \\cdot x & t_2 \\cdot x & t_0 \\cdot x & (q{-}1) x + q x_5 \\\\\n",
    "    x_8 = s_3 t_2 t_0 s_3 & t_2 \\cdot x & \\eqref{8.1} & \\eqref{8.2} & (q{-}1) x + q x_6\\\\\n",
    "  \\end{array}\n",
    "$$"
   ]
  },
  {
   "cell_type": "markdown",
   "id": "a9cb7317",
   "metadata": {},
   "source": [
    "* where\n",
    "  * $x_2.t_1 = (q{-}1) x_3 + (1{-}q) x_4 + x_6$\n",
    "  * $x_3.t_2 = (1{-}q) x_2 + (q{-}1) x_3 + x_6$\n",
    "  * $  x_6.t_1 \n",
    "  = (q{-}1) x_5 + (1{-}q)(q{-}1) x_4 + (q{-}1) x\n",
    "  + (1{-}q) q x_1 + q x_2$\n",
    "  * $  x_8.t_1 =\n",
    "  (q{-}1)t_2\\cdot x_5\n",
    "  + q(q{-}1)t_2t_0' \\cdot x_3\n",
    "  +  t_0 \\cdot x_8\n",
    "  + (1{-}q)t_0t_2 \\cdot x_4\n",
    "  + q(1{-}q)t_1 \\cdot x_1$\n",
    "  * $  x_8.t_2 =\n",
    "   q(q{-}1) x_3\n",
    "   + (q{-}1)t_0 \\cdot x_5\n",
    "   + t_1 \\cdot x_8\n",
    "   + (1{-}q)t_1 \\cdot x_6\n",
    "   + q(1{-}q)t_1t_0' \\cdot x_2$"
   ]
  },
  {
   "cell_type": "markdown",
   "id": "280c5eb8",
   "metadata": {},
   "source": [
    "## Exercises, etc."
   ]
  },
  {
   "cell_type": "markdown",
   "id": "794099bb",
   "metadata": {},
   "source": [
    "* Expand `spinning` into `spinning_with_matrices` ..."
   ]
  },
  {
   "cell_type": "markdown",
   "id": "d134d7cc",
   "metadata": {},
   "source": [
    "* ..."
   ]
  },
  {
   "cell_type": "code",
   "execution_count": null,
   "id": "fdb0d946",
   "metadata": {},
   "outputs": [],
   "source": []
  }
 ],
 "metadata": {
  "kernelspec": {
   "display_name": "Julia 1.11.5",
   "language": "julia",
   "name": "julia-1.11"
  },
  "language_info": {
   "file_extension": ".jl",
   "mimetype": "application/julia",
   "name": "julia",
   "version": "1.11.5"
  }
 },
 "nbformat": 4,
 "nbformat_minor": 5
}
