{
 "cells": [
  {
   "cell_type": "markdown",
   "id": "50ed85c9",
   "metadata": {},
   "source": [
    "## Computational Aspects of Complex Reflection Groups\n",
    "\n",
    "Götz Pfeiffer - University of Galway"
   ]
  },
  {
   "cell_type": "markdown",
   "id": "7b96c041",
   "metadata": {},
   "source": [
    "<img alt=\"t-shirt\" src=\"images/shirtbfs.png\" align=\"center\" width=\"40%\" style=\"float:right\">\n",
    "\n",
    "# Outline\n",
    "\n",
    "## 1. Computing with [Permutation Groups](orbits.ipynb)\n",
    "\n",
    "* Algorithms: A Glimpse of CGT\n",
    "\n",
    "## 2. Computing with [Finite Coxeter Groups](coxeter.ipynb)\n",
    "\n",
    "* Orbits: Finite Coxeter Groups in Action\n",
    "\n",
    "## 3. Computing with [Complex Reflection Groups](enumerate.ipynb)\n",
    "\n",
    "* Cosets: Enumerating Complex Reflection Groups\n",
    "\n",
    "##  4. Computing with [Hecke Algebras](linear.ipynb)\n",
    "\n",
    "* Vectors: Enumerating Modules and Hecke Algebras"
   ]
  },
  {
   "cell_type": "markdown",
   "id": "f0d2e848",
   "metadata": {},
   "source": [
    "# Online\n",
    "\n",
    "* Find me on **github**: https://github.com/gpfeiffer/orbits-julia\n",
    "* Launch me on **binder**: https://mybinder.org/v2/gh/gpfeiffer/orbits-julia/main"
   ]
  },
  {
   "cell_type": "code",
   "execution_count": null,
   "id": "3c6a5beb",
   "metadata": {},
   "outputs": [],
   "source": []
  }
 ],
 "metadata": {
  "kernelspec": {
   "display_name": "Julia 1.11.4",
   "language": "julia",
   "name": "julia-1.11"
  },
  "language_info": {
   "file_extension": ".jl",
   "mimetype": "application/julia",
   "name": "julia",
   "version": "1.11.4"
  }
 },
 "nbformat": 4,
 "nbformat_minor": 5
}
