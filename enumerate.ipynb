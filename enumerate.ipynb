{
 "cells": [
  {
   "cell_type": "markdown",
   "id": "90599f92",
   "metadata": {},
   "source": [
    "## Computational Aspects of Complex Reflection Groups\n",
    "\n",
    "Götz Pfeiffer - University of Galway\n",
    "\n",
    "# 3. Cosets: Enumerating Complex Reflection Groups"
   ]
  },
  {
   "cell_type": "markdown",
   "id": "d6906505",
   "metadata": {},
   "source": [
    "![Numbers](images/numbers.jpg)"
   ]
  },
  {
   "cell_type": "markdown",
   "id": "cd04986f",
   "metadata": {},
   "source": [
    "## Setup"
   ]
  },
  {
   "cell_type": "markdown",
   "id": "07a2bc9e",
   "metadata": {},
   "source": [
    "First, reload the algorithms from earlier ..."
   ]
  },
  {
   "cell_type": "code",
   "execution_count": null,
   "id": "fc22f8e3",
   "metadata": {},
   "outputs": [],
   "source": [
    "LoadPackage(\"jupyterviz\");\n",
    "opts := rec(vertexwidth := 12, vertexheight := 12, edgecolor := \"#def\");;\n",
    "Read(\"orbits.g\");\n",
    "Read(\"variants.g\");\n",
    "Read(\"examples.g\");"
   ]
  },
  {
   "cell_type": "markdown",
   "id": "616a9be3",
   "metadata": {},
   "source": [
    "## Complex Reflection Groups ..."
   ]
  },
  {
   "cell_type": "markdown",
   "id": "308b10f8",
   "metadata": {},
   "source": [
    "... don't have\n",
    "* a well-behaved length function\n",
    "* simple reflections as generators\n",
    "* root systems\n",
    "* ...\n",
    "\n",
    "But they do have\n",
    "* a reflection representation\n",
    "* parabolic subgroups\n",
    "* ...\n",
    "* a nice (Coxeter-like) presentation"
   ]
  },
  {
   "cell_type": "markdown",
   "id": "f0695d77",
   "metadata": {},
   "source": [
    "Questions:\n",
    "* how to construct the reflection representation systematically?\n",
    "* how to turn the presentation into a usable group?\n",
    "\n",
    "Here, we will only address the latter question, in the form of the **Todd-Coxeter coset enumeration** procedure,\n",
    "a further variant of the orbit algorithm which potentially converts the group presentation into a finite permutation group. "
   ]
  },
  {
   "cell_type": "markdown",
   "id": "d14cf224",
   "metadata": {},
   "source": [
    "## Data Nodes"
   ]
  },
  {
   "cell_type": "markdown",
   "id": "ed845dfa",
   "metadata": {},
   "source": [
    "* Recall all the modified orbit algorithms.\n",
    "* Here is all in one:  words, transversal and images."
   ]
  },
  {
   "cell_type": "code",
   "execution_count": null,
   "id": "e5a03f20",
   "metadata": {},
   "outputs": [],
   "source": [
    "orbit_and_more := function(aaa, x, under)\n",
    "    local   list,  words,  reps,  images,  i,  k,  z,  l;\n",
    "    list := [x];  words := [[]];  reps := [aaa[1]^0];\n",
    "    images := List(aaa, x -> []);  i := 0;\n",
    "    while i < Length(list) do\n",
    "        i := i+1;\n",
    "        for k in [1..Length(aaa)] do\n",
    "            z := under(list[i], aaa[k]);\n",
    "            l := Position(list, z);\n",
    "            if l = fail then\n",
    "                Add(list, z);\n",
    "                Add(words, onWords(words[i], k));\n",
    "                Add(reps, reps[i] * aaa[k]);\n",
    "                l := Length(list);\n",
    "            fi;\n",
    "            images[k][i] := l;\n",
    "        od;\n",
    "    od;\n",
    "    return rec(list := list, words := words, reps := reps, images := images);\n",
    "end;"
   ]
  },
  {
   "cell_type": "markdown",
   "id": "432e29e2",
   "metadata": {},
   "source": [
    "* for example"
   ]
  },
  {
   "cell_type": "code",
   "execution_count": null,
   "id": "f154c47f",
   "metadata": {},
   "outputs": [],
   "source": [
    "orb := orbit_and_more(transpositions(5), [1,2], OnSets);"
   ]
  },
  {
   "cell_type": "code",
   "execution_count": null,
   "id": "c5f3bda1",
   "metadata": {},
   "outputs": [],
   "source": [
    "edges := Union(List(orb.images, list_with_index));\n",
    "PlotGraph(Filtered(edges, x-> x[1] <> x[2]), opts);"
   ]
  },
  {
   "cell_type": "markdown",
   "id": "2b9ee5ee",
   "metadata": {},
   "source": [
    "* Managing all these property lists in parallel is a bit unwieldy, and perhaps confusing in the long run ...\n",
    "* Let's transpose the setup and store properties as data with each node."
   ]
  },
  {
   "cell_type": "markdown",
   "id": "67b2bc06",
   "metadata": {},
   "source": [
    "### Data Type\n",
    "\n",
    "* An `Item` is a node object with **attributes**\n",
    "  * `key`: an element of the domain that is acted upon\n",
    "  * `idx`: its position in the list containing the orbit\n",
    "  * `next`: a list of child nodes, one for each generator\n",
    "  * `data`: other useful information"
   ]
  },
  {
   "cell_type": "code",
   "execution_count": null,
   "id": "4845c3d6",
   "metadata": {},
   "outputs": [],
   "source": [
    "ItemFamily := NewFamily(\"ItemFamily\", IsObject);\n",
    "\n",
    "DeclareRepresentation(\"IsItem\",\n",
    "    IsComponentObjectRep and IsAttributeStoringRep,\n",
    "    [\"key\", \"idx\", \"data\", \"next\"]\n",
    ");\n",
    "\n",
    "ItemType := NewType(ItemFamily, IsItem);"
   ]
  },
  {
   "cell_type": "markdown",
   "id": "785c4166",
   "metadata": {},
   "source": [
    "### Constructor\n",
    "\n",
    "* An `Item` object is constructed from a key $x \\in X$.\n"
   ]
  },
  {
   "cell_type": "code",
   "execution_count": null,
   "id": "be579c2d",
   "metadata": {},
   "outputs": [],
   "source": [
    "Item := function(key)\n",
    "    local   r;\n",
    "    r := rec(key := key, data := rec(), next := []);\n",
    "    return Objectify(ItemType, r);\n",
    "end;"
   ]
  },
  {
   "cell_type": "code",
   "execution_count": null,
   "id": "f93cd169",
   "metadata": {},
   "outputs": [],
   "source": [
    "item := Item([1,2]);"
   ]
  },
  {
   "cell_type": "markdown",
   "id": "763ad433",
   "metadata": {},
   "source": [
    "### Printing\n",
    "\n",
    "* It will be convenient to install a method that prints a meaningful representation of an `Item` object."
   ]
  },
  {
   "cell_type": "code",
   "execution_count": null,
   "id": "36a5def5",
   "metadata": {},
   "outputs": [],
   "source": [
    "InstallMethod(PrintObj, \"for items\", true, [IsItem], 0, function(item)\n",
    "    Print(\"Item( \", item!.key, \" )\");\n",
    "end);"
   ]
  },
  {
   "cell_type": "code",
   "execution_count": null,
   "id": "e4b8969c",
   "metadata": {},
   "outputs": [],
   "source": [
    "item;"
   ]
  },
  {
   "cell_type": "markdown",
   "id": "ac5bf7a7",
   "metadata": {},
   "source": [
    "###  Comparison\n",
    "\n",
    "* Items are compared with respect to their keys, for equality, and for size."
   ]
  },
  {
   "cell_type": "code",
   "execution_count": null,
   "id": "8fb091bb",
   "metadata": {},
   "outputs": [],
   "source": [
    "InstallMethod(\\=, \"for items\", true, [IsItem, IsItem], 0, function(itemL, itemR)\n",
    "    return itemL!.key = itemR!.key;\n",
    "end);\n",
    "\n",
    "InstallMethod(\\<, \"for items\", true, [IsItem, IsItem], 0, function(itemL, itemR)\n",
    "    return itemL!.key < itemR!.key;\n",
    "end);"
   ]
  },
  {
   "cell_type": "code",
   "execution_count": null,
   "id": "eaef38af",
   "metadata": {},
   "outputs": [],
   "source": [
    "item = item;\n",
    "item < item;\n",
    "item <= item;\n",
    "Set([item, item]);"
   ]
  },
  {
   "cell_type": "markdown",
   "id": "6d238c3e",
   "metadata": {},
   "source": [
    "### Data Orbits\n",
    "\n",
    "* We can now reformulate the above omnibus orbit algorithm in terms of such items."
   ]
  },
  {
   "cell_type": "code",
   "execution_count": null,
   "id": "0571ff4a",
   "metadata": {},
   "outputs": [],
   "source": [
    "orbit_with_data := function(aaa, item, under)\n",
    "    local   list,  x,  k,  a,  y,  z;\n",
    "    list := [item];  item!.idx := 1;  \n",
    "    item!.data := rec(rep := (), word := []);\n",
    "    for x in list do\n",
    "        for k in [1..Length(aaa)] do\n",
    "            a := aaa[k];\n",
    "            y := Item(under(x!.key, a));\n",
    "            z := First(list, z -> z = y);\n",
    "            if z = fail then\n",
    "                Add(list, y);  y!.idx := Length(list);\n",
    "                y!.data := rec(  \n",
    "                  rep := x!.data.rep * a,\n",
    "                  word := onWords(x!.data.word, k),\n",
    "                );\n",
    "                z := y;\n",
    "            fi;\n",
    "            x!.next[k] := z!.idx;\n",
    "        od;\n",
    "    od;\n",
    "    return list;\n",
    "end;"
   ]
  },
  {
   "cell_type": "code",
   "execution_count": null,
   "id": "ff90f7d1",
   "metadata": {},
   "outputs": [],
   "source": [
    "orb := orbit_with_data(transpositions(5), item, OnSets);"
   ]
  },
  {
   "cell_type": "code",
   "execution_count": null,
   "id": "0623303a",
   "metadata": {},
   "outputs": [],
   "source": [
    "List(orb, x-> x!.idx);\n",
    "List(orb, x-> x!.data);"
   ]
  },
  {
   "cell_type": "code",
   "execution_count": null,
   "id": "5bc7c650",
   "metadata": {},
   "outputs": [],
   "source": [
    "edges := Union(List(orb, o-> List(o!.next, t-> [o!.idx, t])));\n",
    "PlotGraph(Filtered(edges, x-> x[1] <> x[2]), opts);"
   ]
  },
  {
   "cell_type": "markdown",
   "id": "851ea535",
   "metadata": {},
   "source": [
    "## Example"
   ]
  },
  {
   "cell_type": "markdown",
   "id": "a67d5fa4",
   "metadata": {},
   "source": [
    "* The complex reflection group $G_{12}$ has a presentation \n",
    "$$\n",
    "\\langle\n",
    "s_1, s_2, s_3 \\mid\n",
    "s_1^2 = s_2^2 = s_3^2 = 1,\\,\n",
    "s_1 s_2 s_3 s_1 = s_2 s_3 s_1 s_2 = s_3 s_1 s_2 s_3\n",
    "\\rangle\n",
    "$$\n",
    "* Let's try and enumerate its elements systematically."
   ]
  },
  {
   "cell_type": "markdown",
   "id": "bcc955ae",
   "metadata": {},
   "source": [
    "## Smart Nodes\n",
    "\n",
    "* We will use a similar data structure, `Node`, for the purpose of coset enumeration.\n",
    "* Here, the `idx` attribute is used to identify `Node` objects.\n",
    "* And a `data` attribute is shared between all `Node` objects."
   ]
  },
  {
   "cell_type": "code",
   "execution_count": null,
   "id": "998cc829",
   "metadata": {},
   "outputs": [],
   "source": [
    "NodeFamily := NewFamily(\"NodeFamily\", IsObject);\n",
    "\n",
    "DeclareRepresentation(\"IsNode\",\n",
    "    IsComponentObjectRep and IsAttributeStoringRep, \n",
    "    [\"idx\", \"word\", \"data\", \"next\"]\n",
    ");\n",
    "\n",
    "NodeType := NewType(NodeFamily, IsNode);"
   ]
  },
  {
   "cell_type": "code",
   "execution_count": null,
   "id": "49f0a343",
   "metadata": {},
   "outputs": [],
   "source": [
    "Node := function(word, data)\n",
    "    local   node;\n",
    "    node := Objectify(NodeType, rec(word := word, data := data, next := []));\n",
    "    Add(data.list, node);  node!.idx := Length(data.list);\n",
    "    data.active := data.active + 1;\n",
    "    return node;\n",
    "end;"
   ]
  },
  {
   "cell_type": "markdown",
   "id": "ee894c15",
   "metadata": {},
   "source": [
    "### Print"
   ]
  },
  {
   "cell_type": "code",
   "execution_count": null,
   "id": "c153ccef",
   "metadata": {},
   "outputs": [],
   "source": [
    "InstallMethod(PrintObj, \"for nodes\", true, [IsNode], 0, function(node)\n",
    "    Print(\"Node( \", node!.idx, \" )\");\n",
    "end);\n",
    "InstallMethod(String, \"for nodes\", true, [IsNode], 0, function(node)\n",
    "    return Concatenation(\"Node( \", String(node!.idx), \" )\");\n",
    "end);"
   ]
  },
  {
   "cell_type": "code",
   "execution_count": null,
   "id": "1ecdb875",
   "metadata": {},
   "outputs": [],
   "source": [
    "data := rec(list := [], active := 0);\n",
    "node := Node([], data);"
   ]
  },
  {
   "cell_type": "markdown",
   "id": "fb558541",
   "metadata": {},
   "source": [
    "### Comparison"
   ]
  },
  {
   "cell_type": "code",
   "execution_count": null,
   "id": "acda0dc0",
   "metadata": {},
   "outputs": [],
   "source": [
    "InstallMethod(\\=, \"for nodes\", true, [IsNode, IsNode], 0, function(nodeL, nodeR)\n",
    "    return nodeL!.idx = nodeR!.idx;\n",
    "end);\n",
    "\n",
    "InstallMethod(\\<, \"for nodes\", true, [IsNode, IsNode], 0, function(nodeL, nodeR)\n",
    "    return nodeL!.idx < nodeR!.idx;\n",
    "end);"
   ]
  },
  {
   "cell_type": "code",
   "execution_count": null,
   "id": "6d0ea5d6",
   "metadata": {},
   "outputs": [],
   "source": [
    "node = node;\n",
    "node < node;\n",
    "node <= node;\n",
    "node > node;"
   ]
  },
  {
   "cell_type": "markdown",
   "id": "2827fced",
   "metadata": {},
   "source": [
    "## Coset Enumeration\n",
    "\n",
    "* Q: What is $G = \\langle S \\mid R \\rangle$?\n",
    "* A: Todd-Coxeter!"
   ]
  },
  {
   "cell_type": "markdown",
   "id": "ae191c13",
   "metadata": {},
   "source": [
    "* Suppose that a group $G$ is given by a **presentation** $\\langle S \\mid R \\rangle$, consisting of a (finite) set $S$ of abstract **generators** $s_1, s_2, \\dots, s_k$, and a (finite) list $R$ of **relations** $l_j = r_j$, where both $l_j$ and $r_j$ are words in $S \\cup S^{-1}$.\n",
    "\n",
    "* For convenience, we assume that $S$ is closed under inverses: $S  = S^{-1}$.\n",
    "\n",
    "* We wish to enumerate the elements of $G$ (hoping that $G$ is a finite group), or more generally, the cosets of a subgroup $H$ of $G$ (hoping that $H$ has finite index in $G$).\n",
    "\n",
    "* A priori, neither the domain $X$ being acted upon (by $G$), nor the edges of the action graph are known.\n",
    "\n",
    "* Strategy: define new nodes as images of old nodes under a generator, but be prepared to identify this node with an existing one, if the relations imply they are the same.\n",
    "\n",
    "* For this, each `Node` object $x$ has\n",
    "  * a unique ID `idx` (where `idx` $ = n \\iff x = x_n$),\n",
    "  * a word `word` $ \\in S^*$ (corresponding to a path in the BFS spanning tree of the action graph),\n",
    "  * images $x$.`next`$[s] = x.s$ for each $s \\in S$ (where $x.s \\in X \\cup \\{ \\perp \\}$)\n",
    "  * a reference $x$.`flat`$ \\in X \\cup \\{ \\perp \\}$ to the node it has possibly been replaced by.\n",
    "  \n",
    "* Eventually, we want that $x.s \\in X$ for all $x \\in X$, $s \\in S$."
   ]
  },
  {
   "cell_type": "markdown",
   "id": "a2746616",
   "metadata": {},
   "source": [
    "###  Flatness\n",
    "\n",
    "* A node $x$ is **active** if $x$.`flat`$ = {\\perp}$."
   ]
  },
  {
   "cell_type": "code",
   "execution_count": null,
   "id": "02e150ce",
   "metadata": {},
   "outputs": [],
   "source": [
    "isActive := node -> not IsBound(node!.flat);"
   ]
  },
  {
   "cell_type": "code",
   "execution_count": null,
   "id": "252d38d7",
   "metadata": {},
   "outputs": [],
   "source": [
    "isActive(node);"
   ]
  },
  {
   "cell_type": "code",
   "execution_count": null,
   "id": "e22249c3",
   "metadata": {},
   "outputs": [],
   "source": [
    "node!.flat := 0;;\n",
    "isActive(node);"
   ]
  },
  {
   "cell_type": "code",
   "execution_count": null,
   "id": "87561835",
   "metadata": {},
   "outputs": [],
   "source": [
    "Unbind(node!.flat);\n",
    "isActive(node);"
   ]
  },
  {
   "cell_type": "markdown",
   "id": "17a578b3",
   "metadata": {},
   "source": [
    "* Each node $x \\in X$ has an associated active node $x^{\\flat}$ defined recursively as\n",
    "$$\n",
    "x^{\\flat} = \\begin{cases}\n",
    "x, & \\text{if } x.\\text{flat} = {\\perp}\\\\\n",
    "(x.\\text{flat})^{\\flat}, & \\text{else}\n",
    "\\end{cases}\n",
    "$$"
   ]
  },
  {
   "cell_type": "code",
   "execution_count": null,
   "id": "e3dfbdf6",
   "metadata": {},
   "outputs": [],
   "source": [
    "flat := function(node)\n",
    "    while IsBound(node!.flat) do  node := node!.flat;  od;\n",
    "    return node;\n",
    "end;"
   ]
  },
  {
   "cell_type": "markdown",
   "id": "536d67bd",
   "metadata": {},
   "source": [
    "### Images\n",
    "\n",
    "* Recall that $S^{-1} = S$.  Assume that `data.invr` holds the map $s \\mapsto s^{-1}$.\n",
    "* In words, we write $-s$ for $s^{-1}$.  \n",
    "* So to find $x.s$ for $s \\in S = S^{-1}$ we need to replace $s$ by `data.invr`$[-s]$ first, if $s < 0$."
   ]
  },
  {
   "cell_type": "code",
   "execution_count": null,
   "id": "84393897",
   "metadata": {},
   "outputs": [],
   "source": [
    "getImage := function(node, s)\n",
    "    if s < 0 then  s := node!.data.invr[-s];  fi;\n",
    "    return GetWithDefault(node!.next, s, false);\n",
    "end;"
   ]
  },
  {
   "cell_type": "markdown",
   "id": "cb630869",
   "metadata": {},
   "source": [
    "* To sprout a new node $x.s$:"
   ]
  },
  {
   "cell_type": "code",
   "execution_count": null,
   "id": "aa606420",
   "metadata": {},
   "outputs": [],
   "source": [
    "sprout := function(node, s)\n",
    "    local   next;\n",
    "    next := Node(onWords(node!.word, s), node!.data);\n",
    "    node!.next[s] := next;\n",
    "    next!.next[node!.data.invr[s]] := node;\n",
    "    return next;\n",
    "end;"
   ]
  },
  {
   "cell_type": "markdown",
   "id": "38335b79",
   "metadata": {},
   "source": [
    "### Actions\n",
    "\n",
    "* We will work with two distinct actions:\n",
    "  * a **partial action** which returns `false` if an image does not exist (yet)\n",
    "  * a **sprouting action** which sprouts a new node if necessary."
   ]
  },
  {
   "cell_type": "code",
   "execution_count": null,
   "id": "9ed8a346",
   "metadata": {},
   "outputs": [],
   "source": [
    "onNodesPartial := function(node, s)\n",
    "    local   next;\n",
    "    next := getImage(node, s);\n",
    "    if next = false then  return false;  fi;\n",
    "    return flat(next);\n",
    "end;"
   ]
  },
  {
   "cell_type": "code",
   "execution_count": null,
   "id": "0ea08389",
   "metadata": {},
   "outputs": [],
   "source": [
    "onNodesSprout := function(node, s)\n",
    "    local   next;\n",
    "    next := getImage(node, s);\n",
    "    if next = false then \n",
    "        return sprout(node, s);\n",
    "    else\n",
    "        return flat(next);  \n",
    "    fi;\n",
    "end;"
   ]
  },
  {
   "cell_type": "markdown",
   "id": "02711615",
   "metadata": {},
   "source": [
    "* Both actions need only be defined on the generators $s \\in S$, and can then be applied to words in $S^*$."
   ]
  },
  {
   "cell_type": "code",
   "execution_count": null,
   "id": "7b213adf",
   "metadata": {},
   "outputs": [],
   "source": [
    "nodeUnderWordSprout := function(node, word)\n",
    "    local   s;\n",
    "    for s in word do\n",
    "        node := onNodesSprout(node, s);\n",
    "    od;\n",
    "    return node;\n",
    "end;"
   ]
  },
  {
   "cell_type": "code",
   "execution_count": null,
   "id": "f237d835",
   "metadata": {},
   "outputs": [],
   "source": [
    "nodeUnderWordPartial := function(node, word)\n",
    "    local   s;\n",
    "    for s in word do\n",
    "        node := onNodesPartial(node, s);\n",
    "        if node = false then  return node;  fi;\n",
    "    od;\n",
    "    return node;\n",
    "end;"
   ]
  },
  {
   "cell_type": "markdown",
   "id": "431f9cfd",
   "metadata": {},
   "source": [
    "### Enumerate!\n",
    "\n",
    "* We now formulate the `enumerate` procedure which takes a presentation `genrel` for a group $G$ as input and produces a permutation group as output.  Specifically, `genrel` has components\n",
    "  * `gens`: a list `[1..n]` of abstract generators $S = S^{-1}$\n",
    "  * `rels`: a list of relations expressed as pairs of word in $S$\n",
    "  * `invr`: the map $S \\to S: s \\mapsto s^{-1}$\n",
    "  * `sbgp`: a subset of $S$, generating a subgroup $H$ of $G$."
   ]
  },
  {
   "cell_type": "code",
   "execution_count": null,
   "id": "588cfdb6",
   "metadata": {},
   "outputs": [],
   "source": [
    "enumerate := function(genrel)\n",
    "    local  data,  node,  word,  s;\n",
    "\n",
    "    # initialize.\n",
    "    data := rec(list := [], active := 0);\n",
    "    data.invr := genrel.invr;\n",
    "    data.variants := VariantsRelations(genrel);\n",
    "    node := Node([], data);\n",
    "    \n",
    "    # first close the subgroup tables.\n",
    "    for word in genrel.sbgp do\n",
    "        trace(node, word);\n",
    "    od;\n",
    "    \n",
    "    # process nodes in the queue\n",
    "    for node in data.list do\n",
    "        for s in genrel.gens do\n",
    "            process(node, s);\n",
    "        od;\n",
    "    od;\n",
    "\n",
    "    # return data\n",
    "    return data;\n",
    "end;"
   ]
  },
  {
   "cell_type": "markdown",
   "id": "7b6d9e98",
   "metadata": {},
   "source": [
    "###  Tracing Words"
   ]
  },
  {
   "cell_type": "markdown",
   "id": "305fd75c",
   "metadata": {},
   "source": [
    "* To trace a node $x$ under a word $w$ means to make sure that $x.w = x$, using the sprouting action.\n",
    "* If $w \\in H$ then $x_1.w = x_1$ should hold.\n",
    "* If $l = r$ is a relation then $w:= l/r = 1$ and $x.w = x$ should hold for any $x \\in X$.\n",
    "* In any case, for the last letter of $w$, we carefully check if the resulting coset is already known or not."
   ]
  },
  {
   "cell_type": "code",
   "execution_count": null,
   "id": "f2c7210b",
   "metadata": {},
   "outputs": [],
   "source": [
    "trace := function(node, word)\n",
    "    local   other;\n",
    "    other := nodeUnderWordSprout(node, word{[1..Length(word)-1]});\n",
    "    updateEdge(other, word[Length(word)], node);\n",
    "end;"
   ]
  },
  {
   "cell_type": "markdown",
   "id": "ff1db6d9",
   "metadata": {},
   "source": [
    "### Processing a Node under a Generator\n",
    "\n",
    "* To find $x.s$, use variants of the relations to express $s$ as a word $w$ in the generators and check if $x.w$ is determined already.  If so, carefully set $x.s$ to $s.w$.  If this doesn't work out, create a new node $x.s$."
   ]
  },
  {
   "cell_type": "code",
   "execution_count": null,
   "id": "9ce5e764",
   "metadata": {},
   "outputs": [],
   "source": [
    "process := function(node, s)\n",
    "    local   variant,  next;\n",
    "    for variant in node!.data.variants[s] do\n",
    "        if isActive(node) then\n",
    "            next := nodeUnderWordPartial(node, variant);\n",
    "            if next <> false then  updateEdge(node, s, next);  fi;\n",
    "        fi;\n",
    "    od;\n",
    "    if isActive(node) and not IsBound(node!.next[s]) then sprout(node, s); fi;\n",
    "end;"
   ]
  },
  {
   "cell_type": "markdown",
   "id": "fa48e841",
   "metadata": {},
   "source": [
    "### Edges"
   ]
  },
  {
   "cell_type": "markdown",
   "id": "f11fcde8",
   "metadata": {},
   "source": [
    "* In the (directed) .graph of a group action, an edge $x \\stackrel{s}{\\longrightarrow} y$ always comes with the opposite edge $y \\stackrel{s^{-1}}{\\longrightarrow} x$.\n",
    "* Thus, carefully updating $x.s = y$ always refers to two edges of the graph."
   ]
  },
  {
   "cell_type": "code",
   "execution_count": null,
   "id": "60bb1a90",
   "metadata": {},
   "outputs": [],
   "source": [
    "updateEdge := function(node, s, next)\n",
    "    setImage(node, s, next);\n",
    "    setImage(next, node!.data.invr[s], node);\n",
    "end;"
   ]
  },
  {
   "cell_type": "markdown",
   "id": "b378b98d",
   "metadata": {},
   "source": [
    "* Carefully setting $x.s$ to $y$ means \n",
    "  * checking if $x.s$ is already defined; if not, set $x.s$ to $y$.\n",
    "  * Otherwise, with $x.s = z$, say, check if $y = z$:  if so there is nothing to do.\n",
    "  * Otherwise, set $z = y$ (or $y = z$ depending on which came first) and live with the consequenses ..."
   ]
  },
  {
   "cell_type": "code",
   "execution_count": null,
   "id": "4d7655a9",
   "metadata": {},
   "outputs": [],
   "source": [
    "setImage := function(node, s, next)\n",
    "    local   pair;\n",
    "    if IsBound(node!.next[s]) then\n",
    "        pair := Set(List([next, node!.next[s]], flat));\n",
    "        if Length(pair) = 2 then           # coincidence: stack!\n",
    "            mergeNodes(pair[2], pair[1]);\n",
    "        fi;\n",
    "    else\n",
    "        node!.next[s] := next;           # deduction!\n",
    "    fi;\n",
    "end;"
   ]
  },
  {
   "cell_type": "markdown",
   "id": "4fc4728d",
   "metadata": {},
   "source": [
    "* to merge nodes $z$ and $y$:\n",
    "  * set $z$.`flat` to $y$\n",
    "  * for each $z.s \\neq {\\perp}$, carefully update $z.s = y.s$."
   ]
  },
  {
   "cell_type": "code",
   "execution_count": null,
   "id": "8aa0873e",
   "metadata": {},
   "outputs": [],
   "source": [
    "mergeNodes := function(node, other)\n",
    "    local   s;\n",
    "    node!.flat := other;\n",
    "    node!.data.active := node!.data.active - 1;\n",
    "    for s in PositionsBound(node!.next) do\n",
    "        updateEdge(other, s, node!.next[s]);\n",
    "    od;\n",
    "end;"
   ]
  },
  {
   "cell_type": "code",
   "execution_count": null,
   "id": "1f4083bd",
   "metadata": {},
   "outputs": [],
   "source": [
    "G := G12;"
   ]
  },
  {
   "cell_type": "code",
   "execution_count": null,
   "id": "c875c544",
   "metadata": {},
   "outputs": [],
   "source": [
    "data := enumerate(G);"
   ]
  },
  {
   "cell_type": "code",
   "execution_count": null,
   "id": "96753ce0",
   "metadata": {},
   "outputs": [],
   "source": [
    "nodes := Filtered(data.list, isActive);"
   ]
  },
  {
   "cell_type": "code",
   "execution_count": null,
   "id": "af4ae751",
   "metadata": {},
   "outputs": [],
   "source": [
    "Sortex(List(nodes, x -> flat(x!.next[1])!.idx)); #:-)"
   ]
  },
  {
   "cell_type": "code",
   "execution_count": null,
   "id": "182fa525",
   "metadata": {},
   "outputs": [],
   "source": [
    "gens := List(G.gens, i -> Sortex(List(nodes, x -> flat(x!.next[i])!.idx)));"
   ]
  },
  {
   "cell_type": "code",
   "execution_count": null,
   "id": "d978a69d",
   "metadata": {},
   "outputs": [],
   "source": [
    "sizeOfGroup(GroupWithGenerators(gens));"
   ]
  },
  {
   "cell_type": "markdown",
   "id": "7eea4e0c",
   "metadata": {},
   "source": [
    "* Next: carefully extract and plot the graph (on active nodes only)!"
   ]
  },
  {
   "cell_type": "code",
   "execution_count": null,
   "id": "9f4566bb",
   "metadata": {},
   "outputs": [],
   "source": [
    "edges := Union(List(nodes, node -> List(node!.next, x -> [node!.idx, flat(x)!.idx])));;\n",
    "edges := Filtered(edges, x -> x[1] <> x[2]);"
   ]
  },
  {
   "cell_type": "code",
   "execution_count": null,
   "id": "86a19f57",
   "metadata": {},
   "outputs": [],
   "source": [
    "PlotGraph(edges, opts);"
   ]
  },
  {
   "cell_type": "markdown",
   "id": "1508bc85",
   "metadata": {},
   "source": [
    "##  Exercises, etc."
   ]
  },
  {
   "cell_type": "markdown",
   "id": "6f013edd",
   "metadata": {},
   "source": [
    "* ($*$) Modify the coset enumeration procedure so that it applies to monoid presentations."
   ]
  },
  {
   "cell_type": "markdown",
   "id": "a51e5e5f",
   "metadata": {},
   "source": [
    "* Find matrices for the reflection representation of a given complex reflection group $G$."
   ]
  },
  {
   "cell_type": "markdown",
   "id": "a1f41f88",
   "metadata": {},
   "source": [
    "* Find a way to enumerate the (conjugacy classes of) parabolic subgroups $P$ of a complex reflection group $G$."
   ]
  },
  {
   "cell_type": "markdown",
   "id": "62bfbc8b",
   "metadata": {},
   "source": [
    "* Compute the normalizer of parabolic subgroup $P$ in $G$.  Does $P$ always have a complement $H$? If so, does $H$ have a natural set of generators? "
   ]
  },
  {
   "cell_type": "markdown",
   "id": "5419bccd",
   "metadata": {},
   "source": [
    "* ..."
   ]
  },
  {
   "cell_type": "code",
   "execution_count": null,
   "id": "0c43f08d",
   "metadata": {},
   "outputs": [],
   "source": []
  }
 ],
 "metadata": {
  "kernelspec": {
   "display_name": "Julia 1.8.5",
   "language": "julia",
   "name": "julia-1.8"
  },
  "language_info": {
   "file_extension": ".jl",
   "mimetype": "application/julia",
   "name": "julia",
   "version": "1.8.5"
  }
 },
 "nbformat": 4,
 "nbformat_minor": 5
}
