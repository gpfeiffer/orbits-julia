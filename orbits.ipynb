{
 "cells": [
  {
   "cell_type": "markdown",
   "id": "90599f92",
   "metadata": {},
   "source": [
    "## Computational Aspects of Complex Reflection Groups\n",
    "\n",
    "Götz Pfeiffer - University of Galway\n",
    "\n",
    "# 1. Algorithms: A Glimpse of CGT"
   ]
  },
  {
   "cell_type": "markdown",
   "id": "9c410201",
   "metadata": {},
   "source": [
    "![Trees](images/trees.jpg)"
   ]
  },
  {
   "cell_type": "markdown",
   "id": "50b113a9",
   "metadata": {},
   "source": [
    "## Algorithms"
   ]
  },
  {
   "cell_type": "markdown",
   "id": "70cec2c7",
   "metadata": {},
   "source": [
    "A good algorithm is short yet powerful.\n",
    "\n",
    "Like this one-line recursive implementation of the [Euclidean Algorithm](https://en.wikipedia.org/wiki/Euclidean_algorithm):"
   ]
  },
  {
   "cell_type": "code",
   "execution_count": null,
   "id": "4700a0df",
   "metadata": {},
   "outputs": [],
   "source": [
    "gcd(a, b) =  b == 0 ?  a  :  gcd(b, a % b)"
   ]
  },
  {
   "cell_type": "code",
   "execution_count": null,
   "id": "52cf4c6a",
   "metadata": {},
   "outputs": [],
   "source": [
    "gcd(237934564903214447864796765423105634076804062380125, 46805092789549878742860339647868490386740234760875)"
   ]
  },
  {
   "cell_type": "markdown",
   "id": "a2d523e1",
   "metadata": {},
   "source": [
    "This code is directly translated from the corresponding mathematical formula:\n",
    "$$\n",
    "\\gcd(a, b) = \\begin{cases}\n",
    "a, & \\text{if } b = 0,\\\\\n",
    "\\gcd(b, a \\bmod b), & \\text{else,}\n",
    "\\end{cases}\n",
    "$$\n",
    "which is helpful for **proving desirable properties** of an algorithm (meaning, termination, correctness, ...).  Also it can serve as a **model for variations** (for speed, ...) or **extensions** (progress reports, additional data, ...)."
   ]
  },
  {
   "cell_type": "markdown",
   "id": "4b421438-ae98-406a-99e9-fec3cf101b0e",
   "metadata": {},
   "source": [
    "<div class=\"alert alert-warning\">\n",
    "\n",
    "<img src=\"images/julia.png\" alt=\"julia\" width=\"30\">\n",
    "\n",
    "* A **simple function** can be defined by just assigning a formula to the function call expression, like\n",
    "  ```julia\n",
    "  square(x) = x^2\n",
    "  ```\n",
    "* Then `square(2)` should return `4`.\n",
    "\n",
    "</div>"
   ]
  },
  {
   "cell_type": "markdown",
   "id": "eeb60858",
   "metadata": {},
   "source": [
    "Many of my algorithms are variations or extensions of the **orbit algorithm**, a simple $3$-step procedure of the form:\n",
    "\n",
    "1. **Initialize.** (a list)\n",
    "2. **Loop.**  (over the list and grow it)\n",
    "3. **Return.**  (the list)\n",
    "\n",
    "We will soon see that the list really is a **tree**, and that the algorithm performs some kind of **tree traversal** ..."
   ]
  },
  {
   "cell_type": "markdown",
   "id": "07a2bc9e",
   "metadata": {},
   "source": [
    "##  Tree Traversal: BFS vs DFS"
   ]
  },
  {
   "cell_type": "markdown",
   "id": "18ec65fa-9c94-40c6-a7e8-0060a1536c8d",
   "metadata": {},
   "source": [
    "* A **tree** is a connected, cycle-free (simple) graph.  A **rooted tree** is a tree with a distinguished node, the **root** of the tree.\n",
    "* With respect to the root, each (non-root) node in the tree has a unique **parent** node, of which it is a **child** node.\n",
    "* Implicitly, a rooted tree is then a **digraph** (i.e., a directed graph) with arrows pointing away from the root, from the parent to its children."
   ]
  },
  {
   "attachments": {},
   "cell_type": "markdown",
   "id": "49b1ab69-794c-48b2-9f94-bc8b17d163eb",
   "metadata": {},
   "source": [
    "<div class=\"alert alert-block alert-success\">\n",
    "\n",
    "* **Example.** Here is tree with node set $\\{1,2, \\ldots, 7\\}$ and root $6$ (in white):\n",
    "\n",
    "![e7 tree](images/e7tree.png)\n",
    "![e7 direct](images/e7direct.png)\n",
    "\n",
    "The parent of node $2$ is node $4$.  The children of node $4$ are nodes $2$ and $3$.\n",
    "</div>"
   ]
  },
  {
   "cell_type": "markdown",
   "id": "62c855d8",
   "metadata": {},
   "source": [
    "* **Breath First Search** (BFS) and **Depth First Search**  (DFS) provide strategies for traversing a tree in a simple and systematic fashion.\n",
    "* For this, we assume that each **node** $x$ in the tree knows all its **children** as a list $x$.next.\n",
    "* BFS uses a FIFO **queue** (first in, first out), while DFS uses a LIFO **stack** (last in, first out).\n",
    "* We use `pop()` to remove an item, and `push()` to add items to either data structure.\n",
    "* Then the two **algorithms** for visiting all nodes of a tree with root $x$ can be described as an initialization step, followed by a loop."
   ]
  },
  {
   "cell_type": "markdown",
   "id": "c24ee00a",
   "metadata": {},
   "source": [
    "![bfs vs dfs](images/bfsdfs.png)"
   ]
  },
  {
   "attachments": {},
   "cell_type": "markdown",
   "id": "b1280c09-2073-420d-8847-bcbe3699e766",
   "metadata": {},
   "source": [
    "* In practice, BFS can take advantage of **dynamic lists** in a `for` loop.\n",
    "* While DFS, using the **function call stack**, can be implemented **recursively**."
   ]
  },
  {
   "attachments": {},
   "cell_type": "markdown",
   "id": "514c0a0f-886f-4970-a19d-3a8759bb6b28",
   "metadata": {},
   "source": [
    "<div class=\"alert alert-warning\">\n",
    "\n",
    "<img src=\"images/julia.png\" alt=\"julia\" width=\"30\">  \n",
    "\n",
    "* A **for loop** has the general form\n",
    "  ```julia\n",
    "  for <var> in <list>\n",
    "      <body>\n",
    "  end\n",
    "  ```\n",
    "* A **function definition** has the general form\n",
    "  ```julia\n",
    "  function <name> ( <params> )\n",
    "      <body>\n",
    "  end\n",
    "  ```\n",
    "\n",
    "</div>"
   ]
  },
  {
   "cell_type": "markdown",
   "id": "b9237d4c-a37b-4f0f-a0a8-0eabd54c9a14",
   "metadata": {},
   "source": [
    "* Here is an implementation of BFS in `julia`, with a `visit` function as explicit argument."
   ]
  },
  {
   "cell_type": "code",
   "execution_count": null,
   "id": "f59b0acb",
   "metadata": {},
   "outputs": [],
   "source": [
    "function BFS(x, visit)\n",
    "    Q = [x]\n",
    "    for y in Q\n",
    "        visit(y)\n",
    "        append!(Q, y.next)\n",
    "    end\n",
    "end"
   ]
  },
  {
   "cell_type": "markdown",
   "id": "4bdbc19b-ab37-4c80-ae8d-c3eeeafcfb8f",
   "metadata": {},
   "source": [
    "* Here is an implementation of DFS in `julia`, with a `visit` function as explicit argument."
   ]
  },
  {
   "cell_type": "code",
   "execution_count": null,
   "id": "403cde0a",
   "metadata": {},
   "outputs": [],
   "source": [
    "function DFS(x, visit)\n",
    "    visit(x)\n",
    "    for z in x.next\n",
    "        DFS(z, visit)\n",
    "    end\n",
    "end"
   ]
  },
  {
   "cell_type": "markdown",
   "id": "92154c67",
   "metadata": {},
   "source": [
    "* For an application to the above example of a tree let's organize the tree as a collection of `Node` records, with a component `name` (for their own name, e.g., their position in a list `nodes`) and a component `next` (a list of references to their children)."
   ]
  },
  {
   "cell_type": "markdown",
   "id": "8cb91746-55a4-4bb5-900e-abf3d2d48899",
   "metadata": {},
   "source": [
    "<div class=\"alert alert-warning\">\n",
    "\n",
    "<img src=\"images/julia.png\" alt=\"julia\" width=\"30\">\n",
    "\n",
    "* Users can define their own **data types**.\n",
    "* A new **composite type definition** has the form\n",
    "  ```julia\n",
    "  struct <Name>\n",
    "      <parts>\n",
    "  end\n",
    "  ```\n",
    "* Each part, in addition to its **name**, can declare its **type** after `::`\n",
    "* The name of the data type serves as **default constructor**, which when called creates a new object of this type, with given values assigned to each of the parts. \n",
    "</div>"
   ]
  },
  {
   "cell_type": "code",
   "execution_count": null,
   "id": "6bca1e3e",
   "metadata": {},
   "outputs": [],
   "source": [
    "struct Node\n",
    "    name\n",
    "    next::Array{Node}\n",
    "end"
   ]
  },
  {
   "cell_type": "markdown",
   "id": "19d10e47-94b0-4d5a-8a40-a34144885055",
   "metadata": {},
   "source": [
    "* A single node with no children can then be made with `julia`'s implicitly provided constructor."
   ]
  },
  {
   "cell_type": "code",
   "execution_count": null,
   "id": "fc07e801-dcab-48dd-804d-cbff487f2117",
   "metadata": {},
   "outputs": [],
   "source": [
    "Node(9, [])"
   ]
  },
  {
   "cell_type": "markdown",
   "id": "eb9155a6",
   "metadata": {},
   "source": [
    "* The actual tree can then be created from a list of parents as follows."
   ]
  },
  {
   "cell_type": "code",
   "execution_count": null,
   "id": "bce7264b",
   "metadata": {},
   "outputs": [],
   "source": [
    "parents = [3,4,4,5,6,6,6]\n",
    "nodes = [Node(i, []) for i in 1:7]\n",
    "for (i,k) in pairs(parents)\n",
    "    i == k || push!(nodes[k].next, nodes[i])\n",
    "end\n",
    "root = nodes[6]"
   ]
  },
  {
   "cell_type": "markdown",
   "id": "70e7c932",
   "metadata": {},
   "source": [
    "* Define a visitor function `pr` that simply prints the name of each node it encounters ..."
   ]
  },
  {
   "cell_type": "code",
   "execution_count": null,
   "id": "1c6a97c6",
   "metadata": {},
   "outputs": [],
   "source": [
    "pr(x) = print(x.name, \", \")"
   ]
  },
  {
   "cell_type": "markdown",
   "id": "cd4e9550",
   "metadata": {},
   "source": [
    "* ... BFS and DFS list all the nodes in slightly different orders:"
   ]
  },
  {
   "cell_type": "code",
   "execution_count": null,
   "id": "c9c6eb24",
   "metadata": {},
   "outputs": [],
   "source": [
    "BFS(root, pr);"
   ]
  },
  {
   "cell_type": "code",
   "execution_count": null,
   "id": "f3d5999a",
   "metadata": {},
   "outputs": [],
   "source": [
    "DFS(root, pr);"
   ]
  },
  {
   "cell_type": "markdown",
   "id": "2cb6862b",
   "metadata": {},
   "source": [
    "* Recall the graph: ![e7 tree](images/e7tree.png)"
   ]
  },
  {
   "cell_type": "markdown",
   "id": "89155625",
   "metadata": {},
   "source": [
    "* The recursive strategy can be modified to suit a specific purpose, e.g., to print a tree as a tree "
   ]
  },
  {
   "cell_type": "code",
   "execution_count": null,
   "id": "64bf4976",
   "metadata": {},
   "outputs": [],
   "source": [
    "function tree_print(x, indent = \"\", first = true)\n",
    "    first || print(\"\\n\", indent)\n",
    "    print(\"-\", x.name);\n",
    "    first = true\n",
    "    for c in x.next\n",
    "        tree_print(c, indent * \"  \", first)\n",
    "        first = false\n",
    "    end\n",
    "end"
   ]
  },
  {
   "cell_type": "code",
   "execution_count": null,
   "id": "ffc590e5",
   "metadata": {},
   "outputs": [],
   "source": [
    "tree_print(root);"
   ]
  },
  {
   "cell_type": "markdown",
   "id": "11e9cd34",
   "metadata": {},
   "source": [
    "### Graph Traversal"
   ]
  },
  {
   "cell_type": "markdown",
   "id": "92d3e5c6",
   "metadata": {},
   "source": [
    "* Both BFS and DFS can be applied to a (simple or directed) **graph**.\n",
    "* Here, the **same node** then can possibly be reached through **different paths**.\n",
    "* Thus, some care needs to be taken to **manage** these **repeat encounters**.\n",
    "* We'll see how this is done in the examples below."
   ]
  },
  {
   "cell_type": "markdown",
   "id": "78eb8808",
   "metadata": {},
   "source": [
    "###  Applications"
   ]
  },
  {
   "cell_type": "markdown",
   "id": "fba9f3f9",
   "metadata": {},
   "source": [
    "* distance between nodes\n",
    "* shortest paths\n",
    "* connected components\n",
    "* ...\n",
    "* see Exercises."
   ]
  },
  {
   "cell_type": "markdown",
   "id": "10fb7214",
   "metadata": {},
   "source": [
    "## Orbit Algorithms"
   ]
  },
  {
   "cell_type": "markdown",
   "id": "0d08ed19-e63e-4562-9341-5a945f28b178",
   "metadata": {},
   "source": [
    "<div class=\"alert alert-danger\">\n",
    "\n",
    "**Definition.** An **action** (from the right) of a group $G$ on a set $X$ is map $X \\times G \\to X$ such that\n",
    "1. $x.1 = x$ for all $x \\in X$,\n",
    "2. $x.(ab) = (x.a).b$ for all $x \\in X$ and all $a, b \\in G$.\n",
    "\n",
    "</div>"
   ]
  },
  {
   "cell_type": "markdown",
   "id": "1939597e",
   "metadata": {},
   "source": [
    "* **Group actions** are a rich source of graphs.\n",
    "* Here, the **nodes** of the graph are the elements $x$ of the domain $X$ that is acted upon.\n",
    "* The **edges** of the graph are of the form $x \\stackrel{s}{\\longrightarrow} x.s$, implicitly given by the action.\n",
    "* The elements $s$ typically come from a set of **generators** of the acting group."
   ]
  },
  {
   "cell_type": "markdown",
   "id": "3f55b408",
   "metadata": {},
   "source": [
    "<div class=\"alert alert-danger\">\n",
    "\n",
    "**Definition.**\n",
    "Let $G$ be a group acting on a set $X$ via $(x, a) \\mapsto x.a$, and suppose that $G = \\langle S \\rangle$ for \n",
    "some $S \\subseteq G$. The **action graph** $\\Gamma(S, X)$ is the (directed) graph with \n",
    "* **vertices:** $x \\in X$, and\n",
    "* **edges:** $x \\stackrel{s}{\\longrightarrow} x.s$ for $x \\in X$, $s \\in S$.\n",
    "</div>"
   ]
  },
  {
   "cell_type": "markdown",
   "id": "e63770eb",
   "metadata": {},
   "source": [
    "* The **orbit** of $x \\in X$ under $G$ is the set $x^G = \\{x.a : a \\in G\\}$.  It corresponds to the **connected component** of $x$ in the action graph $\\Gamma(S, X)$.\n",
    "* We formulate and apply a variant of BFS called **orbit algorithm** to compute orbits and other properties of actions of $G$.\n",
    "* You'll be amazed by what all qualifies as an orbit ..."
   ]
  },
  {
   "cell_type": "markdown",
   "id": "bd76b9e9",
   "metadata": {},
   "source": [
    "### The Orbit Algorithm"
   ]
  },
  {
   "cell_type": "markdown",
   "id": "0770fa56",
   "metadata": {},
   "source": [
    "* In order to have some groups to play with, provide a list of transpositions of adjacent points."
   ]
  },
  {
   "cell_type": "code",
   "execution_count": null,
   "id": "b37b1178",
   "metadata": {},
   "outputs": [],
   "source": [
    "push!(LOAD_PATH, \"./julia\")\n",
    "using permutation"
   ]
  },
  {
   "cell_type": "code",
   "execution_count": null,
   "id": "2bb15cd1",
   "metadata": {},
   "outputs": [],
   "source": [
    "transpositions(n::Integer) = [transposition(n, j-1, j) for j in 2:n]"
   ]
  },
  {
   "cell_type": "markdown",
   "id": "b88e6d37",
   "metadata": {},
   "source": [
    "* For example, on $4$ points, the **simple transpositions** are $(1,2) = (^{1234}_{2134})$, $(2,3) = (^{1234}_{1324})$ and $(3,4) = (^{1234}_{1243})$. (Which group do they generate?)\n",
    "* In the calculations below, we will use **one-line notation** $[2,1,3,4]$, $[1,3,2,4]$ and $[1,2,4,3]$ for these."
   ]
  },
  {
   "cell_type": "code",
   "execution_count": null,
   "id": "e18d48e6-a833-41a9-b831-8cf94679295e",
   "metadata": {},
   "outputs": [],
   "source": [
    "n = 4\n",
    "id = one(Perm, n)"
   ]
  },
  {
   "cell_type": "code",
   "execution_count": null,
   "id": "20cdf647-159d-42e2-a653-3b40ef037e8a",
   "metadata": {},
   "outputs": [],
   "source": [
    "swaps = transpositions(n)"
   ]
  },
  {
   "cell_type": "markdown",
   "id": "6ac13200-7346-47bf-a31b-24e443912dbb",
   "metadata": {},
   "source": [
    "* Now suppose a finite group $G$ acts on a finite set $X$.\n",
    "* For a given element $x \\in X$, we wish to determine its orbit $x^G$ as the set of all the nodes in the graph $\\Gamma(S, X)$ that can be reached from $x$ through the edges labelled by elements $s \\in S$.\n",
    "* This looks like a case for BFS with $y$.next ${} = \\{y.s : s \\in S\\}$."
   ]
  },
  {
   "cell_type": "markdown",
   "id": "dbdca0af-0f03-4b81-9c2b-60dce7ea38c0",
   "metadata": {},
   "source": [
    "<div class=\"alert alert-warning\">\n",
    "\n",
    "<img src=\"images/julia.png\" alt=\"julia\" width=\"30\">\n",
    "\n",
    "* **Functions** are **first class objects**:\n",
    "    * they can be passed as **arguments** into function calls and\n",
    "    * they can be **returned as values** from function calls.\n",
    "\n",
    "</div>"
   ]
  },
  {
   "cell_type": "markdown",
   "id": "eaf92643-c2a6-49a2-802d-a995f4f4ebb2",
   "metadata": {},
   "source": [
    "* The action of $G$ on $X$ is described by an **action function** `under`: calling `under(x, s)` returns $x.s$ (&ldquo;$x$ under $s$&rdquo;).\n",
    "* For example, the **standard action** on points $(x, a) \\mapsto x^a$ can be expressed as"
   ]
  },
  {
   "cell_type": "code",
   "execution_count": null,
   "id": "6feed937",
   "metadata": {},
   "outputs": [],
   "source": [
    "onPoints(x, a) = x^a"
   ]
  },
  {
   "cell_type": "markdown",
   "id": "52f5653f-36ba-4fee-be97-d497d740dc0f",
   "metadata": {},
   "source": [
    "Then $2^{(2,3)} = 3$:"
   ]
  },
  {
   "cell_type": "code",
   "execution_count": null,
   "id": "b160965c-657d-498a-850a-eecad05a3e97",
   "metadata": {},
   "outputs": [],
   "source": [
    "onPoints(2, swaps[2])"
   ]
  },
  {
   "cell_type": "markdown",
   "id": "1cbd4f79",
   "metadata": {},
   "source": [
    "<div class=\"alert alert-info\">\n",
    "    \n",
    "**Orbit Algorithm**\n",
    "    \n",
    "* **Input:** a list `aaa` of generating operators, a point `x` of the domain $X$, and an action function `under`. \n",
    "* **Output:** the **orbit** $x^G = \\{x.a : a \\in G\\}$ of the point `x` under the action of the group $G$ generated by `aaa`.\n",
    "    \n",
    "</div>"
   ]
  },
  {
   "cell_type": "code",
   "execution_count": null,
   "id": "a3fc0dab",
   "metadata": {},
   "outputs": [],
   "source": [
    "function orbit(aaa, x, under)\n",
    "    list = [x]\n",
    "    for y in list\n",
    "        for a in aaa\n",
    "            z = under(y, a)\n",
    "            z in list || push!(list, z)\n",
    "        end\n",
    "    end\n",
    "    return list\n",
    "end"
   ]
  },
  {
   "cell_type": "markdown",
   "id": "d030021b-759c-422a-b28b-98e4209e384b",
   "metadata": {},
   "source": [
    "<div class=\"alert alert-warning\">\n",
    "\n",
    "<img src=\"images/julia.png\" alt=\"julia\" width=\"30\">\n",
    "\n",
    "* The logical operators `||` (OR) and `&&` (AND) are [short-circuiting](https://docs.julialang.org/en/v1/manual/control-flow/#Short-Circuit-Evaluation) and can be used to **abbreviate conditional statements**.\n",
    "\n",
    "</div>"
   ]
  },
  {
   "cell_type": "markdown",
   "id": "ce3a821b",
   "metadata": {},
   "source": [
    "* **Example.** To find the **orbit** of a point $x$ under the group generated by the swaps: apply the orbit algorithm to \n",
    "  - (i) the swaps, \n",
    "  - (ii) the point $x$, \n",
    "  - (iii) the standard action **on points** $(x, a) \\mapsto x^a$"
   ]
  },
  {
   "cell_type": "code",
   "execution_count": null,
   "id": "8d4a10b0",
   "metadata": {},
   "outputs": [],
   "source": [
    "orbit(swaps, 2, onPoints)"
   ]
  },
  {
   "cell_type": "markdown",
   "id": "cf9cd8cb",
   "metadata": {},
   "source": [
    "### Elements"
   ]
  },
  {
   "cell_type": "markdown",
   "id": "aea4a72f-1e66-4b81-bb68-75b2691dbea5",
   "metadata": {},
   "source": [
    "* The group $G$ acts on itself by **right multiplication**: $(x, a) \\mapsto xa$ is a map from $G \\times G$ to $G$ that satisfies the action axioms.\n",
    "* The set $G$ is the orbit of any element $x \\in G$ under this action, in particular of the identity permutation."
   ]
  },
  {
   "cell_type": "code",
   "execution_count": null,
   "id": "97acef78",
   "metadata": {},
   "outputs": [],
   "source": [
    "onRight(x, a) = x * a"
   ]
  },
  {
   "cell_type": "markdown",
   "id": "3305f528",
   "metadata": {},
   "source": [
    "* To find the **elements** of the group generated by the swaps: apply the orbit algorithm to \n",
    "  - (i) the swaps, \n",
    "  - (ii) the identity permutation, \n",
    "  - (iii) the action **on the right** $(x, a) \\mapsto x a$"
   ]
  },
  {
   "cell_type": "code",
   "execution_count": null,
   "id": "c55934d5",
   "metadata": {},
   "outputs": [],
   "source": [
    "orbit(swaps, id, onRight)"
   ]
  },
  {
   "cell_type": "markdown",
   "id": "63815ad2",
   "metadata": {},
   "source": [
    "* In CGT, it is customary to represent a group $G = \\langle A \\rangle$ by a **list $A$ of generators** (avoiding the need to list all its elements where possible).\n",
    "* Let's follow this **design principle** and turn the list of generators into a group object, and from now on formulate algorithms in terms of the group.\n",
    "* For this, in `julia` we declare a new **composite type** `PermGp` for objects that consist of a list `gens` of permutations (the **generators** of a permutation group), and a single permutation `one` (the **identity element** of that group)."
   ]
  },
  {
   "cell_type": "code",
   "execution_count": null,
   "id": "6238bb6d",
   "metadata": {},
   "outputs": [],
   "source": [
    "struct PermGp\n",
    "    gens::Array{Perm}\n",
    "    one::Perm\n",
    "end"
   ]
  },
  {
   "cell_type": "code",
   "execution_count": null,
   "id": "28ddbbfa",
   "metadata": {},
   "outputs": [],
   "source": [
    "group = PermGp(swaps, id)\n",
    "group.gens"
   ]
  },
  {
   "cell_type": "markdown",
   "id": "954b3d12",
   "metadata": {},
   "source": [
    "* Then we can define, for instance, a function `elements` to compute the **elements of a group**:"
   ]
  },
  {
   "cell_type": "code",
   "execution_count": null,
   "id": "ceaf66d4",
   "metadata": {},
   "outputs": [],
   "source": [
    "elements(group::PermGp) = sort(orbit(group.gens, group.one, onRight))"
   ]
  },
  {
   "cell_type": "markdown",
   "id": "451ccd9c",
   "metadata": {},
   "source": [
    "* test it"
   ]
  },
  {
   "cell_type": "code",
   "execution_count": null,
   "id": "0727ba05",
   "metadata": {
    "scrolled": true
   },
   "outputs": [],
   "source": [
    "eee = elements(group)"
   ]
  },
  {
   "cell_type": "markdown",
   "id": "3adcf794",
   "metadata": {},
   "source": [
    "* We can use this function to **test membership** in a group"
   ]
  },
  {
   "cell_type": "code",
   "execution_count": null,
   "id": "96d9a501",
   "metadata": {},
   "outputs": [],
   "source": [
    "import Base.in\n",
    "in(a::Perm, group::PermGp) = a in elements(group)"
   ]
  },
  {
   "cell_type": "code",
   "execution_count": null,
   "id": "574421dc-5ce0-45e8-9ab7-7b06d9f192a9",
   "metadata": {},
   "outputs": [],
   "source": [
    "Perm([4,3,2,1]) in group"
   ]
  },
  {
   "cell_type": "markdown",
   "id": "4ef080e6-f86d-4547-a495-941cd8912ca4",
   "metadata": {},
   "source": [
    "<div class=\"alert alert-warning\">\n",
    "\n",
    "<img src=\"images/julia.png\" alt=\"julia\" width=\"30\">  \n",
    "\n",
    "* [in](https://docs.julialang.org/en/v1/base/collections/#Base.in)\n",
    "\n",
    "</div>"
   ]
  },
  {
   "cell_type": "markdown",
   "id": "6865dd84",
   "metadata": {},
   "source": [
    "### Words in the generators"
   ]
  },
  {
   "cell_type": "markdown",
   "id": "b4e1502b",
   "metadata": {},
   "source": [
    "* Sometimes the question arises: how is a certain group element a **product of the generators**?\n",
    "* In order to express an element of the group as **word** in the generators, we introduce an action on words.  \n",
    "* For this, the generators $s \\in S$ will be represented by symbols in $\\mathbb{N} = \\{1,2,3,\\dotsc\\}$ (Who is acting? On what?)\n",
    "* The image of a word $w$ over $\\mathbb{N}$ under an element $s$ of $\\mathbb{N}$ is simply $ws$, the word obtained from $w$ by appending the letter $s$."
   ]
  },
  {
   "cell_type": "code",
   "execution_count": null,
   "id": "d5c56534",
   "metadata": {},
   "outputs": [],
   "source": [
    "onWords(word, s) = [word; s]"
   ]
  },
  {
   "cell_type": "markdown",
   "id": "c98f084b-b31a-45ec-a8c1-34f6c05091eb",
   "metadata": {},
   "source": [
    "<div class=\"alert alert-warning\">\n",
    "\n",
    "<img src=\"images/julia.png\" alt=\"julia\" width=\"30\">  \n",
    "\n",
    "* [vcat](https://docs.julialang.org/en/v1/base/arrays/#Base.vcat)\n",
    "\n",
    "</div>"
   ]
  },
  {
   "cell_type": "markdown",
   "id": "f8505365",
   "metadata": {},
   "source": [
    "* The corresponding orbit algorithm is now required to produce **two lists in parallel**: the list `list` of elements as before, and a list `words` of corresponding words.\n",
    "* We now need more control over the lists and make the indices `i` (in `list`) and `k` (in `aaa`) explict.\n",
    "* As a consequence, the loop over `list` becomes a `while` loop, and we must not forget to increment `i`."
   ]
  },
  {
   "cell_type": "code",
   "execution_count": null,
   "id": "9ff7f0c6-ffba-44b9-a793-13a9918dec88",
   "metadata": {},
   "outputs": [],
   "source": [
    "function orbit_with_words(aaa, x, under)\n",
    "    list = [x]\n",
    "    words = Array{Int}[[]]\n",
    "    for (i, y) in enumerate(list)\n",
    "        for (k, a) in enumerate(aaa)\n",
    "            z = under(y, a)\n",
    "            w = onWords(words[i], k)\n",
    "            z in list || (push!(list, z), push!(words, w))\n",
    "        end\n",
    "    end\n",
    "    return (list = list, words = words)\n",
    "end"
   ]
  },
  {
   "cell_type": "code",
   "execution_count": null,
   "id": "27213adc-b502-4573-b33a-135955c64507",
   "metadata": {},
   "outputs": [],
   "source": [
    "orbit_with_words(swaps, id, onRight).words"
   ]
  },
  {
   "cell_type": "markdown",
   "id": "2c34dd1f-5b4e-419d-90a5-6e81ce9292e9",
   "metadata": {},
   "source": [
    "<div class=\"alert alert-warning\">\n",
    "\n",
    "<img src=\"images/julia.png\" alt=\"julia\" width=\"30\">  \n",
    "\n",
    "* [named tuples](https://docs.julialang.org/en/v1/manual/functions/#Named-Tuples)\n",
    "\n",
    "</div>"
   ]
  },
  {
   "cell_type": "markdown",
   "id": "568c1048",
   "metadata": {},
   "source": [
    "* We now can use this new variant of the orbit algorithm in the same way as before."
   ]
  },
  {
   "cell_type": "code",
   "execution_count": null,
   "id": "9f911b45",
   "metadata": {},
   "outputs": [],
   "source": [
    "www = orbit_with_words(swaps, id, onRight).words"
   ]
  },
  {
   "cell_type": "markdown",
   "id": "ecab76a0",
   "metadata": {},
   "source": [
    "* Note that, by construction, the orbit algorithm (being a form of BFS) finds a **word of shortest possible length** for each group element.\n",
    "* In the above example, we can see how the group elements are enumerated by length, as a list that ends with a **unique word of longest length**.  Not every group might have such a unique longest element."
   ]
  },
  {
   "cell_type": "markdown",
   "id": "9304b4b8",
   "metadata": {},
   "source": [
    "## Conjugacy Classes"
   ]
  },
  {
   "cell_type": "markdown",
   "id": "58377027",
   "metadata": {},
   "source": [
    "* The group $G$ acts on itself by **conjugation**: $(x, a) \\mapsto x^a = a^{-1} x a$.\n",
    "* This action partitions the group $G$ into **conjugacy classes**.\n",
    "* With suitable arguments, the action function `onPoints` from above also applies to the conjugation action of $G$ on itself.\n",
    "* Hence, we can use the orbit algorithm to compute the conjugacy class of a single element in $G$.\n",
    "* Perhaps surprisingly, it also finds the list of **all conjugacy classes** of $G$."
   ]
  },
  {
   "cell_type": "markdown",
   "id": "b9fdf752",
   "metadata": {},
   "source": [
    "###  Conjugacy Class"
   ]
  },
  {
   "cell_type": "markdown",
   "id": "6ce51397",
   "metadata": {},
   "source": [
    "* To find the **conjugacy class** of an element $x$ of a group: apply the orbit algorithm to \n",
    "  - (i) the generators of the group, \n",
    "  - (ii) the element $x$, \n",
    "  - (iii) the on-points-action $(x, a) \\mapsto x^a = a^{-1} x a$"
   ]
  },
  {
   "cell_type": "code",
   "execution_count": null,
   "id": "fe19f3f1",
   "metadata": {},
   "outputs": [],
   "source": [
    "class(group::PermGp, x::Perm) = orbit(group.gens, x, onPoints)"
   ]
  },
  {
   "cell_type": "markdown",
   "id": "dc3b446b",
   "metadata": {},
   "source": [
    "* test on a random element"
   ]
  },
  {
   "cell_type": "code",
   "execution_count": null,
   "id": "33dea721",
   "metadata": {},
   "outputs": [],
   "source": [
    "a = rand(eee)"
   ]
  },
  {
   "cell_type": "code",
   "execution_count": null,
   "id": "d5227ef9",
   "metadata": {},
   "outputs": [],
   "source": [
    "c = class(group, a)"
   ]
  },
  {
   "cell_type": "code",
   "execution_count": null,
   "id": "f083467e-bb20-49e4-b3c3-b82b6eb62ee3",
   "metadata": {},
   "outputs": [],
   "source": [
    "[cycles(a) for a in c]"
   ]
  },
  {
   "cell_type": "code",
   "execution_count": null,
   "id": "94a85d37-eb83-4831-8b8b-a5efdc90c980",
   "metadata": {},
   "outputs": [],
   "source": [
    "print([shape(a) for a in c])"
   ]
  },
  {
   "cell_type": "markdown",
   "id": "399afaf3-d12f-4eb2-9d9b-d54dffd4d1c9",
   "metadata": {},
   "source": [
    "<div class=\"alert alert-warning\">\n",
    "\n",
    "<img src=\"images/julia.png\" alt=\"julia\" width=\"30\">  \n",
    "\n",
    "* [list comprehension](https://docs.julialang.org/en/v1/manual/arrays/#man-comprehensions)\n",
    "\n",
    "</div>"
   ]
  },
  {
   "cell_type": "markdown",
   "id": "4e78e8c3",
   "metadata": {},
   "source": [
    "* Sometimes it is convenient to treat the orbit $x^G$ of the point $x$ under the group $G$ as a pair $(G, x^G)$, where $x^G$ is a set, or a sorted list.\n",
    "* Let's provide a data type `Orbit` for this."
   ]
  },
  {
   "cell_type": "code",
   "execution_count": null,
   "id": "42bdf0ac",
   "metadata": {},
   "outputs": [],
   "source": [
    "struct Orbit\n",
    "    group\n",
    "    elts  # sorted!\n",
    "end"
   ]
  },
  {
   "cell_type": "markdown",
   "id": "d81f153c",
   "metadata": {},
   "source": [
    "* The class of `a` in `G` is denoted (and constructed) as `a^G`."
   ]
  },
  {
   "cell_type": "code",
   "execution_count": null,
   "id": "231f1d5b",
   "metadata": {},
   "outputs": [],
   "source": [
    "import Base: ^\n",
    "^(a::Perm, group::PermGp) = Orbit(group, sort(class(group, a)))"
   ]
  },
  {
   "cell_type": "code",
   "execution_count": null,
   "id": "829ec61d",
   "metadata": {},
   "outputs": [],
   "source": [
    "cl = a^group"
   ]
  },
  {
   "cell_type": "markdown",
   "id": "6458da5b",
   "metadata": {},
   "source": [
    "* We want to be able to test membership in, and to compare orbits: as sorted lists of elements, two classes are the same if their first elements are the same."
   ]
  },
  {
   "cell_type": "code",
   "execution_count": null,
   "id": "5ef5e850",
   "metadata": {},
   "outputs": [],
   "source": [
    "import Base: in, isless, ==\n",
    "in(x, o::Orbit) = x in o.elts\n",
    "==(o::Orbit, other::Orbit) = o.elts[1] == other.elts[1]\n",
    "isless(o::Orbit, other::Orbit) = o.elts[1] < other.elts[1]"
   ]
  },
  {
   "cell_type": "code",
   "execution_count": null,
   "id": "6b2e1459",
   "metadata": {},
   "outputs": [],
   "source": [
    "cl == a^group"
   ]
  },
  {
   "cell_type": "code",
   "execution_count": null,
   "id": "b104bc27",
   "metadata": {},
   "outputs": [],
   "source": [
    "cl == (a^0)^group"
   ]
  },
  {
   "cell_type": "markdown",
   "id": "86b04517",
   "metadata": {},
   "source": [
    "###  Conjugacy Classes"
   ]
  },
  {
   "cell_type": "markdown",
   "id": "4fad8d8f",
   "metadata": {},
   "source": [
    "* To find all conjugacy classes of a group, the list of generators itself needs to be **closed under conjugation**.\n",
    "* We need a version `orbitx` of the orbit algorithm that **initializes** its queue with **several points**, not just one."
   ]
  },
  {
   "cell_type": "code",
   "execution_count": null,
   "id": "2a005a95",
   "metadata": {},
   "outputs": [],
   "source": [
    "function orbitx(aaa, xxx, under)\n",
    "    list = copy(xxx)\n",
    "    for y in list\n",
    "        for a in aaa\n",
    "            z = under(y, a)\n",
    "            z in list || push!(list, z)\n",
    "        end\n",
    "    end\n",
    "    return list\n",
    "end"
   ]
  },
  {
   "cell_type": "markdown",
   "id": "9508cc11",
   "metadata": {},
   "source": [
    "* For example, all conjugates of the swaps (what's this set usually called?)"
   ]
  },
  {
   "cell_type": "code",
   "execution_count": null,
   "id": "c9012b0e",
   "metadata": {},
   "outputs": [],
   "source": [
    "o = orbitx(swaps, swaps, onPoints)"
   ]
  },
  {
   "cell_type": "code",
   "execution_count": null,
   "id": "f894ef99-b1a9-41c0-a5d7-2d951bb91358",
   "metadata": {},
   "outputs": [],
   "source": [
    "[cycles(a) for a in o]"
   ]
  },
  {
   "cell_type": "markdown",
   "id": "cb64f806",
   "metadata": {},
   "source": [
    "* Now, in order to find all conjugacy classes of the group $G$, we consider the following action of $G$ on its conjugacy classes.\n",
    "* The image of a conjugacy class $x^G$ under right multiplication with a group element $a$ is the conjugacy class $(xa)^G$.  (In what sense is this an action? Is it even well-defined?)"
   ]
  },
  {
   "cell_type": "code",
   "execution_count": null,
   "id": "5d36dee4",
   "metadata": {},
   "outputs": [],
   "source": [
    "onClasses(x, a) = (x.elts[1] * a)^(x.group)"
   ]
  },
  {
   "cell_type": "markdown",
   "id": "6598a161",
   "metadata": {},
   "source": [
    "* To find all **conjugacy classes** of a group $G$:\n",
    "  - we close the set `gens` of generators of $G$ under conjugation, and\n",
    "  - compute the orbit of the class $1^G$ of the identity under the above action on classes."
   ]
  },
  {
   "cell_type": "code",
   "execution_count": null,
   "id": "bdce403c",
   "metadata": {},
   "outputs": [],
   "source": [
    "function conjClasses(gp::PermGp)\n",
    "    orbit(orbitx(gp.gens, gp.gens, onPoints), (gp.one)^gp, onClasses)\n",
    "end"
   ]
  },
  {
   "cell_type": "code",
   "execution_count": null,
   "id": "a42b6ebe",
   "metadata": {},
   "outputs": [],
   "source": [
    "cc = conjClasses(group)"
   ]
  },
  {
   "cell_type": "markdown",
   "id": "3cd5cbf3-a808-49ed-bc93-e781f431a9d2",
   "metadata": {},
   "source": [
    "* Let's check that the sizes of the conjugacy classes add up to the size of the group."
   ]
  },
  {
   "cell_type": "code",
   "execution_count": null,
   "id": "582d85bf",
   "metadata": {},
   "outputs": [],
   "source": [
    "import Base: size\n",
    "size(o::Orbit) = length(o.elts)"
   ]
  },
  {
   "cell_type": "code",
   "execution_count": null,
   "id": "29a67495",
   "metadata": {},
   "outputs": [],
   "source": [
    "[size(c) for c in cc]"
   ]
  },
  {
   "cell_type": "code",
   "execution_count": null,
   "id": "3d49a4ac",
   "metadata": {},
   "outputs": [],
   "source": [
    "n = 5\n",
    "cc = conjClasses(PermGp(transpositions(n), Perm(n)))\n",
    "sum(size.(cc))"
   ]
  },
  {
   "cell_type": "code",
   "execution_count": null,
   "id": "513a60c8-2ddf-4e3c-a0df-891207177fe4",
   "metadata": {},
   "outputs": [],
   "source": [
    "[shape(c.elts[1]) for c in cc]"
   ]
  },
  {
   "cell_type": "markdown",
   "id": "c05f7eeb",
   "metadata": {},
   "source": [
    "## Subgroups"
   ]
  },
  {
   "cell_type": "markdown",
   "id": "5ffecc4a-53fc-4db5-8ae4-8fd264167762",
   "metadata": {},
   "source": [
    "* Let's try and enumerate all subgroups of $G$ as an orbit ..."
   ]
  },
  {
   "cell_type": "markdown",
   "id": "a2b26ba4",
   "metadata": {},
   "source": [
    "<div class=\"alert alert-success\">\n",
    "\n",
    "**Remarks**\n",
    "\n",
    "* The operators `aaa` need not be invertible, nor do they need to generated a group: the orbit algorithm does not require the use of inverses.\n",
    "* Neither do they need to generate a finite domain: the orbit algorithm can terminate if the list `aaa` and the orbit are finite.\n",
    "\n",
    "</div>"
   ]
  },
  {
   "cell_type": "markdown",
   "id": "e2bbb448",
   "metadata": {},
   "source": [
    "* Sometimes, the operators `aaa` generate a **monoid**.  A **monoid action** is defined in the same way as a group action.\n",
    "* A well-known monoid is the **power set** $2^S$ of a finite set $S$, with **set union** as its binary operation, generated by the **singleton sets** $\\{s\\}$, $s \\in S$."
   ]
  },
  {
   "cell_type": "code",
   "execution_count": null,
   "id": "b132cd4e",
   "metadata": {},
   "outputs": [],
   "source": [
    "==(group::PermGp, other::PermGp) = elements(group) == elements(other)\n",
    "isless(group::PermGp, other::PermGp) = elements(group) < elements(other)"
   ]
  },
  {
   "cell_type": "markdown",
   "id": "b42bb4a1",
   "metadata": {},
   "source": [
    "* Let $G$ be a group.\n",
    "* The power set $(2^G, \\cup)$ is a monoid, generated by the singletons $\\{a\\}$, $a \\in G$, as atoms.\n",
    "* $2^G$ acts on the subgroups $H$ of $G$ via **closure**: $H.A = \\langle H, A \\rangle$.  (Check!)"
   ]
  },
  {
   "cell_type": "code",
   "execution_count": null,
   "id": "d539d593",
   "metadata": {},
   "outputs": [],
   "source": [
    "closure(group::PermGp, a::Perm) = PermGp(union(group.gens, a), group.one)"
   ]
  },
  {
   "cell_type": "code",
   "execution_count": null,
   "id": "a0525f18",
   "metadata": {},
   "outputs": [],
   "source": [
    "onGroups(x, a) = closure(x, a)"
   ]
  },
  {
   "cell_type": "markdown",
   "id": "558df82e",
   "metadata": {},
   "source": [
    "* In fact, each subgroup of $G$ lies in the $2^G$-orbit of the trivial subgroup.  (Check!)"
   ]
  },
  {
   "cell_type": "code",
   "execution_count": null,
   "id": "1c827530",
   "metadata": {},
   "outputs": [],
   "source": [
    "subgroups(group) = orbit(elements(group), PermGp([], group.one), onGroups)"
   ]
  },
  {
   "cell_type": "markdown",
   "id": "52271d95",
   "metadata": {},
   "source": [
    "* Let's apply this to our group, generated by the swaps."
   ]
  },
  {
   "cell_type": "code",
   "execution_count": null,
   "id": "b9aeec9c",
   "metadata": {},
   "outputs": [],
   "source": [
    "size(group::PermGp) = length(elements(group))"
   ]
  },
  {
   "cell_type": "code",
   "execution_count": null,
   "id": "22e24974",
   "metadata": {
    "scrolled": true
   },
   "outputs": [],
   "source": [
    "size(group)"
   ]
  },
  {
   "cell_type": "code",
   "execution_count": null,
   "id": "093f9312",
   "metadata": {},
   "outputs": [],
   "source": [
    "subs = subgroups(group)"
   ]
  },
  {
   "cell_type": "code",
   "execution_count": null,
   "id": "4bab2f15",
   "metadata": {},
   "outputs": [],
   "source": [
    "length(subs)"
   ]
  },
  {
   "cell_type": "code",
   "execution_count": null,
   "id": "6256aabd-ae57-4e73-bf71-0296bbda5111",
   "metadata": {},
   "outputs": [],
   "source": [
    "print(size.(subs))"
   ]
  },
  {
   "cell_type": "markdown",
   "id": "4bf8fe09",
   "metadata": {},
   "source": [
    "### Conjugacy Classes of Subgroups"
   ]
  },
  {
   "cell_type": "markdown",
   "id": "c989856e-b75f-4384-8e4f-685690e6312c",
   "metadata": {},
   "source": [
    "* The group $G$ acts on its set of subgroups by conjugation: $(H, a) \\mapsto H^a = \\{h^a : h \\in H\\}$.\n",
    "* Let's implement this as a julia operator `^`, together with a function `subgpClass` that computes the conjugacy class $H^G$ of a given subgroup $H$ of $G$ as $G$-orbit under this action.\n",
    "* We also define `H^G` as an `Orbit` object."
   ]
  },
  {
   "cell_type": "code",
   "execution_count": null,
   "id": "c8f38b27",
   "metadata": {},
   "outputs": [],
   "source": [
    "^(group::PermGp, a::Perm) = PermGp([x^a for x in group.gens], group.one)\n",
    "subgpClass(gp::PermGp, subgp::PermGp) = orbit(gp.gens, subgp, onPoints)\n",
    "^(subgp::PermGp, group::PermGp) = Orbit(group, sort(subgpClass(group, subgp)))"
   ]
  },
  {
   "cell_type": "markdown",
   "id": "0a9a92f0",
   "metadata": {},
   "source": [
    "* Combining ideas from above we now define the image of a conjugacy class of subgroups $H^G$ under a singleton $\\{a\\}$  as the conjugacy class $\\langle H, a \\rangle^G$. (Is this a well-defined action?)"
   ]
  },
  {
   "cell_type": "code",
   "execution_count": null,
   "id": "ad8ad336",
   "metadata": {},
   "outputs": [],
   "source": [
    "onSubgpClasses(x, a) = onGroups(x.elts[1], a)^(x.group)"
   ]
  },
  {
   "cell_type": "markdown",
   "id": "2cc5561c",
   "metadata": {},
   "source": [
    "* To compute all **conjugacy classes of subgroups** of $G$, we determine the orbit of the class of the trivial subgroup under the monoid $(2^G, \\cup)$ with respect to that action."
   ]
  },
  {
   "cell_type": "code",
   "execution_count": null,
   "id": "5469d7f9",
   "metadata": {},
   "outputs": [],
   "source": [
    "function subgpClasses(gp::PermGp)\n",
    "    orbit(elements(gp), PermGp([], gp.one)^gp, onSubgpClasses)\n",
    "end"
   ]
  },
  {
   "cell_type": "code",
   "execution_count": null,
   "id": "0b65254d",
   "metadata": {},
   "outputs": [],
   "source": [
    "ccs = subgpClasses(group);"
   ]
  },
  {
   "cell_type": "code",
   "execution_count": null,
   "id": "2b9a208e",
   "metadata": {},
   "outputs": [],
   "source": [
    "length(ccs)"
   ]
  },
  {
   "cell_type": "code",
   "execution_count": null,
   "id": "487b6b64",
   "metadata": {},
   "outputs": [],
   "source": [
    "print(size.(ccs))"
   ]
  },
  {
   "cell_type": "code",
   "execution_count": null,
   "id": "1ecff222-04e5-4ac9-9aac-c59b647ab8cc",
   "metadata": {},
   "outputs": [],
   "source": [
    "print([size(c.elts[1]) for c in ccs])"
   ]
  },
  {
   "cell_type": "code",
   "execution_count": null,
   "id": "512c996f",
   "metadata": {},
   "outputs": [],
   "source": [
    "sum(size.(ccs))"
   ]
  },
  {
   "cell_type": "markdown",
   "id": "b17bf778-1b83-46a8-bc90-814b7ee5356e",
   "metadata": {},
   "source": [
    "* And a slightly bigger example:"
   ]
  },
  {
   "cell_type": "code",
   "execution_count": null,
   "id": "cb4c9ef1",
   "metadata": {},
   "outputs": [],
   "source": [
    "ccs = subgpClasses(PermGp(transpositions(5), one(Perm, 5)));\n",
    "length(ccs)"
   ]
  },
  {
   "cell_type": "code",
   "execution_count": null,
   "id": "7419dd65",
   "metadata": {},
   "outputs": [],
   "source": [
    "sum(size.(ccs))"
   ]
  },
  {
   "cell_type": "markdown",
   "id": "872bb146-eabc-4045-a130-da9f8db56485",
   "metadata": {},
   "source": [
    "<div class=\"alert alert-success\">\n",
    "\n",
    "**Remarks.**\n",
    "\n",
    "* This naive application of the orbit algorithm is obviously not suitable for larger examples.  But it can still serve as high level description for more refined implementations.\n",
    "* For more counting results on the subgroups of the symmetric group see sequences [A000638](https://oeis.org/A000638) and [A005432](https://oeis.org/A005432) of the **Online Encyclopedia of Integer Sequences**."
   ]
  },
  {
   "cell_type": "markdown",
   "id": "d814411e",
   "metadata": {},
   "source": [
    "## Stabilizer and Transversal"
   ]
  },
  {
   "cell_type": "markdown",
   "id": "6adf01c5-77e1-4f9d-97bd-ecba3d6df147",
   "metadata": {},
   "source": [
    "* The performance of certain orbit calculations can be drastically improved by making systematic use of stabilizer subgroups. "
   ]
  },
  {
   "cell_type": "markdown",
   "id": "382c3133-3ac4-407b-b143-690409c509a9",
   "metadata": {},
   "source": [
    "<div class=\"alert alert-danger\">\n",
    "\n",
    "**Definition.**  Let $G$ be a finite group acting on a set $X$.  The **stabilizer** of the point $x \\in X$ is the set $G_x = \\{a \\in G : x.a = x\\}$.  Clearly, $G_x$ is a subgroup of $G$.\n",
    "\n",
    "</div>"
   ]
  },
  {
   "cell_type": "markdown",
   "id": "e8790b24",
   "metadata": {},
   "source": [
    "* We can use a variant of the orbit algorithm to determine (and remember), for each point $y$ in the $G$-orbit of $x$, a representative element $t_y \\in G$ with $x.t_y = y$.\n",
    "* This list of representatives will form a **transversal** of the cosets of the stabilizer of $x$ in $G$.\n",
    "* By Schreier's Theorem, a generating set for the **stabilizer** can be computed from the transversal."
   ]
  },
  {
   "cell_type": "markdown",
   "id": "cdcd42fe",
   "metadata": {},
   "source": [
    "### Transversal"
   ]
  },
  {
   "cell_type": "markdown",
   "id": "5e77d36f",
   "metadata": {},
   "source": [
    "* We initialize an additional list `reps` with the identity element, mapping $x$ to itself: $x.1 = x$\n",
    "* Whenever a new point $z \\in X$ is found, as image under $a \\in S$ of a point $y \\in X$, we add $t_z := t_y a \\in G$ to the list `reps`."
   ]
  },
  {
   "cell_type": "code",
   "execution_count": null,
   "id": "5f3975bc",
   "metadata": {},
   "outputs": [],
   "source": [
    "function orbit_with_transversal(aaa, x, under)\n",
    "    list = [x]\n",
    "    reps = [aaa[1]^0]\n",
    "    for (i, y) in enumerate(list)\n",
    "        for a in aaa\n",
    "            z = under(y, a)\n",
    "            t = reps[i] * a\n",
    "            z in list || (push!(list, z), push!(reps, t))\n",
    "        end\n",
    "    end\n",
    "    return (list = list, reps = reps)\n",
    "end"
   ]
  },
  {
   "cell_type": "code",
   "execution_count": null,
   "id": "7c432b65",
   "metadata": {},
   "outputs": [],
   "source": [
    "swaps = transpositions(5)\n",
    "transversal = orbit_with_transversal(swaps, 2, onPoints)"
   ]
  },
  {
   "cell_type": "markdown",
   "id": "18eced31",
   "metadata": {},
   "source": [
    "### Stabilizer"
   ]
  },
  {
   "cell_type": "markdown",
   "id": "b8d93a46",
   "metadata": {},
   "source": [
    "<div class=\"alert alert-danger\">\n",
    "\n",
    "**Schreier's Theorem.**\n",
    "Suppose a group $G$, generated by a set $S$,\n",
    "acts on a set $X$ and that $\\{t_y : y \\in x^G\\}$ is a transversal\n",
    "of the orbit of $x \\in X$.  Then the set\n",
    "$$\n",
    "    \\{t_y a t_{y.a}^{-1}: a \\in A,\\, y \\in x^G\\}\n",
    "$$\n",
    "generates the stabilizer $G_x$ of $x$ in $G$.\n",
    "    \n",
    "</div>"
   ]
  },
  {
   "cell_type": "markdown",
   "id": "82fef9cd",
   "metadata": {},
   "source": [
    "* In the next variant of the orbit algorithm, we also collect the Schreier generators $t_ya t_{y.a}^{-1}$ in a list `stab`.\n",
    "* For each newly constructed point $z := y.a$, the simple membership test `z in list` needs to be replaced by  `findfirst(==(z), list)` in order to determine its **exact position** in `list`.\n",
    "* `findfirst` returns `nothing` if the element `z` is not found in `list`."
   ]
  },
  {
   "cell_type": "code",
   "execution_count": null,
   "id": "b80b1cbe",
   "metadata": {},
   "outputs": [],
   "source": [
    "function orbit_with_stabilizer(aaa, x, under)\n",
    "    list = [x]\n",
    "    reps = [aaa[1]^0]\n",
    "    stab = Perm[]\n",
    "    for (i, y) in enumerate(list)\n",
    "        for a in aaa\n",
    "            z = under(y, a)\n",
    "            l = findfirst(==(z), list) # index of z in list\n",
    "            if isnothing(l)\n",
    "                push!(list, z)\n",
    "                push!(reps, reps[i] * a)\n",
    "            else   # x^(reps[i] * a) = x^reps[l]\n",
    "                push!(stab, reps[i] * a / reps[l])\n",
    "            end\n",
    "        end\n",
    "    end\n",
    "    return (list = list, reps = reps, stab = stab)\n",
    "end"
   ]
  },
  {
   "cell_type": "code",
   "execution_count": null,
   "id": "a727429b",
   "metadata": {},
   "outputs": [],
   "source": [
    "stabilizer = orbit_with_stabilizer(swaps, 2, onPoints)"
   ]
  },
  {
   "cell_type": "code",
   "execution_count": null,
   "id": "44826e12",
   "metadata": {},
   "outputs": [],
   "source": [
    "size(PermGp(stabilizer.stab, swaps[1]^0))"
   ]
  },
  {
   "cell_type": "code",
   "execution_count": null,
   "id": "e3781632-a75e-4b66-8a04-d8648879745a",
   "metadata": {},
   "outputs": [],
   "source": [
    "length(stabilizer.stab)"
   ]
  },
  {
   "cell_type": "code",
   "execution_count": null,
   "id": "e990e28c-8108-4197-b16e-59671a808743",
   "metadata": {},
   "outputs": [],
   "source": [
    "setdiff(stabilizer.stab, Perm(5))"
   ]
  },
  {
   "cell_type": "markdown",
   "id": "fb7312a7",
   "metadata": {},
   "source": [
    "## Stabilizer Chain"
   ]
  },
  {
   "cell_type": "code",
   "execution_count": null,
   "id": "99140993",
   "metadata": {},
   "outputs": [],
   "source": [
    "import permutation: is_trivial, largest_moved_point\n",
    "is_trivial(group::PermGp) = all(is_trivial, group.gens)\n",
    "largest_moved_point(group::PermGp) = max(largest_moved_point.(group.gens)...)"
   ]
  },
  {
   "cell_type": "markdown",
   "id": "b6c45003",
   "metadata": {},
   "source": [
    "* Schreier's theorem gives generators of the stabilizer, which can be subjected to further orbit calculations.\n",
    "* Applying the above ideas along a chain of stabilizers can yield information about the whole group."
   ]
  },
  {
   "cell_type": "markdown",
   "id": "1fbf2d83",
   "metadata": {},
   "source": [
    "### Order of the Group"
   ]
  },
  {
   "cell_type": "markdown",
   "id": "798f7df5",
   "metadata": {},
   "source": [
    "* By the **Orbit-Stabilizer Lemma**: $|G| = |x^G| \\, |G_x| = |x^G| \\, |y^{G_x}| \\, |G_{x, y}| = {\\dots}$"
   ]
  },
  {
   "cell_type": "code",
   "execution_count": null,
   "id": "775b8829",
   "metadata": {},
   "outputs": [],
   "source": [
    "function sizeOfGroup(group)\n",
    "    is_trivial(group) && return 1\n",
    "    x = largest_moved_point(group)\n",
    "    orb = orbit_with_stabilizer(group.gens, x, onPoints)\n",
    "    stab = PermGp(setdiff(orb.stab, group.one), group.one)\n",
    "    return sizeOfGroup(stab) * length(orb.reps)\n",
    "end"
   ]
  },
  {
   "cell_type": "code",
   "execution_count": null,
   "id": "b297d94a",
   "metadata": {},
   "outputs": [],
   "source": [
    "sizeOfGroup(group)"
   ]
  },
  {
   "cell_type": "markdown",
   "id": "cc01b688",
   "metadata": {},
   "source": [
    "* Some slightly bigger examples: the symmetric group on $10$ points, and the largest Mathieu group $M_{24}$:"
   ]
  },
  {
   "cell_type": "code",
   "execution_count": null,
   "id": "50b555b5",
   "metadata": {},
   "outputs": [],
   "source": [
    "group = PermGp(transpositions(10), Perm(10))"
   ]
  },
  {
   "cell_type": "code",
   "execution_count": null,
   "id": "99b2054a",
   "metadata": {},
   "outputs": [],
   "source": [
    "sizeOfGroup(group)"
   ]
  },
  {
   "cell_type": "code",
   "execution_count": null,
   "id": "e060e80d",
   "metadata": {},
   "outputs": [],
   "source": [
    "m24 = PermGp([\n",
    "  Perm([2,3,4,5,6,7,8,9,10,11,12,13,14,15,16,17,18,19,20,21,22,23,1,24]),\n",
    "  Perm([1,2,17,13,4,6,9,18,3,7,12,23,14,19,20,15,10,11,5,22,16,21,8,24]),\n",
    "  Perm([24,23,12,16,18,10,20,14,21,6,17,3,22,8,19,4,11,5,15,7,9,13,2,1]),\n",
    "], Perm(24))\n",
    "sizeOfGroup(m24)"
   ]
  },
  {
   "cell_type": "markdown",
   "id": "9a4f0172",
   "metadata": {},
   "source": [
    "###  Random Element"
   ]
  },
  {
   "cell_type": "markdown",
   "id": "71130ece",
   "metadata": {},
   "source": [
    "* Random elements of a group: along the same lines as `sizeOfGroup`"
   ]
  },
  {
   "cell_type": "code",
   "execution_count": null,
   "id": "89730bd1",
   "metadata": {},
   "outputs": [],
   "source": [
    "function randomGroupElement(group)\n",
    "    is_trivial(group) && return group.one\n",
    "    x = largest_moved_point(group)\n",
    "    orb = orbit_with_stabilizer(group.gens, x, onPoints)\n",
    "    stab = PermGp(setdiff(orb.stab, group.one), group.one)\n",
    "    return randomGroupElement(stab) * rand(orb.reps)\n",
    "end"
   ]
  },
  {
   "cell_type": "code",
   "execution_count": null,
   "id": "c01cc902",
   "metadata": {},
   "outputs": [],
   "source": [
    "a = randomGroupElement(m24)"
   ]
  },
  {
   "cell_type": "markdown",
   "id": "20333d25",
   "metadata": {},
   "source": [
    "* Check: These random elements are **uniformly distributed**!"
   ]
  },
  {
   "cell_type": "code",
   "execution_count": null,
   "id": "04af8284",
   "metadata": {},
   "outputs": [],
   "source": [
    "group = PermGp(transpositions(4), Perm(4))\n",
    "count = Dict(a => 0 for a in elements(group))\n",
    "for i in 1:2400\n",
    "    count[randomGroupElement(group)] += 1\n",
    "end\n",
    "count"
   ]
  },
  {
   "cell_type": "markdown",
   "id": "8275c4d4",
   "metadata": {},
   "source": [
    "* Also, using similar ideas:\n",
    "  * **membership** test: $a \\in G$?\n",
    "  * express element as **word in the generators**: $a = s_1 \\dotsm s_k$\n",
    "  * **homomorphisms** (defined on generators): $\\phi(a) = \\phi(s_1) \\dotsm \\phi(s_k)$"
   ]
  },
  {
   "cell_type": "markdown",
   "id": "bb5cfeb3",
   "metadata": {},
   "source": [
    "## Graphs"
   ]
  },
  {
   "cell_type": "markdown",
   "id": "2d05c32e",
   "metadata": {},
   "source": [
    "* With a further small modification, the orbit algorithm can keep track of edges and thus construct the **action graph**.  \n",
    "* Recall that this is a labelled directed graph, with vertices $x, y \\in X$ and edges $x \\stackrel{s}{\\to} y$, whenever $x.s = y$ for $x, y \\in X$, and $s \\in S$.  \n",
    "* We need to decide on a **data structure** for such graphs.  The simplest, perhaps, is a **list of pairs** of indices, each representing an edge."
   ]
  },
  {
   "cell_type": "code",
   "execution_count": null,
   "id": "ac0b54b3",
   "metadata": {},
   "outputs": [],
   "source": [
    "using Graphs\n",
    "using GraphPlot"
   ]
  },
  {
   "cell_type": "code",
   "execution_count": null,
   "id": "373cff59",
   "metadata": {
    "scrolled": true
   },
   "outputs": [],
   "source": [
    "elist = [(1,2),(1,3),(1,4),(2,2)]\n",
    "graph = SimpleGraph(Edge.(elist))\n",
    "gplot(graph, nodelabel=vertices(graph))"
   ]
  },
  {
   "cell_type": "markdown",
   "id": "be7d2cdc",
   "metadata": {},
   "source": [
    "* Let's turn the tree from the beginning into a simple graph and plot it."
   ]
  },
  {
   "cell_type": "code",
   "execution_count": null,
   "id": "59e653c8-7cc4-4200-94dd-464096211560",
   "metadata": {},
   "outputs": [],
   "source": [
    "collect(enumerate(parents))"
   ]
  },
  {
   "cell_type": "code",
   "execution_count": null,
   "id": "f9b0aeaa",
   "metadata": {},
   "outputs": [],
   "source": [
    "graph = SimpleGraph(Edge.(enumerate(parents)))\n",
    "gplot(graph, nodelabel=vertices(graph))"
   ]
  },
  {
   "cell_type": "markdown",
   "id": "1c3cf3ae",
   "metadata": {},
   "source": [
    "* The next variant of the orbit algorithm keeps track of the edges in a list `edges`."
   ]
  },
  {
   "cell_type": "code",
   "execution_count": null,
   "id": "421ded4f",
   "metadata": {},
   "outputs": [],
   "source": [
    "function orbit_with_edges(aaa, x, under)\n",
    "    list = [x]\n",
    "    edges = []\n",
    "    for (i, y) in enumerate(list)\n",
    "        for a in aaa\n",
    "            z = under(y, a)\n",
    "            l = findfirst(==(z), list)\n",
    "            if isnothing(l)\n",
    "                push!(list, z)\n",
    "                l = length(list)\n",
    "            end\n",
    "            push!(edges, (i, l))\n",
    "        end\n",
    "    end\n",
    "    return (list = list, edges = edges)\n",
    "end"
   ]
  },
  {
   "cell_type": "markdown",
   "id": "d4d1c476",
   "metadata": {},
   "source": [
    "* Examples:"
   ]
  },
  {
   "cell_type": "code",
   "execution_count": null,
   "id": "9e1763a0",
   "metadata": {},
   "outputs": [],
   "source": [
    "elist = orbit_with_edges(swaps, 1, onPoints).edges"
   ]
  },
  {
   "cell_type": "code",
   "execution_count": null,
   "id": "5997142a",
   "metadata": {},
   "outputs": [],
   "source": [
    "graph = SimpleGraph(Edge.(elist))\n",
    "gplot(graph, nodelabel=vertices(graph))"
   ]
  },
  {
   "cell_type": "markdown",
   "id": "a21e4c94-da77-4531-94fb-8c13e8621283",
   "metadata": {},
   "source": [
    "* The action of $G$ on $X$ induces an action on the pairs $(x, y) \\in X \\times X$: $((x, y), a) \\mapsto (x.a, y.a)$.\n",
    "* We can define a corresponding action function `onPairs`."
   ]
  },
  {
   "cell_type": "markdown",
   "id": "ae6a87cf-04ea-4739-8ba2-499af8ae3705",
   "metadata": {},
   "source": [
    "<div class=\"alert alert-warning\">\n",
    "\n",
    "<img src=\"images/julia.png\" alt=\"julia\" width=\"30\">  \n",
    "\n",
    "* [Pair](https://docs.julialang.org/en/v1/base/collections/#Core.Pair)\n",
    "* [Set](https://docs.julialang.org/en/v1/base/collections/#Base.Set)\n",
    "</div>"
   ]
  },
  {
   "cell_type": "code",
   "execution_count": null,
   "id": "1de7b862",
   "metadata": {},
   "outputs": [],
   "source": [
    "onPairs(pair::Pair, a::Perm) = pair[1]^a => pair[2]^a"
   ]
  },
  {
   "cell_type": "code",
   "execution_count": null,
   "id": "f59dbf3c",
   "metadata": {},
   "outputs": [],
   "source": [
    "elist = orbit_with_edges(swaps, 1 => 2, onPairs).edges\n",
    "elist = filter(x -> x[1] != x[2], elist)"
   ]
  },
  {
   "cell_type": "code",
   "execution_count": null,
   "id": "0af83508",
   "metadata": {},
   "outputs": [],
   "source": [
    "graph = SimpleGraph(Edge.(elist))\n",
    "gplot(graph, nodelabel=vertices(graph))"
   ]
  },
  {
   "cell_type": "markdown",
   "id": "2774b5f7-32fe-46e6-9685-f9d99f30e032",
   "metadata": {},
   "source": [
    "* The action of $G$ on $X$ induces an **action on the subsets** $Y \\in 2^X$: $(Y, a) \\mapsto Y^a = \\{y^a : y \\in Y\\}$.\n",
    "* We can implement a corresponding action function `onSets`."
   ]
  },
  {
   "cell_type": "code",
   "execution_count": null,
   "id": "6a2aa81d",
   "metadata": {},
   "outputs": [],
   "source": [
    "onSets(set::Set, a ::Perm) = Set([x^a for x in set])"
   ]
  },
  {
   "cell_type": "code",
   "execution_count": null,
   "id": "867a8d8b",
   "metadata": {},
   "outputs": [],
   "source": [
    "elist = orbit_with_edges(transpositions(6), Set([1,2]), onSets).edges\n",
    "elist = filter(x -> x[1] != x[2], elist)"
   ]
  },
  {
   "cell_type": "code",
   "execution_count": null,
   "id": "c8742e31",
   "metadata": {},
   "outputs": [],
   "source": [
    "graph = SimpleGraph(Edge.(elist))\n",
    "gplot(graph, nodelabel=vertices(graph))"
   ]
  },
  {
   "cell_type": "markdown",
   "id": "068e13a1-207f-4e08-aae7-5e701db601cb",
   "metadata": {},
   "source": [
    "* Finally, we construct the (Cayley) graph of all permutations of $4$ points."
   ]
  },
  {
   "cell_type": "code",
   "execution_count": null,
   "id": "2ce44f56",
   "metadata": {},
   "outputs": [],
   "source": [
    "elist = orbit_with_edges(transpositions(4), Perm(4), onRight).edges\n",
    "elist = filter(x -> x[1] != x[2], elist)"
   ]
  },
  {
   "cell_type": "code",
   "execution_count": null,
   "id": "04f8bfc7",
   "metadata": {},
   "outputs": [],
   "source": [
    "graph = SimpleGraph(Edge.(elist))\n",
    "gplot(graph, nodelabel=vertices(graph))"
   ]
  },
  {
   "cell_type": "markdown",
   "id": "923e852a",
   "metadata": {},
   "source": [
    "### Permutations"
   ]
  },
  {
   "cell_type": "markdown",
   "id": "5444cfb7",
   "metadata": {},
   "source": [
    "* The action graph is in fact a directed graph.\n",
    "* It encodes the permutations induced by the action on the domain.\n",
    "* For this (and other applications) it will be more convenient to store the edge information in a different format: as lists of `images`."
   ]
  },
  {
   "cell_type": "code",
   "execution_count": null,
   "id": "65f83e6b",
   "metadata": {},
   "outputs": [],
   "source": [
    "function orbit_with_images(aaa, x, under)\n",
    "    list = [x]\n",
    "    images = [Int[] for a in aaa]\n",
    "    for (i, y) in enumerate(list)\n",
    "        for (k, a) in enumerate(aaa)\n",
    "            z = under(y, a)\n",
    "            l = findfirst(==(z), list)\n",
    "            if l == nothing\n",
    "                push!(list, z);\n",
    "                l = length(list);\n",
    "            end\n",
    "            push!(images[k], l)\n",
    "        end\n",
    "    end\n",
    "    return (list = list, images = images)\n",
    "end"
   ]
  },
  {
   "cell_type": "markdown",
   "id": "a0e801db",
   "metadata": {},
   "source": [
    "* For example:"
   ]
  },
  {
   "cell_type": "code",
   "execution_count": null,
   "id": "62f6250f",
   "metadata": {},
   "outputs": [],
   "source": [
    "swaps = transpositions(5)\n",
    "orb = orbit_with_images(transpositions(5), 1, onPoints)"
   ]
  },
  {
   "cell_type": "markdown",
   "id": "987898ce",
   "metadata": {},
   "source": [
    "* Convert image lists into permutations."
   ]
  },
  {
   "cell_type": "code",
   "execution_count": null,
   "id": "01008f98-6241-4216-b843-02b89fb93add",
   "metadata": {},
   "outputs": [],
   "source": [
    "Perm.(orb.images)"
   ]
  },
  {
   "cell_type": "markdown",
   "id": "0a122c7f",
   "metadata": {},
   "source": [
    "* A more interesting example:"
   ]
  },
  {
   "cell_type": "code",
   "execution_count": null,
   "id": "0f466bb5",
   "metadata": {},
   "outputs": [],
   "source": [
    "orb = orbit_with_images(swaps, Set([1,2]), onSets)\n",
    "perms = Perm.(orb.images)"
   ]
  },
  {
   "cell_type": "code",
   "execution_count": null,
   "id": "20f8101c",
   "metadata": {},
   "outputs": [],
   "source": [
    "for perm in perms\n",
    "    println(cycles(perm))\n",
    "end"
   ]
  },
  {
   "cell_type": "markdown",
   "id": "b1aa0696",
   "metadata": {},
   "source": [
    "* When the images are converted into edges, it helps to be able to list entries together with their position in a list.  This can be regarded as the transpose of the usual two-line notation for permutations."
   ]
  },
  {
   "cell_type": "code",
   "execution_count": null,
   "id": "e3f5001c",
   "metadata": {},
   "outputs": [],
   "source": [
    "collect(enumerate(orb.images[1]))"
   ]
  },
  {
   "cell_type": "code",
   "execution_count": null,
   "id": "bd98a784",
   "metadata": {},
   "outputs": [],
   "source": [
    "elist = union(enumerate.(orb.images)...)\n",
    "elist = [(x, y) for (x, y) in elist if x != y]\n",
    "graph = SimpleGraph(Edge.(elist))\n",
    "gplot(graph, nodelabel=vertices(graph))"
   ]
  },
  {
   "cell_type": "markdown",
   "id": "7a6aec62",
   "metadata": {},
   "source": [
    "## Exercises"
   ]
  },
  {
   "cell_type": "markdown",
   "id": "ebc7b14a",
   "metadata": {},
   "source": [
    "* Is Euclid's Algorithm BFS or DFS?  What is the tree behind it, vertices, edges?  Make the tree explicit and use it to formulate the [Extended Euclidean Algorithm](https://en.wikipedia.org/wiki/Extended_Euclidean_algorithm), which expresses the gcd $d$ of $a$ and $b$ as a linear combination $d = ax + by$."
   ]
  },
  {
   "cell_type": "markdown",
   "id": "e5ffce2b-2db8-4c45-95f3-9369b45da73b",
   "metadata": {},
   "source": [
    "* **Graph Traversal.**  Modify BFS and DFS so that it can be used to visit the nodes of a (connected, simple) graph, taking care of repeat encounters."
   ]
  },
  {
   "cell_type": "markdown",
   "id": "47820d42-cabe-4e82-8ef4-1c55a0817a9b",
   "metadata": {},
   "source": [
    "* Apply your algorithms to this graph ... and vertex 1 ..."
   ]
  },
  {
   "cell_type": "markdown",
   "id": "83597ab5",
   "metadata": {},
   "source": [
    "* **Pólya Action**.  The symmetric group of degree $n$ acts on the words of length $n$ (over a finite alphabet $A$) by rearranging the letters of a given word.  In GAP, this action is called `Permuted`.  Compute the orbit of the word `\"11222\"` under the action, find the permutations induced by the action on the list of all words in the orbit, plot the action graph and determine the stabilizer of the word."
   ]
  },
  {
   "cell_type": "code",
   "execution_count": null,
   "id": "ef8904bd",
   "metadata": {},
   "outputs": [],
   "source": [
    "word = [1,1,2,2,2]\n",
    "swaps = transpositions(length(word))\n",
    "orb = orbit_with_images(swaps, word, permuted)\n",
    "stab = orbit_with_stabilizer(swaps, word, permuted)\n",
    "orb.list"
   ]
  },
  {
   "cell_type": "markdown",
   "id": "877bc40e",
   "metadata": {},
   "source": [
    "*  **Conjugacy Classes.** Show that the partition of a (finite) group into conjugacy classes can be computed as an orbit under right multiplication, provided that the set of generators is closed under conjugation."
   ]
  },
  {
   "cell_type": "markdown",
   "id": "ca56eb9f",
   "metadata": {},
   "source": [
    "* **Subgroups.** For a finite group $G$, show that the monoid $(2^G, \\cup)$ acts on the set of subgroups $H$ of $G$ via **closure**: $H.A = \\langle H, A\\rangle$, and that each subgroup of $G$ lies in the orbit of the trivial subgroup under this action."
   ]
  },
  {
   "cell_type": "markdown",
   "id": "9d1e3000",
   "metadata": {},
   "source": [
    "* Show that $(a, n) \\mapsto a^n$ does not define an action of the (additive) group of the integers $\\mathbb{Z}$ on a finite group $G$. However, for any $x \\in G$, the map $(a, n) \\mapsto a x^n$ does define an action of $\\mathbb{Z}$ on $G$."
   ]
  },
  {
   "cell_type": "markdown",
   "id": "c42ab18d",
   "metadata": {},
   "source": [
    "* The **zuppos** of a finite group $G$ are the cyclic subgroups of prime power order (**z**yklische **U**ntergruppen von **P**rimzahl**p**otenz**o**rdnung).  Let $Z \\subseteq G$ be a set that contains exactly one generator of each zuppo.  Describe and implement an algorithm that constructs $Z$.  Show that the singletons $\\{z\\}$, $z \\in Z$, suffice as generators to find all subgroups of $G$ under the closure action of $2^G$."
   ]
  },
  {
   "cell_type": "markdown",
   "id": "12b4cf30",
   "metadata": {},
   "source": [
    "* Show that the conjugacy classes of subgroups of a finite group can be computed as an orbit under the action of its power set."
   ]
  },
  {
   "cell_type": "markdown",
   "id": "5de2dac2",
   "metadata": {},
   "source": [
    "* Prove Schreier's Theorem."
   ]
  },
  {
   "cell_type": "markdown",
   "id": "27de3386",
   "metadata": {},
   "source": [
    "* Show that the power set $2^A = \\{B : B \\subseteq A\\}$ of a (finite) set $A$ is the orbit of $A$ under the take-away action:\n",
    "```julia\n",
    "takeAway(set, s) = setdiff(set, s)\n",
    "```"
   ]
  },
  {
   "cell_type": "code",
   "execution_count": null,
   "id": "a11564fc",
   "metadata": {},
   "outputs": [],
   "source": [
    "using syt\n",
    "set = Set(\"pizza\")\n",
    "orbit(set, set, takeAway)"
   ]
  },
  {
   "cell_type": "markdown",
   "id": "4db700d0",
   "metadata": {},
   "source": [
    "* Describe other interesting problems, where the right choice of action turns the solution into an application of the orbit algorithm."
   ]
  },
  {
   "cell_type": "markdown",
   "id": "b188446c",
   "metadata": {},
   "source": [
    "* A **composition** of $n$ is a sequence $c = (c_1, \\dots, c_k)$ of positive integers.  Set up a bijection between the set of compositions of $n$ and the power set of $A = \\{1,\\dots, n{-}1\\}$ (so that $A$ corresponds to the composition $(n)$, and the subset relationship on $2^A$ corresponds to refinement of compositions).  Use the bijective correspondence to compute the set of all compositions of $n$ as orbit of $(n)$ under a suitable take-away action."
   ]
  },
  {
   "cell_type": "markdown",
   "id": "7fcdb60c",
   "metadata": {},
   "source": [
    "* A **partition** of $n$ is a composition $\\lambda = (l_1, \\dots, l_k)$ where $l_1 \\geq \\dots \\geq l_k$.  Thus, sorting the parts of any composition in decreasing order yields a partition.  In that sense, a partition is a canonical representative of a rearrangement class of compositions.  Compute the partitions of $n$ as orbit of the partition $(n)$ under a suitable action on canonical composition rearrangement class representatives."
   ]
  },
  {
   "cell_type": "code",
   "execution_count": null,
   "id": "44fd6b28",
   "metadata": {},
   "outputs": [],
   "source": [
    "using syt\n",
    "p4 = partitions(4)"
   ]
  },
  {
   "cell_type": "markdown",
   "id": "d80996d2",
   "metadata": {},
   "source": [
    "* Formulate a version of BFS that, for a given vertex $x$ in a simple connected graph $\\Gamma$, finds a **shortest path** to any vertex $y$ in $\\Gamma$."
   ]
  },
  {
   "cell_type": "markdown",
   "id": "7d10d973",
   "metadata": {},
   "source": [
    "* Formulate an algorithm that, for given vertex in a simple connected graph $\\Gamma$, finds **all** shortest paths to any vertex $y$ in $\\Gamma$."
   ]
  },
  {
   "cell_type": "markdown",
   "id": "b17844c6",
   "metadata": {},
   "source": [
    "* Say that a partition $\\lambda$ **covers** a partition $\\mu$ if $\\mu$ can be obtained by decreasing a part of $\\lambda$ by $1$.  Denote by $\\geq$ the reflexive and transitive closure of the covering relation.  The **Young lattice** $Y(\\lambda)$ is the graph on all partitions $\\mu \\leq \\lambda$ with the covering relation as edges.  For a partition $\\lambda$, compute its Young lattice $Y(\\lambda)$ as orbit of $\\lambda$ under a suitable action."
   ]
  },
  {
   "cell_type": "markdown",
   "id": "946cdc49",
   "metadata": {},
   "source": [
    "* A **standard Young diagram** (SYT) of shape $\\lambda$ is a shortest path from the empty partition $\\emptyset$ to $\\lambda$ in the Young lattice $Y(\\lambda)$. For a given partition $\\lambda$, compute all SYTs of shape $\\lambda$ as a set of shortest paths."
   ]
  },
  {
   "cell_type": "code",
   "execution_count": null,
   "id": "270328fb",
   "metadata": {},
   "outputs": [],
   "source": [
    "using syt\n",
    "l = standardYTs([3,1])\n",
    "tableau_path(l[3])"
   ]
  },
  {
   "cell_type": "markdown",
   "id": "fd8ca33b",
   "metadata": {},
   "source": [
    "* A **round trip** of shape $\\lambda$ is a shortest path from $\\emptyset$ to $\\lambda$ and back along a \n",
    "(possibly different) shortest path. Verify that the total number of round trips to all the partitions $\\lambda$ of $4$ is $24$.  What is the general formula for the total number of round trips for all partitions of $n$? Why?"
   ]
  },
  {
   "cell_type": "code",
   "execution_count": null,
   "id": "8159f158",
   "metadata": {},
   "outputs": [],
   "source": [
    "using syt\n",
    "sum(length(standardYTs(x))^2 for x in partitions(4))"
   ]
  },
  {
   "cell_type": "markdown",
   "id": "5d4086de",
   "metadata": {},
   "source": [
    "* Implement the **group membership test** $x \\in G$, using stabilizers."
   ]
  },
  {
   "cell_type": "markdown",
   "id": "f91f209f",
   "metadata": {},
   "source": [
    "* ($*$) In practice, the number of Schreier generators of the stabilizers in the chain can grow very fast, in larger examples.  The **Schreier-Sims** algorithm intertwines orbit calculations and membership tests to keep the number of necessary generators small.  Implement such a strategy."
   ]
  },
  {
   "cell_type": "markdown",
   "id": "b33ebe50",
   "metadata": {},
   "source": [
    "* ($**$) Compute the order of the Rubik's cube group\n",
    "```julia\n",
    "cube = SimsGp([Perm(48, cycles) for cycles in [\n",
    "  [[ 1, 3, 8, 6],[ 2, 5, 7, 4],[ 9,33,25,17],[10,34,26,18],[11,35,27,19]],\n",
    "  [[ 9,11,16,14],[10,13,15,12],[ 1,17,41,40],[ 4,20,44,37],[ 6,22,46,35]],\n",
    "  [[17,19,24,22],[18,21,23,20],[ 6,25,43,16],[ 7,28,42,13],[ 8,30,41,11]],\n",
    "  [[25,27,32,30],[26,29,31,28],[ 3,38,43,19],[ 5,36,45,21],[ 8,33,48,24]],\n",
    "  [[33,35,40,38],[34,37,39,36],[ 3, 9,46,32],[ 2,12,47,29],[ 1,14,48,27]],\n",
    "  [[41,43,48,46],[42,45,47,44],[14,22,30,38],[15,23,31,39],[16,24,32,40]],\n",
    "]], Perm(48))\n",
    "```"
   ]
  },
  {
   "cell_type": "code",
   "execution_count": null,
   "id": "72ea87d0",
   "metadata": {},
   "outputs": [],
   "source": [
    "using simsgroup\n",
    "size(cube)"
   ]
  },
  {
   "cell_type": "code",
   "execution_count": null,
   "id": "6cafc94f",
   "metadata": {},
   "outputs": [],
   "source": []
  }
 ],
 "metadata": {
  "kernelspec": {
   "display_name": "Julia 1.11.5",
   "language": "julia",
   "name": "julia-1.11"
  },
  "language_info": {
   "file_extension": ".jl",
   "mimetype": "application/julia",
   "name": "julia",
   "version": "1.11.5"
  }
 },
 "nbformat": 4,
 "nbformat_minor": 5
}
