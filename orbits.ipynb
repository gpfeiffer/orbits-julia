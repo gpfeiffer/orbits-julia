{
 "cells": [
  {
   "cell_type": "markdown",
   "id": "90599f92",
   "metadata": {},
   "source": [
    "## Computational Aspects of Complex Reflection Groups\n",
    "\n",
    "Götz Pfeiffer - University of Galway\n",
    "\n",
    "# 1. Algorithms: A Glimpse of CGT"
   ]
  },
  {
   "cell_type": "markdown",
   "id": "9c410201",
   "metadata": {},
   "source": [
    "![Trees](images/trees.jpg)"
   ]
  },
  {
   "cell_type": "markdown",
   "id": "50b113a9",
   "metadata": {},
   "source": [
    "## Algorithms"
   ]
  },
  {
   "cell_type": "markdown",
   "id": "dbbd9368",
   "metadata": {},
   "source": [
    "A good algorithm is short yet powerful.\n",
    "\n",
    "Like this one-line implementation of the [Euclidean Algorithm](https://en.wikipedia.org/wiki/Euclidean_algorithm):"
   ]
  },
  {
   "cell_type": "code",
   "execution_count": null,
   "id": "b1c7766e",
   "metadata": {},
   "outputs": [],
   "source": [
    "gcd(a, b) = b == 0 ? a : gcd(b, a % b)"
   ]
  },
  {
   "cell_type": "code",
   "execution_count": null,
   "id": "331dda73",
   "metadata": {},
   "outputs": [],
   "source": [
    "gcd(237934564903214447864796765423105634076804062380125, 46805092789549878742860339647868490386740234760875)"
   ]
  },
  {
   "cell_type": "markdown",
   "id": "a2d523e1",
   "metadata": {},
   "source": [
    "This translates readily into mathematics:\n",
    "$$\n",
    "\\gcd(a, b) = \\begin{cases}\n",
    "a, & \\text{if } b = 0,\\\\\n",
    "\\gcd(b, a \\bmod b), & \\text{else}\n",
    "\\end{cases}\n",
    "$$\n",
    "which is helpful for **proving desirable properties** of an algorithm (meaning, termination, correctness, ...).  Also it can serve as a **model for refinements** (for speed, ...) or extensions (any bells and whistles, ...)."
   ]
  },
  {
   "cell_type": "markdown",
   "id": "eeb60858",
   "metadata": {},
   "source": [
    "Most of my algorithms are simple $3$-step procedures:\n",
    "\n",
    "1. **Initialize.** (a list)\n",
    "2. **Loop.**  (over the list and grow it)\n",
    "3. **Return.**  (the list)\n",
    "\n",
    "On closer inspection, the list really is a tree ..."
   ]
  },
  {
   "cell_type": "markdown",
   "id": "07a2bc9e",
   "metadata": {},
   "source": [
    "##  Tree Traversal: BFS vs DFS"
   ]
  },
  {
   "cell_type": "markdown",
   "id": "6be6a91d",
   "metadata": {},
   "source": [
    "* Suppose we want to visit all the nodes of a (rooted) tree like this (with root node in white):"
   ]
  },
  {
   "cell_type": "markdown",
   "id": "2939b554",
   "metadata": {},
   "source": [
    "![e7 tree](images/e7tree.png)"
   ]
  },
  {
   "cell_type": "markdown",
   "id": "62c855d8",
   "metadata": {},
   "source": [
    "* **Breath First Search** (BFS) and **Depth First Search**  (DFS) provide strategies for doing this in a simple and systematic fashion.\n",
    "* For this, we assume that each **node** $x$ in the tree knows all its **children** as a list $x$.next.\n",
    "* Then the two **algorithms** for visiting all nodes of a tree with root $x$ can be described as follows."
   ]
  },
  {
   "cell_type": "markdown",
   "id": "c24ee00a",
   "metadata": {},
   "source": [
    "![bfs vs dfs](images/bfsdfs.png)"
   ]
  },
  {
   "cell_type": "markdown",
   "id": "33c27555",
   "metadata": {},
   "source": [
    "* In practice, BFS can take advantage of dynamic lists in a `for` loop."
   ]
  },
  {
   "cell_type": "code",
   "execution_count": null,
   "id": "f59b0acb",
   "metadata": {},
   "outputs": [],
   "source": [
    "function BFS(x, visit)\n",
    "    Q = [x]\n",
    "    for y in Q\n",
    "        visit(y)\n",
    "        append!(Q, y.next)\n",
    "    end\n",
    "end"
   ]
  },
  {
   "cell_type": "markdown",
   "id": "585363d0",
   "metadata": {},
   "source": [
    "* While DFS, using the function call stack, can be implemented recursively. "
   ]
  },
  {
   "cell_type": "code",
   "execution_count": null,
   "id": "403cde0a",
   "metadata": {},
   "outputs": [],
   "source": [
    "function DFS(x, visit)\n",
    "    visit(x)\n",
    "    for z in x.next\n",
    "        DFS(z, visit)\n",
    "    end\n",
    "end"
   ]
  },
  {
   "cell_type": "markdown",
   "id": "92154c67",
   "metadata": {},
   "source": [
    "* For an application to the above example let's organize the tree as a collection of `Node` records, with a component `id` (for their own name, taken from their position in a list `nodes`) and a component `next` (a list of references to their children)."
   ]
  },
  {
   "cell_type": "code",
   "execution_count": null,
   "id": "31cb589e",
   "metadata": {},
   "outputs": [],
   "source": [
    "struct Node\n",
    "    id\n",
    "    next::Array{Node}\n",
    "end"
   ]
  },
  {
   "cell_type": "markdown",
   "id": "7309a7ff",
   "metadata": {},
   "source": [
    "* The actual tree can then be created as follows."
   ]
  },
  {
   "cell_type": "code",
   "execution_count": null,
   "id": "1fb15850",
   "metadata": {},
   "outputs": [],
   "source": [
    "nodes = [Node(i, []) for i in 1:7]\n",
    "for (i,k) in pairs([3,4,4,5,6,6,6])\n",
    "    i == k || push!(nodes[k].next, nodes[i])\n",
    "end\n",
    "root = nodes[6]"
   ]
  },
  {
   "cell_type": "markdown",
   "id": "70e7c932",
   "metadata": {},
   "source": [
    "* The visitor simply prints the name of each node it encounters ..."
   ]
  },
  {
   "cell_type": "code",
   "execution_count": null,
   "id": "1c6a97c6",
   "metadata": {},
   "outputs": [],
   "source": [
    "pr(x) = print(x.id, \", \")"
   ]
  },
  {
   "cell_type": "markdown",
   "id": "cd4e9550",
   "metadata": {},
   "source": [
    "* ... BFS and DFS list all the nodes in slightly different orders:"
   ]
  },
  {
   "cell_type": "code",
   "execution_count": null,
   "id": "c9c6eb24",
   "metadata": {},
   "outputs": [],
   "source": [
    "BFS(root, pr);"
   ]
  },
  {
   "cell_type": "code",
   "execution_count": null,
   "id": "f3d5999a",
   "metadata": {},
   "outputs": [],
   "source": [
    "DFS(root, pr);"
   ]
  },
  {
   "cell_type": "markdown",
   "id": "2cb6862b",
   "metadata": {},
   "source": [
    "* Recall the graph: ![e7 tree](images/e7tree.png)"
   ]
  },
  {
   "cell_type": "markdown",
   "id": "89155625",
   "metadata": {},
   "source": [
    "* The recursive strategy can be modified to suit a specific purpose, e.g., to print a tree as a tree "
   ]
  },
  {
   "cell_type": "code",
   "execution_count": null,
   "id": "25cd4519",
   "metadata": {},
   "outputs": [],
   "source": [
    "function tree_print(x, indent = \"\", first = true)\n",
    "    first || print(\"\\n\", indent)\n",
    "    print(\"-\", x.id);\n",
    "    first = true\n",
    "    for c in x.next\n",
    "        tree_print(c, indent * \"  \", first)\n",
    "        first = false\n",
    "    end\n",
    "end"
   ]
  },
  {
   "cell_type": "code",
   "execution_count": null,
   "id": "ffc590e5",
   "metadata": {},
   "outputs": [],
   "source": [
    "tree_print(root);"
   ]
  },
  {
   "cell_type": "markdown",
   "id": "11e9cd34",
   "metadata": {},
   "source": [
    "### Graph Traversal"
   ]
  },
  {
   "cell_type": "markdown",
   "id": "92d3e5c6",
   "metadata": {},
   "source": [
    "* Both BFS and DFS can be applied to a (simple or directed) **graph**.\n",
    "* The same node then can possibly be reached through different paths.\n",
    "* Some care needs to be taken to manage these repeat encounters."
   ]
  },
  {
   "cell_type": "markdown",
   "id": "78eb8808",
   "metadata": {},
   "source": [
    "###  Applications"
   ]
  },
  {
   "cell_type": "markdown",
   "id": "fba9f3f9",
   "metadata": {},
   "source": [
    "* distance between nodes\n",
    "* shortest paths\n",
    "* connected components\n",
    "* ..."
   ]
  },
  {
   "cell_type": "markdown",
   "id": "10fb7214",
   "metadata": {},
   "source": [
    "## Orbit Algorithms"
   ]
  },
  {
   "cell_type": "markdown",
   "id": "1939597e",
   "metadata": {},
   "source": [
    "* **Group actions** are a rich source of graphs.\n",
    "* Here, the **nodes** of the graph are the elements $x$ of the domain that is acted upon.\n",
    "* The **edges** of the graph are of the form $x \\stackrel{s}{\\longrightarrow} x.s$, implicitly given by the action.\n",
    "* The elements $s$ typically come from a set of **generators** of the acting group."
   ]
  },
  {
   "cell_type": "markdown",
   "id": "3f55b408",
   "metadata": {},
   "source": [
    "<div class=\"alert alert-danger\">\n",
    "\n",
    "**Definition.**\n",
    "Let $G$ be a group **acting from the right** on a set $X$ via $(x, a) \\mapsto x.a$, and suppose that $G = \\langle S \\rangle$ for \n",
    "some $S \\subseteq G$. The **action graph** of $X$ and $S$ is the (directed) graph with \n",
    "* **vertices:** $x \\in X$, and\n",
    "* **edges:** $x \\stackrel{s}{\\longrightarrow} x.s$ for $x \\in X$, $s \\in S$.\n",
    "</div>"
   ]
  },
  {
   "cell_type": "markdown",
   "id": "e63770eb",
   "metadata": {},
   "source": [
    "* We formulate and apply a variant of BFS called **orbit algorithm** to compute properties of this action."
   ]
  },
  {
   "cell_type": "markdown",
   "id": "bd76b9e9",
   "metadata": {},
   "source": [
    "### The Orbit Algorithm"
   ]
  },
  {
   "cell_type": "markdown",
   "id": "0770fa56",
   "metadata": {},
   "source": [
    "* In order to have some groups to play with, provide a list of transpositions of adjacent points."
   ]
  },
  {
   "cell_type": "code",
   "execution_count": null,
   "id": "dbf673ca",
   "metadata": {},
   "outputs": [],
   "source": [
    "push!(LOAD_PATH, \"./julia\")\n",
    "using permutation"
   ]
  },
  {
   "cell_type": "code",
   "execution_count": null,
   "id": "2bb15cd1",
   "metadata": {},
   "outputs": [],
   "source": [
    "transpositions(n::Integer) = [transposition(n, j-1, j) for j in 2:n]"
   ]
  },
  {
   "cell_type": "markdown",
   "id": "b88e6d37",
   "metadata": {},
   "source": [
    "* For example, on $4$ points (which group do they generate?):"
   ]
  },
  {
   "cell_type": "code",
   "execution_count": null,
   "id": "6184de40",
   "metadata": {},
   "outputs": [],
   "source": [
    "n = 4\n",
    "id = one(Perm, n)\n",
    "swaps = transpositions(n)"
   ]
  },
  {
   "cell_type": "markdown",
   "id": "acdda090",
   "metadata": {},
   "source": [
    "* The plain orbit algorithm is BFS with $x$.next ${} = \\{x.s : s \\in S\\}$.\n",
    "* The action of $G$ on $X$ is described by an **action function** `under`: calling `under(x, s)` returns $x.s$ (&ldquo;$x$ under $s$&rdquo;)."
   ]
  },
  {
   "cell_type": "markdown",
   "id": "1cbd4f79",
   "metadata": {},
   "source": [
    "<div class=\"alert alert-info\">\n",
    "    \n",
    "**Orbit Algorithm**\n",
    "    \n",
    "* **Input:** a list `aaa` of generating operators, a point `x` of the domain $X$, and an action function `under`. \n",
    "* **Output:** the **orbit** $x^G = \\{x.a : a \\in G\\}$ of the point `x` under the action of the group generated by `aaa`.\n",
    "    \n",
    "</div>"
   ]
  },
  {
   "cell_type": "code",
   "execution_count": null,
   "id": "9e3e0ecd",
   "metadata": {},
   "outputs": [],
   "source": [
    "function orbit(aaa, x, under)\n",
    "    list = [x]\n",
    "    for y in list\n",
    "        print(\".\")\n",
    "        for a in aaa\n",
    "            z = under(y, a)\n",
    "            z in list || push!(list, z)\n",
    "        end\n",
    "    end\n",
    "    return list\n",
    "end"
   ]
  },
  {
   "cell_type": "markdown",
   "id": "ce3a821b",
   "metadata": {},
   "source": [
    "* To find the **orbit** of a point $x$ under the group generated by the swaps: apply the orbit algorithm to \n",
    "  - (i) the swaps, \n",
    "  - (ii) the point $x$, \n",
    "  - (iii) the standard action **on points** $(x, a) \\mapsto x^a$"
   ]
  },
  {
   "cell_type": "code",
   "execution_count": null,
   "id": "cb3f6f93",
   "metadata": {},
   "outputs": [],
   "source": [
    "onPoints(x, a) = x^a"
   ]
  },
  {
   "cell_type": "code",
   "execution_count": null,
   "id": "8d4a10b0",
   "metadata": {},
   "outputs": [],
   "source": [
    "orbit(swaps, 2, onPoints)"
   ]
  },
  {
   "cell_type": "markdown",
   "id": "cf9cd8cb",
   "metadata": {},
   "source": [
    "### Elements"
   ]
  },
  {
   "cell_type": "markdown",
   "id": "3305f528",
   "metadata": {},
   "source": [
    "* To find the **elements** of the group generated by the swaps: apply the orbit algorithm to \n",
    "  - (i) the swaps, \n",
    "  - (ii) the identity permutation, \n",
    "  - (iii) the action **on the right** $(x, a) \\mapsto x a$"
   ]
  },
  {
   "cell_type": "code",
   "execution_count": null,
   "id": "97acef78",
   "metadata": {},
   "outputs": [],
   "source": [
    "onRight(x, a) = x * a"
   ]
  },
  {
   "cell_type": "code",
   "execution_count": null,
   "id": "c55934d5",
   "metadata": {},
   "outputs": [],
   "source": [
    "orbit(swaps, id, onRight)"
   ]
  },
  {
   "cell_type": "markdown",
   "id": "63815ad2",
   "metadata": {},
   "source": [
    "* In CGT, it is customary to represent a group $G = \\langle A \\rangle$ by a list $A$ of generators (avoiding the need to list all its elements where possible).\n",
    "\n",
    "* Let's turn the list of generators into a group object, and from now on formulate algorithms in terms of the group."
   ]
  },
  {
   "cell_type": "code",
   "execution_count": null,
   "id": "846c1c5a",
   "metadata": {},
   "outputs": [],
   "source": [
    "struct PermGp\n",
    "    gens::Array{Perm}\n",
    "    one::Perm\n",
    "end"
   ]
  },
  {
   "cell_type": "code",
   "execution_count": null,
   "id": "28ddbbfa",
   "metadata": {},
   "outputs": [],
   "source": [
    "group = PermGp(swaps, id)\n",
    "group.gens"
   ]
  },
  {
   "cell_type": "markdown",
   "id": "954b3d12",
   "metadata": {},
   "source": [
    "* for instance, a function to compute the elements of a group:"
   ]
  },
  {
   "cell_type": "code",
   "execution_count": null,
   "id": "ceaf66d4",
   "metadata": {},
   "outputs": [],
   "source": [
    "elements(group::PermGp) = sort(orbit(group.gens, group.one, onRight))"
   ]
  },
  {
   "cell_type": "markdown",
   "id": "451ccd9c",
   "metadata": {},
   "source": [
    "* test it"
   ]
  },
  {
   "cell_type": "code",
   "execution_count": null,
   "id": "0727ba05",
   "metadata": {
    "scrolled": true
   },
   "outputs": [],
   "source": [
    "eee = elements(group)"
   ]
  },
  {
   "cell_type": "markdown",
   "id": "6865dd84",
   "metadata": {},
   "source": [
    "### Words in the generators"
   ]
  },
  {
   "cell_type": "markdown",
   "id": "b4e1502b",
   "metadata": {},
   "source": [
    "* In order to express the elements of the group as words in the generators, we introduce an action on words.  \n",
    "* For this, the generators will be represented by symbols $1,2,3,\\dotsc$ (Who is acting? On what?)"
   ]
  },
  {
   "cell_type": "code",
   "execution_count": null,
   "id": "d5c56534",
   "metadata": {},
   "outputs": [],
   "source": [
    "onWords(word, s) = vcat(word, s)"
   ]
  },
  {
   "cell_type": "markdown",
   "id": "f8505365",
   "metadata": {},
   "source": [
    "* The orbit algorithm will now produce two lists in parallel: the list `list` of elements as before, and a list `words` of corresponding words.\n",
    "* We now need more control over the lists and make the indices `i` (in `list`) and `k` (in `aaa`) explict.\n",
    "* The loop over `list` becomes a `while` loop an we must not forget to increment `i`."
   ]
  },
  {
   "cell_type": "code",
   "execution_count": null,
   "id": "62b48268",
   "metadata": {},
   "outputs": [],
   "source": [
    "function orbit_with_words(aaa, x, under)\n",
    "    list = [x]\n",
    "    words = [[]]\n",
    "    i = 0\n",
    "    while i < length(list)\n",
    "        i += 1\n",
    "        for k in 1:length(aaa)\n",
    "            z = under(list[i], aaa[k])\n",
    "            if !(z in list)\n",
    "                push!(list, z)\n",
    "                push!(words, onWords(words[i], k))\n",
    "            end\n",
    "        end\n",
    "    end\n",
    "    return Dict(:list => list, :words => words)\n",
    "end;"
   ]
  },
  {
   "cell_type": "markdown",
   "id": "568c1048",
   "metadata": {},
   "source": [
    "* We now can use this new variant of the orbit algorithm in the same way as before."
   ]
  },
  {
   "cell_type": "code",
   "execution_count": null,
   "id": "9f911b45",
   "metadata": {},
   "outputs": [],
   "source": [
    "www = orbit_with_words(swaps, id, onRight)[:words]"
   ]
  },
  {
   "cell_type": "markdown",
   "id": "0ceee440",
   "metadata": {},
   "source": [
    "* Note that, by construction, the orbit algorithm (being a form of BFS) finds a word of shortest possible length for each group element.\n",
    "* In the above example, we can see how the group elements are enumerated by length, as a list that ends with a unique word of longest length.  Not every group might have such a unique longest element."
   ]
  },
  {
   "cell_type": "markdown",
   "id": "9304b4b8",
   "metadata": {},
   "source": [
    "## Conjugacy Classes"
   ]
  },
  {
   "cell_type": "markdown",
   "id": "58377027",
   "metadata": {},
   "source": [
    "* With suitable arguments, `OnPoints` also implements the **conjugation** action of a group $G$ on itself.\n",
    "* We can use the orbit algorithm to compute the conjugacy class of a single element in $G$, and to find the list of all conjugacy classes of $G$."
   ]
  },
  {
   "cell_type": "markdown",
   "id": "b9fdf752",
   "metadata": {},
   "source": [
    "###  Conjugacy Class"
   ]
  },
  {
   "cell_type": "markdown",
   "id": "6ce51397",
   "metadata": {},
   "source": [
    "* To find the **conjugacy class** of an element $x$ of a group: apply the orbit algorithm to \n",
    "  - (i) the generators of the group, \n",
    "  - (ii) the element $x$, \n",
    "  - (iii) the on-points-action $(x, a) \\mapsto x^a = a^{-1} x a$"
   ]
  },
  {
   "cell_type": "code",
   "execution_count": null,
   "id": "fe19f3f1",
   "metadata": {},
   "outputs": [],
   "source": [
    "class(group::PermGp, x::Perm) = sort(orbit(group.gens, x, onPoints))"
   ]
  },
  {
   "cell_type": "markdown",
   "id": "dc3b446b",
   "metadata": {},
   "source": [
    "* test on a random element"
   ]
  },
  {
   "cell_type": "code",
   "execution_count": null,
   "id": "33dea721",
   "metadata": {},
   "outputs": [],
   "source": [
    "a = rand(eee)"
   ]
  },
  {
   "cell_type": "code",
   "execution_count": null,
   "id": "d5227ef9",
   "metadata": {},
   "outputs": [],
   "source": [
    "class(group, a)"
   ]
  },
  {
   "cell_type": "markdown",
   "id": "963308ec",
   "metadata": {},
   "source": [
    "* A conjugacy class really should know its group."
   ]
  },
  {
   "cell_type": "code",
   "execution_count": null,
   "id": "988ba317",
   "metadata": {},
   "outputs": [],
   "source": [
    "struct ConjClass\n",
    "    group::PermGp\n",
    "    elts::Array{Perm}\n",
    "end    "
   ]
  },
  {
   "cell_type": "markdown",
   "id": "d81f153c",
   "metadata": {},
   "source": [
    "* The class of `a` in `G` is denoted (and constructed) as `a^G`."
   ]
  },
  {
   "cell_type": "code",
   "execution_count": null,
   "id": "d592f529",
   "metadata": {},
   "outputs": [],
   "source": [
    "import Base: ^\n",
    "^(perm::Perm, group::PermGp) = ConjClass(group, class(group, perm))"
   ]
  },
  {
   "cell_type": "code",
   "execution_count": null,
   "id": "829ec61d",
   "metadata": {},
   "outputs": [],
   "source": [
    "cl = a^group"
   ]
  },
  {
   "cell_type": "markdown",
   "id": "872eafcf",
   "metadata": {},
   "source": [
    "* Equality: as sorted lists of elements, two classes are the same if their first elements are the same."
   ]
  },
  {
   "cell_type": "code",
   "execution_count": null,
   "id": "a3286565",
   "metadata": {},
   "outputs": [],
   "source": [
    "import Base: ==\n",
    "==(cl::ConjClass, other::ConjClass) = cl.elts[1] == other.elts[1]"
   ]
  },
  {
   "cell_type": "code",
   "execution_count": null,
   "id": "0e131370",
   "metadata": {},
   "outputs": [],
   "source": [
    "a^group == a^group"
   ]
  },
  {
   "cell_type": "code",
   "execution_count": null,
   "id": "619793c1",
   "metadata": {},
   "outputs": [],
   "source": [
    "a^group == (a^0)^group"
   ]
  },
  {
   "cell_type": "markdown",
   "id": "86b04517",
   "metadata": {},
   "source": [
    "###  Conjugacy Classes"
   ]
  },
  {
   "cell_type": "markdown",
   "id": "4fad8d8f",
   "metadata": {},
   "source": [
    "* To find all conjugacy classes of a group, the list of generators itself needs to be closed under conjugation.\n",
    "* We need a version `orbits` of the orbit algorithm that initializes its **queue with several points**, not just one."
   ]
  },
  {
   "cell_type": "code",
   "execution_count": null,
   "id": "2a005a95",
   "metadata": {},
   "outputs": [],
   "source": [
    "function orbits(aaa, xxx, under)\n",
    "    list = copy(xxx)\n",
    "    for y in list\n",
    "        for a in aaa\n",
    "            z = under(y, a)\n",
    "            z in list || push!(list, z)\n",
    "        end\n",
    "    end\n",
    "    return list\n",
    "end"
   ]
  },
  {
   "cell_type": "markdown",
   "id": "9508cc11",
   "metadata": {},
   "source": [
    "* For example, all conjugates of the swaps (what's this set usually called?)"
   ]
  },
  {
   "cell_type": "code",
   "execution_count": null,
   "id": "c9012b0e",
   "metadata": {},
   "outputs": [],
   "source": [
    "orbits(swaps, swaps, onPoints)"
   ]
  },
  {
   "cell_type": "markdown",
   "id": "cb64f806",
   "metadata": {},
   "source": [
    "* The image of a conjugacy class $x^G$ under right multiplication with a group element $a$ is the conjugacy class $(xa)^G$.  (In what sense is this an action? Is it even well-defined?)"
   ]
  },
  {
   "cell_type": "code",
   "execution_count": null,
   "id": "5d36dee4",
   "metadata": {},
   "outputs": [],
   "source": [
    "onClasses(x, a) = (x.elts[1] * a)^(x.group)"
   ]
  },
  {
   "cell_type": "markdown",
   "id": "6598a161",
   "metadata": {},
   "source": [
    "* To find all **conjugacy classes** of a group $G$:\n",
    "  - we close the set `gens` of generators of $G$ under conjugation, and\n",
    "  - compute the orbit of the class $1^G$ of the identity under the above right action on classes."
   ]
  },
  {
   "cell_type": "code",
   "execution_count": null,
   "id": "bdce403c",
   "metadata": {},
   "outputs": [],
   "source": [
    "function conjugacyClasses(group::PermGp)\n",
    "    gens = group.gens\n",
    "    orbit(orbits(gens, gens, onPoints), (group.one)^group, onClasses)\n",
    "end"
   ]
  },
  {
   "cell_type": "code",
   "execution_count": null,
   "id": "a42b6ebe",
   "metadata": {},
   "outputs": [],
   "source": [
    "cc = conjugacyClasses(group)"
   ]
  },
  {
   "cell_type": "code",
   "execution_count": null,
   "id": "f156957c",
   "metadata": {},
   "outputs": [],
   "source": [
    "size(c::ConjClass) = length(c.elts)"
   ]
  },
  {
   "cell_type": "code",
   "execution_count": null,
   "id": "0b66e78a",
   "metadata": {},
   "outputs": [],
   "source": [
    "[size(c) for c in cc]"
   ]
  },
  {
   "cell_type": "code",
   "execution_count": null,
   "id": "aeeb6683",
   "metadata": {},
   "outputs": [],
   "source": [
    "n = 5\n",
    "cc = conjugacyClasses(PermGp(transpositions(n), one(Perm, n)))\n",
    "size.(cc)"
   ]
  },
  {
   "cell_type": "markdown",
   "id": "a2b26ba4",
   "metadata": {},
   "source": [
    "<div class=\"alert alert-success\">\n",
    "\n",
    "**Remarks**\n",
    "\n",
    "* The operators `aaa` need not be invertible, nor do they need to generated a group: the orbit algorithm does not require the use of inverses.\n",
    "* Neither do they need to generate a finite domain: the orbit algorithm can terminate if the list `aaa` and the orbit are finite.\n",
    "\n",
    "</div>"
   ]
  },
  {
   "cell_type": "markdown",
   "id": "e2bbb448",
   "metadata": {},
   "source": [
    "* Sometimes, the operators `aaa` generate a monoid.\n",
    "* A well-known monoid is the power set $2^S$ of a finite set $S$, with set union as its binary operation, generated by the singleton sets $\\{s\\}$, $s \\in S$."
   ]
  },
  {
   "cell_type": "markdown",
   "id": "c05f7eeb",
   "metadata": {},
   "source": [
    "## Subgroups"
   ]
  },
  {
   "cell_type": "markdown",
   "id": "b42bb4a1",
   "metadata": {},
   "source": [
    "* Let $G$ be a group.\n",
    "* The power set $(2^G, \\cup)$ is a monoid, generated by the singletons $\\{a\\}$, $a \\in G$, as atoms.\n",
    "* $2^G$ acts on the subgroups $H$ of $G$ via closure: $H.A = \\langle H, A \\rangle$.  (Check!)"
   ]
  },
  {
   "cell_type": "code",
   "execution_count": null,
   "id": "a0525f18",
   "metadata": {},
   "outputs": [],
   "source": [
    "onGroups := function(x, a)\n",
    "    return ClosureGroup(x, a);\n",
    "end;"
   ]
  },
  {
   "cell_type": "markdown",
   "id": "558df82e",
   "metadata": {},
   "source": [
    "* In fact, each subgroup of $G$ lies in the orbit of the trivial subgroup.  (Check!)"
   ]
  },
  {
   "cell_type": "code",
   "execution_count": null,
   "id": "1c827530",
   "metadata": {},
   "outputs": [],
   "source": [
    "subgroups := function(group)\n",
    "    return orbit(Elements(group), TrivialSubgroup(group), onGroups);\n",
    "end;"
   ]
  },
  {
   "cell_type": "markdown",
   "id": "52271d95",
   "metadata": {},
   "source": [
    "* Let's apply this to our group, generated by the swaps."
   ]
  },
  {
   "cell_type": "code",
   "execution_count": null,
   "id": "22e24974",
   "metadata": {},
   "outputs": [],
   "source": [
    "Size(group);"
   ]
  },
  {
   "cell_type": "code",
   "execution_count": null,
   "id": "093f9312",
   "metadata": {},
   "outputs": [],
   "source": [
    "subs := subgroups(group);"
   ]
  },
  {
   "cell_type": "code",
   "execution_count": null,
   "id": "4bab2f15",
   "metadata": {},
   "outputs": [],
   "source": [
    "Length(subs);"
   ]
  },
  {
   "cell_type": "markdown",
   "id": "4bf8fe09",
   "metadata": {},
   "source": [
    "### Conjugacy Classes of Subgroups"
   ]
  },
  {
   "cell_type": "markdown",
   "id": "0a9a92f0",
   "metadata": {},
   "source": [
    "* Combining ideas from above we can define the image of a conjugacy classe of subgroups $H^G$ under a singleton $\\{a\\}$  as the conjugacy class $\\langle H, a \\rangle^G$. (Is this a well-defined action?)"
   ]
  },
  {
   "cell_type": "code",
   "execution_count": null,
   "id": "ad8ad336",
   "metadata": {},
   "outputs": [],
   "source": [
    "onSubgroupClasses := function(x, a)\n",
    "    return onGroups(Representative(x), a)^ActingDomain(x);\n",
    "end;"
   ]
  },
  {
   "cell_type": "markdown",
   "id": "2cc5561c",
   "metadata": {},
   "source": [
    "* To compute all **conjugacy classes of subgroups** of $G$, we determine the orbit of the class of the trivial subgroup under $(2^G, \\cup)$ with respect to that action.\n",
    "* In fact, it suffices to consider **zuppos** (**z**yklische **U**ntergruppen von **P**rimzahl**p**otenz-**O**rdnung) as potential generators ..."
   ]
  },
  {
   "cell_type": "code",
   "execution_count": null,
   "id": "9d333041",
   "metadata": {},
   "outputs": [],
   "source": [
    "Length(Zuppos(group));"
   ]
  },
  {
   "cell_type": "code",
   "execution_count": null,
   "id": "5469d7f9",
   "metadata": {},
   "outputs": [],
   "source": [
    "subgroupClasses := function(group)\n",
    "    return orbit(Zuppos(group), TrivialSubgroup(group)^group, onSubgroupClasses);\n",
    "end;"
   ]
  },
  {
   "cell_type": "code",
   "execution_count": null,
   "id": "0b65254d",
   "metadata": {},
   "outputs": [],
   "source": [
    "ccs := subgroupClasses(group);"
   ]
  },
  {
   "cell_type": "code",
   "execution_count": null,
   "id": "2b9a208e",
   "metadata": {},
   "outputs": [],
   "source": [
    "Length(ccs);"
   ]
  },
  {
   "cell_type": "code",
   "execution_count": null,
   "id": "487b6b64",
   "metadata": {},
   "outputs": [],
   "source": [
    "List(ccs, Size);"
   ]
  },
  {
   "cell_type": "code",
   "execution_count": null,
   "id": "512c996f",
   "metadata": {},
   "outputs": [],
   "source": [
    "Sum(ccs, Size);"
   ]
  },
  {
   "cell_type": "code",
   "execution_count": null,
   "id": "cb4c9ef1",
   "metadata": {},
   "outputs": [],
   "source": [
    "ccs := subgroupClasses(GroupWithGenerators(transpositions(5)));;\n",
    "Length(ccs);"
   ]
  },
  {
   "cell_type": "markdown",
   "id": "d814411e",
   "metadata": {},
   "source": [
    "## Stabilizer and Transversal"
   ]
  },
  {
   "cell_type": "markdown",
   "id": "e8790b24",
   "metadata": {},
   "source": [
    "* We can use a variant of the orbit algorithm to determine (and remember), for each point $y$ in the $G$-orbit of $x$, a representative element $t_y \\in G$ with $x.t_y = y$.\n",
    "* This list of representatives will form a **transversal** of the cosets of the stabilizer of $x$ in $G$.\n",
    "* By Schreier's Theorem, a generating set for the **stabilizer** can be computed from the transversal."
   ]
  },
  {
   "cell_type": "markdown",
   "id": "cdcd42fe",
   "metadata": {},
   "source": [
    "### Transversal"
   ]
  },
  {
   "cell_type": "markdown",
   "id": "5e77d36f",
   "metadata": {},
   "source": [
    "* We initialize an additional list `reps` with the identity element, mapping $x$ to itself.\n",
    "* Whenever a new coset $z$ is found, as image under $a$ of a coset $y$, we add $t_z := t_y a$ to the list `reps`."
   ]
  },
  {
   "cell_type": "code",
   "execution_count": null,
   "id": "5f3975bc",
   "metadata": {},
   "outputs": [],
   "source": [
    "orbit_with_transversal := function(aaa, x, under)\n",
    "    local   list,  reps,  i,  k,  z;\n",
    "    list := [x];  reps := [aaa[1]^0];  i := 0;\n",
    "    while i < Length(list) do\n",
    "        i := i+1;\n",
    "        for k in [1..Length(aaa)] do\n",
    "            z := under(list[i], aaa[k]);\n",
    "            if not z in list then\n",
    "                Add(list, z);\n",
    "                Add(reps, reps[i] * aaa[k]);\n",
    "            fi;\n",
    "        od;\n",
    "    od;\n",
    "    return rec(list := list, reps := reps);\n",
    "end;"
   ]
  },
  {
   "cell_type": "code",
   "execution_count": null,
   "id": "7c432b65",
   "metadata": {},
   "outputs": [],
   "source": [
    "swaps := transpositions(5);;\n",
    "transversal := orbit_with_transversal(swaps, 2, onPoints);"
   ]
  },
  {
   "cell_type": "markdown",
   "id": "18eced31",
   "metadata": {},
   "source": [
    "### Stabilizer"
   ]
  },
  {
   "cell_type": "markdown",
   "id": "b8d93a46",
   "metadata": {},
   "source": [
    "<div class=\"alert alert-danger\">\n",
    "\n",
    "**Schreier's Theorem.**\n",
    "Suppose a group $G$, generated by a set $S$,\n",
    "acts on a set $X$ and that $\\{t_y : y \\in x^G\\}$ is a transversal\n",
    "of the orbit of $x \\in X$.  Then\n",
    "$$\n",
    "    \\{t_y a t_{y.a}^{-1}: a \\in A,\\, y \\in x^G\\}\n",
    "$$\n",
    "is a set of generators for the stabilizer $G_x$ of $x$ in $G$.\n",
    "    \n",
    "</div>"
   ]
  },
  {
   "cell_type": "markdown",
   "id": "82fef9cd",
   "metadata": {},
   "source": [
    "* In this variant of the orbit algorithm, we also collect the Schreier generators $t_ya t_{y.a}^-1$ in a list `stab`."
   ]
  },
  {
   "cell_type": "code",
   "execution_count": null,
   "id": "b80b1cbe",
   "metadata": {},
   "outputs": [],
   "source": [
    "orbit_with_stabilizer := function(aaa, x, under)\n",
    "    local   list,  reps,  stab,  i,  k,  l,  z;\n",
    "    list := [x];  reps := [aaa[1]^0];  stab := [];  i := 0;\n",
    "    while i < Length(list) do\n",
    "        i := i+1;\n",
    "        for k in [1..Length(aaa)] do\n",
    "            z := under(list[i], aaa[k]);\n",
    "            l := Position(list, z);\n",
    "            if l = fail then\n",
    "                Add(list, z);\n",
    "                Add(reps, reps[i] * aaa[k]);\n",
    "            else   # x^(reps[i] * a) = x^reps[l]\n",
    "                Add(stab, reps[i] * aaa[k] / reps[l]);\n",
    "            fi;\n",
    "        od;\n",
    "    od;\n",
    "    return rec(list := list, reps := reps, stab := stab);\n",
    "end;"
   ]
  },
  {
   "cell_type": "code",
   "execution_count": null,
   "id": "a727429b",
   "metadata": {},
   "outputs": [],
   "source": [
    "stabilizer := orbit_with_stabilizer(swaps, 2, OnPoints);"
   ]
  },
  {
   "cell_type": "markdown",
   "id": "fb7312a7",
   "metadata": {},
   "source": [
    "## Stabilizer Chain"
   ]
  },
  {
   "cell_type": "markdown",
   "id": "b6c45003",
   "metadata": {},
   "source": [
    "* Schreier's theorem gives generators of the stabilizer, which can be subjected to further orbit calculations.\n",
    "* Applying the above ideas along a chain of stabilizers can yield information about the whole group."
   ]
  },
  {
   "cell_type": "markdown",
   "id": "1fbf2d83",
   "metadata": {},
   "source": [
    "### Order of the Group"
   ]
  },
  {
   "cell_type": "markdown",
   "id": "798f7df5",
   "metadata": {},
   "source": [
    "* By the Orbit-Stabilzer Lemma: $|G| = |x^G| \\, |G_x| = |x^G| \\, |y^{G_x}| \\, |G_{x, y}| = {\\dots}$"
   ]
  },
  {
   "cell_type": "code",
   "execution_count": null,
   "id": "775b8829",
   "metadata": {},
   "outputs": [],
   "source": [
    "sizeOfGroup := function(group)\n",
    "    local x, orb, stab;\n",
    "    if group = TrivialSubgroup(group) then return 1; fi;\n",
    "    x := LargestMovedPoint(group);\n",
    "    orb := orbit_with_stabilizer(GeneratorsOfGroup(group), x, OnPoints);\n",
    "    stab := Subgroup(group, Difference(orb.stab, [()]));\n",
    "    return sizeOfGroup(stab) * Length(orb.reps);\n",
    "end;"
   ]
  },
  {
   "cell_type": "code",
   "execution_count": null,
   "id": "b297d94a",
   "metadata": {},
   "outputs": [],
   "source": [
    "sizeOfGroup(group);"
   ]
  },
  {
   "cell_type": "markdown",
   "id": "cc01b688",
   "metadata": {},
   "source": [
    "* Some slightly bigger examples:"
   ]
  },
  {
   "cell_type": "code",
   "execution_count": null,
   "id": "50b555b5",
   "metadata": {},
   "outputs": [],
   "source": [
    "group := Group(transpositions(10));"
   ]
  },
  {
   "cell_type": "code",
   "execution_count": null,
   "id": "99b2054a",
   "metadata": {},
   "outputs": [],
   "source": [
    "sizeOfGroup(group);"
   ]
  },
  {
   "cell_type": "code",
   "execution_count": null,
   "id": "e060e80d",
   "metadata": {},
   "outputs": [],
   "source": [
    "m24:= Group([\n",
    "  (1,2,3,4,5,6,7,8,9,10,11,12,13,14,15,16,17,18,19,20,21,22,23),\n",
    "  (3,17,10,7,9)(4,13,14,19,5)(8,18,11,12,23)(15,20,22,21,16),\n",
    "  (1,24)(2,23)(3,12)(4,16)(5,18)(6,10)(7,20)(8,14)(9,21)(11,17)(13,22)(15,19) \n",
    "]);;\n",
    "sizeOfGroup(m24);"
   ]
  },
  {
   "cell_type": "markdown",
   "id": "9a4f0172",
   "metadata": {},
   "source": [
    "###  Random Element"
   ]
  },
  {
   "cell_type": "markdown",
   "id": "71130ece",
   "metadata": {},
   "source": [
    "* Random elements of a group: along the same lines as `sizeOfGroup`"
   ]
  },
  {
   "cell_type": "code",
   "execution_count": null,
   "id": "89730bd1",
   "metadata": {},
   "outputs": [],
   "source": [
    "randomGroupElement := function(group)\n",
    "    local x, orb, stab;\n",
    "    if group = TrivialSubgroup(group) then return Identity(group); fi;\n",
    "    x := LargestMovedPoint(group);\n",
    "    orb := orbit_with_stabilizer(GeneratorsOfGroup(group), x, OnPoints);\n",
    "    stab := Subgroup(group, Difference(orb.stab, [()]));\n",
    "    return randomGroupElement(stab) * Random(orb.reps);\n",
    "end;"
   ]
  },
  {
   "cell_type": "code",
   "execution_count": null,
   "id": "c01cc902",
   "metadata": {},
   "outputs": [],
   "source": [
    "randomGroupElement(m24);"
   ]
  },
  {
   "cell_type": "markdown",
   "id": "20333d25",
   "metadata": {},
   "source": [
    "* Check: These random elements are **uniformly distributed**!"
   ]
  },
  {
   "cell_type": "code",
   "execution_count": null,
   "id": "04af8284",
   "metadata": {},
   "outputs": [],
   "source": [
    "group := Group(transpositions(4));\n",
    "Collected(List([1..2400], i-> randomGroupElement(group)));"
   ]
  },
  {
   "cell_type": "markdown",
   "id": "8275c4d4",
   "metadata": {},
   "source": [
    "* Also, using similar ideas:\n",
    "  * **membership** test: $a \\in G$?\n",
    "  * express element as **word in the generators**: $a = s_1 \\dotsm s_k$\n",
    "  * **homomorphisms** (defined on generators): $\\phi(a) = \\phi(s_1) \\dotsm \\phi(s_k)$"
   ]
  },
  {
   "cell_type": "markdown",
   "id": "bb5cfeb3",
   "metadata": {},
   "source": [
    "## Graphs"
   ]
  },
  {
   "cell_type": "markdown",
   "id": "2d05c32e",
   "metadata": {},
   "source": [
    "* With a further small modification, the orbit algorithm can keep track of edges and thus construct the **action graph**.  \n",
    "* Recall that this is a labelled directed graph, with vertices $x, y \\in X$ and edges $x \\stackrel{a}{\\to} y$, whenever $x.s = y$ for $x, y \\in X$, and $s \\in S$.  \n",
    "* We need to decide on a data structure for such graphs.  The simplest, perhaps, is a list of pairs of indices, each representing an edge."
   ]
  },
  {
   "cell_type": "code",
   "execution_count": null,
   "id": "de07a622",
   "metadata": {},
   "outputs": [],
   "source": [
    "LoadPackage(\"jupyterviz\");  # thanks: Nathan Carter @bentley.edu\n",
    "opts := rec(vertexwidth := 12, vertexheight := 12, edgecolor := \"#def\");"
   ]
  },
  {
   "cell_type": "code",
   "execution_count": null,
   "id": "b9b1cf9a",
   "metadata": {},
   "outputs": [],
   "source": [
    "PlotGraph([[2,4],[2,6],[2,8],[4,4]], opts);"
   ]
  },
  {
   "cell_type": "markdown",
   "id": "be7d2cdc",
   "metadata": {},
   "source": [
    "* Let's turn the tree from the beginning into an edge list and plot it."
   ]
  },
  {
   "cell_type": "code",
   "execution_count": null,
   "id": "f9b0aeaa",
   "metadata": {},
   "outputs": [],
   "source": [
    "edges := List([1..Length(parent)], i -> [i, parent[i]]);\n",
    "edges[6][2] := 6;\n",
    "PlotGraph(edges, opts);"
   ]
  },
  {
   "cell_type": "markdown",
   "id": "1c3cf3ae",
   "metadata": {},
   "source": [
    "* A variant of the orbit algorithm keeps track of the edges in a list `edges`.\n",
    "* For each newly constructed point $z := y.a$, the simple membership test `z in list` needs to be replaced by finding `Position(list, z)`.\n",
    "* In GAP, `Position` returns `fail` if the element is not found."
   ]
  },
  {
   "cell_type": "code",
   "execution_count": null,
   "id": "421ded4f",
   "metadata": {},
   "outputs": [],
   "source": [
    "orbit_with_edges := function(aaa, x, under)\n",
    "    local   list,  edges,  i,  k,  l,  z;\n",
    "    list := [x];  edges := [];  i := 0;\n",
    "    while i < Length(list) do\n",
    "        i := i+1;\n",
    "        for k in [1..Length(aaa)] do\n",
    "            z := under(list[i], aaa[k]);\n",
    "            l := Position(list, z);\n",
    "            if l = fail then\n",
    "                Add(list, z);\n",
    "                l := Length(list);\n",
    "            fi;\n",
    "            Add(edges, [i, l]);\n",
    "        od;\n",
    "    od;\n",
    "    return rec(list := list, edges := edges);\n",
    "end;"
   ]
  },
  {
   "cell_type": "markdown",
   "id": "d4d1c476",
   "metadata": {},
   "source": [
    "* Examples:"
   ]
  },
  {
   "cell_type": "code",
   "execution_count": null,
   "id": "9e1763a0",
   "metadata": {},
   "outputs": [],
   "source": [
    "edges := orbit_with_edges(swaps, 1, OnPoints).edges;"
   ]
  },
  {
   "cell_type": "code",
   "execution_count": null,
   "id": "5997142a",
   "metadata": {},
   "outputs": [],
   "source": [
    "PlotGraph(Set(edges), opts);"
   ]
  },
  {
   "cell_type": "code",
   "execution_count": null,
   "id": "f59dbf3c",
   "metadata": {},
   "outputs": [],
   "source": [
    "edges := orbit_with_edges(swaps, [1,2], OnPairs).edges;;\n",
    "edges := Filtered(Set(edges), x-> x[1] <> x[2]);"
   ]
  },
  {
   "cell_type": "code",
   "execution_count": null,
   "id": "0af83508",
   "metadata": {},
   "outputs": [],
   "source": [
    "PlotGraph(edges, opts);"
   ]
  },
  {
   "cell_type": "code",
   "execution_count": null,
   "id": "867a8d8b",
   "metadata": {},
   "outputs": [],
   "source": [
    "edges := orbit_with_edges(transpositions(6), [1,2], OnSets).edges;;\n",
    "edges := Filtered(Set(edges), x-> x[1] <> x[2]);"
   ]
  },
  {
   "cell_type": "code",
   "execution_count": null,
   "id": "c8742e31",
   "metadata": {},
   "outputs": [],
   "source": [
    "PlotGraph(Set(edges), opts);"
   ]
  },
  {
   "cell_type": "code",
   "execution_count": null,
   "id": "2ce44f56",
   "metadata": {},
   "outputs": [],
   "source": [
    "edges := orbit_with_edges(transpositions(4), (), OnRight).edges;;\n",
    "edges := Filtered(Set(edges), x-> x[1] <> x[2]);"
   ]
  },
  {
   "cell_type": "code",
   "execution_count": null,
   "id": "04f8bfc7",
   "metadata": {},
   "outputs": [],
   "source": [
    "PlotGraph(edges, opts);"
   ]
  },
  {
   "cell_type": "markdown",
   "id": "923e852a",
   "metadata": {},
   "source": [
    "### Permutations"
   ]
  },
  {
   "cell_type": "markdown",
   "id": "5444cfb7",
   "metadata": {},
   "source": [
    "* The action graph is in fact a directed graph.\n",
    "* It encodes the permutations induced by the action on the domain.\n",
    "* For this (and other applications) it will be more convenient to store the edge information in a different format: as lists of `images`."
   ]
  },
  {
   "cell_type": "code",
   "execution_count": null,
   "id": "65f83e6b",
   "metadata": {},
   "outputs": [],
   "source": [
    "orbit_with_images := function(aaa, x, under)\n",
    "    local   list,  images,  i,  k,  l,  z;\n",
    "    list := [x];  i := 0;\n",
    "    images := List(aaa, x -> []);\n",
    "    while i < Length(list) do\n",
    "        i := i+1;\n",
    "        for k in [1..Length(aaa)] do\n",
    "            z := under(list[i], aaa[k]);\n",
    "            l := Position(list, z);\n",
    "            if l = fail then\n",
    "                Add(list, z);\n",
    "                l := Length(list);\n",
    "            fi;\n",
    "            images[k][i] := l;\n",
    "        od;\n",
    "    od;\n",
    "    return rec(list := list, images := images);\n",
    "end;"
   ]
  },
  {
   "cell_type": "markdown",
   "id": "a0e801db",
   "metadata": {},
   "source": [
    "* For example:"
   ]
  },
  {
   "cell_type": "code",
   "execution_count": null,
   "id": "62f6250f",
   "metadata": {},
   "outputs": [],
   "source": [
    "swaps := transpositions(5);\n",
    "orb := orbit_with_images(transpositions(5), 1, OnPoints);"
   ]
  },
  {
   "cell_type": "markdown",
   "id": "987898ce",
   "metadata": {},
   "source": [
    "* `PermList` converts an image list into a permutation (in disjoint cycle form)."
   ]
  },
  {
   "cell_type": "code",
   "execution_count": null,
   "id": "8da22a58",
   "metadata": {},
   "outputs": [],
   "source": [
    "List(orb.images, PermList);"
   ]
  },
  {
   "cell_type": "markdown",
   "id": "0a122c7f",
   "metadata": {},
   "source": [
    "* A more interesting example:"
   ]
  },
  {
   "cell_type": "code",
   "execution_count": null,
   "id": "0f466bb5",
   "metadata": {},
   "outputs": [],
   "source": [
    "orb := orbit_with_images(swaps, [1,2], OnSets);;\n",
    "List(orb.images, PermList);"
   ]
  },
  {
   "cell_type": "markdown",
   "id": "b1aa0696",
   "metadata": {},
   "source": [
    "* When the images are converted into edges, it helps to be able to list entries together with their position in a list.  This can be regarded as the transpose of the usual two-line notation for permutations."
   ]
  },
  {
   "cell_type": "code",
   "execution_count": null,
   "id": "097ba295",
   "metadata": {},
   "outputs": [],
   "source": [
    "list_with_index := list -> List([1..Length(list)], i -> [i, list[i]]);"
   ]
  },
  {
   "cell_type": "code",
   "execution_count": null,
   "id": "697a2683",
   "metadata": {},
   "outputs": [],
   "source": [
    "list_with_index(orb.images[1]);"
   ]
  },
  {
   "cell_type": "code",
   "execution_count": null,
   "id": "bd98a784",
   "metadata": {},
   "outputs": [],
   "source": [
    "edges := Union(List(orb.images, list_with_index));;\n",
    "PlotGraph(Filtered(edges, x -> x[1] <> x[2]));"
   ]
  },
  {
   "cell_type": "markdown",
   "id": "7a6aec62",
   "metadata": {},
   "source": [
    "## Exercises"
   ]
  },
  {
   "cell_type": "markdown",
   "id": "ebc7b14a",
   "metadata": {},
   "source": [
    "* Is Euclid's Algorithm BFS or DFS?  What is the tree behind it, vertices, edges?  Make the tree explicit and use it to formulate the [Extended Euclidean Algorithm](https://en.wikipedia.org/wiki/Extended_Euclidean_algorithm), which expresses the gcd $d$ of $a$ and $b$ as a linear combination $d = ax + by$."
   ]
  },
  {
   "cell_type": "markdown",
   "id": "83597ab5",
   "metadata": {},
   "source": [
    "* **Pólya Action**.  The symmetric group of degree $n$ acts on the words of length $n$ (over a finite alphabet $A$) by rearranging the letters of a given word.  In GAP, this action is called `Permuted`.  Compute the orbit of the word `\"11222\"` under the action, find the permutations induced by the action on the list of all words in the orbit, plot the action graph and determine the stabilizer of the word."
   ]
  },
  {
   "cell_type": "code",
   "execution_count": null,
   "id": "ef8904bd",
   "metadata": {},
   "outputs": [],
   "source": [
    "word := [1,1,2,2,2];;  swaps := transpositions(Length(word));;\n",
    "orb := orbit_with_images(swaps, word, Permuted);;\n",
    "stab := orbit_with_stabilizer(swaps, word, Permuted);;\n",
    "orb.list;"
   ]
  },
  {
   "cell_type": "markdown",
   "id": "877bc40e",
   "metadata": {},
   "source": [
    "*  Show that the partition of a (finite) group into conjugacy classes can be computed as an orbit under right multiplication, provided that the set of generators is closed under conjugation."
   ]
  },
  {
   "cell_type": "markdown",
   "id": "ca56eb9f",
   "metadata": {},
   "source": [
    "* For a finite group $G$, show that the monoid $(2^G, \\cup)$ acts on the set of subgroups of $G$, and that each subgroup of $G$ lies in the orbit of the trivial subgroup under this action."
   ]
  },
  {
   "cell_type": "markdown",
   "id": "12b4cf30",
   "metadata": {},
   "source": [
    "* Show that the conjugacy classes of subgroups of a finite group can be computed as an orbit under the action of its power set."
   ]
  },
  {
   "cell_type": "markdown",
   "id": "5de2dac2",
   "metadata": {},
   "source": [
    "* Prove Schreier's Theorem."
   ]
  },
  {
   "cell_type": "markdown",
   "id": "27de3386",
   "metadata": {},
   "source": [
    "* Show that the power set $2^A = \\{B : B \\subseteq A\\}$ of a (finite) set $A$ is the orbit of $A$ under the take-away action:\n",
    "```gap\n",
    "takeAway := function(set, s)\n",
    "    return Difference(set, [s]);\n",
    "end;\n",
    "```"
   ]
  },
  {
   "cell_type": "code",
   "execution_count": null,
   "id": "a11564fc",
   "metadata": {},
   "outputs": [],
   "source": [
    "Read(\"syt.g\");\n",
    "set := \"piza\";\n",
    "orbit(set, set, takeAway);"
   ]
  },
  {
   "cell_type": "markdown",
   "id": "4db700d0",
   "metadata": {},
   "source": [
    "* Describe other interesting problems, where the right choice of action turns the solution into an application of the orbit algorithm."
   ]
  },
  {
   "cell_type": "markdown",
   "id": "b188446c",
   "metadata": {},
   "source": [
    "* A **composition** of $n$ is a sequence $c = (c_1, \\dots, c_k)$ of positive integers.  Set up a bijection between the set of compositions of $n$ and the power set of $A = \\{1,\\dots, n{-}1\\}$ (so that $A$ corresponds to the composition $(n)$, and the subset relationship on $2^A$ corresponds to refinement of compositions).  Use the bijective correspondence to compute the set of all compositions of $n$ as orbit of $(n)$ under a suitable take-away action."
   ]
  },
  {
   "cell_type": "markdown",
   "id": "7fcdb60c",
   "metadata": {},
   "source": [
    "* A **partition** of $n$ is a composition $\\lambda = (l_1, \\dots, l_k)$ where $l_1 \\geq \\dots \\geq l_k$.  Thus, sorting the parts of any composition in decreasing order yields a partition.  In that sense, a partition is a canonical representative of a rearrangement class of compositions.  Compute the partitions of $n$ as orbit of the partition $(n)$ under a suitable action on canonical composition rearrangement class representatives."
   ]
  },
  {
   "cell_type": "code",
   "execution_count": null,
   "id": "44fd6b28",
   "metadata": {},
   "outputs": [],
   "source": [
    "Read(\"syt.g\");\n",
    "p4:= partitions(4);"
   ]
  },
  {
   "cell_type": "markdown",
   "id": "d80996d2",
   "metadata": {},
   "source": [
    "* Formulate a version of BFS that, for a given vertex $x$ in a simple connected graph $\\Gamma$, finds a **shortest path** to any vertex $y$ in $\\Gamma$."
   ]
  },
  {
   "cell_type": "markdown",
   "id": "7d10d973",
   "metadata": {},
   "source": [
    "* Formulate an algorithm that, for given vertex in a simple connected graph $\\Gamma$, finds **all** shortest paths to any vertex $y$ in $\\Gamma$."
   ]
  },
  {
   "cell_type": "markdown",
   "id": "b17844c6",
   "metadata": {},
   "source": [
    "* Say that a partition $\\lambda$ **covers** a partition $\\mu$ if $\\mu$ can be obtained by decreasing a part of $\\lambda$ by $1$.  Denote by $\\geq$ the reflexive and transitive closure of the covering relation.  The **Young lattice** $Y(\\lambda)$ is the graph on all partitions $\\mu \\leq \\lambda$ with the covering relation as edges.  For a partition $\\lambda$, compute its Young lattice $Y(\\lambda)$ as orbit of $\\lambda$ under a suitable action."
   ]
  },
  {
   "cell_type": "markdown",
   "id": "946cdc49",
   "metadata": {},
   "source": [
    "* A **standard Young diagram** (SYT) of shape $\\lambda$ is a shortest path from the empty partition $\\emptyset$ to $\\lambda$ in the Young lattice $Y(\\lambda)$. For a given partition $\\lambda$, compute all SYTs of shape $\\lambda$ as a set of shortest paths."
   ]
  },
  {
   "cell_type": "code",
   "execution_count": null,
   "id": "270328fb",
   "metadata": {},
   "outputs": [],
   "source": [
    "Read(\"syt.g\");\n",
    "l:= standardYTs([3,1]);\n",
    "PrintArray(tableau_path(l[3]));"
   ]
  },
  {
   "cell_type": "markdown",
   "id": "fd8ca33b",
   "metadata": {},
   "source": [
    "* A **round trip** of shape $\\lambda$ is a shortest path from $\\emptyset$ to $\\lambda$ and back along a \n",
    "(possibly different) shortest path. Verify that the total number of round trips to all the partitions $\\lambda$ of $4$ is $24$.  What is the general formula for the total number of round trips for all partitions of $n$? Why?"
   ]
  },
  {
   "cell_type": "code",
   "execution_count": null,
   "id": "8159f158",
   "metadata": {},
   "outputs": [],
   "source": [
    "Read(\"syt.g\");\n",
    "Sum(partitions(4), x-> Length(standardYTs(x))^2);"
   ]
  },
  {
   "cell_type": "markdown",
   "id": "5d4086de",
   "metadata": {},
   "source": [
    "* Implement the **group membership test** $x \\in G$, using stabilizers."
   ]
  },
  {
   "cell_type": "markdown",
   "id": "f91f209f",
   "metadata": {},
   "source": [
    "* ($*$) In practice, the number of Schreier generators of the stabilizers in the chain can grow very fast, in larger examples.  The **Schreier-Sims** algorithm intertwines orbit calculations and membership tests to keep the number of necessary generators small.  Implement such a strategy."
   ]
  },
  {
   "cell_type": "markdown",
   "id": "b33ebe50",
   "metadata": {},
   "source": [
    "* ($**$) Compute the order of the Rubik's cube group\n",
    "```gap\n",
    "cube := Group(\n",
    "( 1, 3, 8, 6)( 2, 5, 7, 4)( 9,33,25,17)(10,34,26,18)(11,35,27,19),\n",
    "( 9,11,16,14)(10,13,15,12)( 1,17,41,40)( 4,20,44,37)( 6,22,46,35),\n",
    "(17,19,24,22)(18,21,23,20)( 6,25,43,16)( 7,28,42,13)( 8,30,41,11),\n",
    "(25,27,32,30)(26,29,31,28)( 3,38,43,19)( 5,36,45,21)( 8,33,48,24),\n",
    "(33,35,40,38)(34,37,39,36)( 3, 9,46,32)( 2,12,47,29)( 1,14,48,27),\n",
    "(41,43,48,46)(42,45,47,44)(14,22,30,38)(15,23,31,39)(16,24,32,40) \n",
    ");;\n",
    "```"
   ]
  },
  {
   "cell_type": "code",
   "execution_count": null,
   "id": "72ea87d0",
   "metadata": {},
   "outputs": [],
   "source": [
    "Read(\"sims.g\");\n",
    "Read(\"cube.g\");\n",
    "size_sims(cube);"
   ]
  },
  {
   "cell_type": "code",
   "execution_count": null,
   "id": "6cafc94f",
   "metadata": {},
   "outputs": [],
   "source": []
  }
 ],
 "metadata": {
  "kernelspec": {
   "display_name": "Julia 1.8.5",
   "language": "julia",
   "name": "julia-1.8"
  },
  "language_info": {
   "file_extension": ".jl",
   "mimetype": "application/julia",
   "name": "julia",
   "version": "1.8.5"
  }
 },
 "nbformat": 4,
 "nbformat_minor": 5
}
